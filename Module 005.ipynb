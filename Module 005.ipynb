{
 "cells": [
  {
   "cell_type": "markdown",
   "metadata": {},
   "source": [
    "<h1>Support Vector Machines</h1>"
   ]
  },
  {
   "cell_type": "markdown",
   "metadata": {},
   "source": [
    "<img src=\"https://rlv.zcache.com/i_support_vector_machines_coffee_mug-rb87ddcefceec4a23a747b2fc6dc80c72_x7jgr_8byvr_540.jpg\" />"
   ]
  },
  {
   "cell_type": "markdown",
   "metadata": {},
   "source": [
    "<h2>History</h2>\n",
    "<img src=\"https://www.nae.edu/File.aspx?id=41448\" width=\"200\" /><img src=\"http://skandaly.ru/wp-content/uploads/2015/01/Screenshot_2.jpg\" width=\"200\" />\n",
    "<p>The original SVM algorithm was invented by Vladimir N. Vapnik and Alexey Ya. Chervonenkis in 1963.</p>"
   ]
  },
  {
   "cell_type": "markdown",
   "metadata": {},
   "source": [
    "<h2>Separable and Non-separable Data</h2>"
   ]
  },
  {
   "cell_type": "markdown",
   "metadata": {},
   "source": [
    "<img src=\"https://4.bp.blogspot.com/-hVpaRjqD2-s/WV1ajxdZvpI/AAAAAAAABzo/xXTNAfinHggb2ychpZ_1Pjg2OGwViq42ACLcBGAs/s1600/Capture.PNG\" />"
   ]
  },
  {
   "cell_type": "markdown",
   "metadata": {},
   "source": [
    "<p><b>What if data is non-separable?</b></p>\n",
    "<p><i>Hint:</i> take the data to a higher dimensional space separable with a hyper-plane</p>"
   ]
  },
  {
   "cell_type": "markdown",
   "metadata": {},
   "source": [
    "<h2>Mathematical Derivation</h2>"
   ]
  },
  {
   "cell_type": "markdown",
   "metadata": {},
   "source": [
    "<img src=\"https://sandipanweb.files.wordpress.com/2018/04/svm_slack.png?w=676\" />"
   ]
  },
  {
   "cell_type": "markdown",
   "metadata": {},
   "source": [
    "<h3>Line Equation</h3>"
   ]
  },
  {
   "cell_type": "markdown",
   "metadata": {},
   "source": [
    "$$ \\omega^{T} X + b = 0 $$"
   ]
  },
  {
   "cell_type": "markdown",
   "metadata": {},
   "source": [
    "<h3>Target Value</h3>"
   ]
  },
  {
   "cell_type": "markdown",
   "metadata": {},
   "source": [
    "$$ y = \\omega^{T} X + b = \\{+1, -1\\} $$"
   ]
  },
  {
   "cell_type": "markdown",
   "metadata": {},
   "source": [
    "<h3>Substitution</h3>"
   ]
  },
  {
   "cell_type": "markdown",
   "metadata": {},
   "source": [
    "$$ y_{1} = \\omega^{T} X_{1} + b = +1 $$\n",
    "$$ y_{2} = \\omega^{T} X_{2} + b = +1 $$"
   ]
  },
  {
   "cell_type": "markdown",
   "metadata": {},
   "source": [
    "<h3>Distance</h3>"
   ]
  },
  {
   "cell_type": "markdown",
   "metadata": {},
   "source": [
    "$$ y1 - y2 = \\omega^{T} (X_{1} - X_{2}) = 2 $$"
   ]
  },
  {
   "cell_type": "markdown",
   "metadata": {},
   "source": [
    "<h3>Normalize</h3>"
   ]
  },
  {
   "cell_type": "markdown",
   "metadata": {},
   "source": [
    "$$ \\frac{\\omega^{T}}{\\Vert{\\omega}\\Vert} ( X_{1} - X_{2} ) = \\frac{2}{\\Vert{\\omega}\\Vert} $$"
   ]
  },
  {
   "cell_type": "markdown",
   "metadata": {},
   "source": [
    "<h3>Objective Function</h3>"
   ]
  },
  {
   "cell_type": "markdown",
   "metadata": {},
   "source": [
    "$$ arg \\quad max ( \\frac{2}{\\Vert\\omega\\Vert} ) $$"
   ]
  },
  {
   "cell_type": "markdown",
   "metadata": {},
   "source": [
    "<i> subject to the condition that every sample is classified correctly </i>"
   ]
  },
  {
   "cell_type": "markdown",
   "metadata": {},
   "source": [
    "$$ y_{i} ( \\omega^{T} X_{i} + b ) \\geq +1 \\qquad \\forall i \\in N $$\n",
    "Rewrite as for convenience:\n",
    "$$ y_{i} ( \\omega^{T} X_{i} + b ) - 1 = 0 \\qquad \\forall i \\in N $$"
   ]
  },
  {
   "cell_type": "markdown",
   "metadata": {},
   "source": [
    "<h3>Equivalent Objective Function</h3>"
   ]
  },
  {
   "cell_type": "markdown",
   "metadata": {},
   "source": [
    "$$ arg \\quad min ( \\frac{1}{2} \\Vert\\omega\\Vert ) $$\n",
    "For convenience:\n",
    "$$ arg \\quad min ( \\frac{1}{2} \\Vert\\omega\\Vert^2 ) $$"
   ]
  },
  {
   "cell_type": "markdown",
   "metadata": {},
   "source": [
    "<h3>Primal to Dual: Lagrange Multiplier</h3>"
   ]
  },
  {
   "cell_type": "markdown",
   "metadata": {},
   "source": [
    "<p>It is easier to solve the optimization problem in the dual rather than the primal space, since there are less number of variables.</p>\n",
    "<p>Convert constrained optimization to unconstrained convex</p>\n",
    "$$ arg \\quad min \\quad L = objective - coefficients \\quad x \\quad constraints $$"
   ]
  },
  {
   "cell_type": "markdown",
   "metadata": {},
   "source": [
    "$$ L = \\frac{1}{2} \\Vert\\omega\\Vert^2 - ( \\sum_{i} \\alpha_{i} ( y_{i} ( \\omega^{T} x_{i} + b ) - 1 ) ) $$"
   ]
  },
  {
   "cell_type": "markdown",
   "metadata": {},
   "source": [
    "<h4>Differentiation</h4>"
   ]
  },
  {
   "cell_type": "markdown",
   "metadata": {},
   "source": [
    "Differentiate to the support vector parameters w & b:\n",
    "$$ \\frac{\\delta L}{\\delta \\omega} = \\omega - \\sum_{i} \\alpha_{i} y_{i} x_{i} = 0 \\qquad \\longrightarrow \\qquad \\omega = \\sum_{i} \\alpha_{i} y_{i} x_{i} $$\n",
    "$$ \\frac{\\delta L}{\\delta b} = \\sum_{i} \\alpha_{i} y_{i} = 0 \\qquad \\longrightarrow \\qquad \\sum_{i} \\alpha_{i} y_{i} = 0 $$"
   ]
  },
  {
   "cell_type": "markdown",
   "metadata": {},
   "source": [
    "<h4>Substitution</h4>"
   ]
  },
  {
   "cell_type": "markdown",
   "metadata": {},
   "source": [
    "$$ L = \\frac{1}{2} \\sum_{i} \\alpha_{i} y_{i} x_{i} \\sum_{j} \\alpha_{j} y_{j} x_{j} - (\\sum_{i} \\alpha_{i} y_{i} x_{i} \\sum_{j} \\alpha_{j} y_{j} x_{j}) - \\sum_{i} \\alpha_{i} \\alpha_{i} y_{i} b + \\sum_{i} \\alpha_{i} $$\n",
    "$$ L = \\sum_{i} \\alpha_{i} - \\frac{1}{2} \\sum_{i} \\sum_{j} \\alpha_{i} \\alpha_{j} y_{i} y_{j} x_{i}^{T} x_{j} $$"
   ]
  },
  {
   "cell_type": "markdown",
   "metadata": {},
   "source": [
    "<h3>Quadratic Programming</h3>"
   ]
  },
  {
   "cell_type": "markdown",
   "metadata": {},
   "source": [
    "<p>Quadratic programming (QP) is the process of solving a special type of mathematical optimization problem—specifically, a (linearly constrained) quadratic optimization problem, that is, the problem of optimizing (minimizing or maximizing) a quadratic function of several variables subject to linear constraints on these variables. Quadratic programming is a particular type of nonlinear programming.</p>"
   ]
  },
  {
   "cell_type": "markdown",
   "metadata": {},
   "source": [
    "<img src=\"https://optimization.mccormick.northwestern.edu/images/0/07/QPPic.JPG\" />"
   ]
  },
  {
   "cell_type": "markdown",
   "metadata": {},
   "source": [
    "minimize $$ \\frac{1}{2} X^T Q X + c^{T} X $$\n",
    "subject to $$ AX \\leq b $$"
   ]
  },
  {
   "cell_type": "markdown",
   "metadata": {},
   "source": [
    "<h3>Objective Function Reformulation</h3>"
   ]
  },
  {
   "cell_type": "markdown",
   "metadata": {},
   "source": [
    "maximize $$ f(\\alpha, x) = \\sum_{i} \\alpha_{i} - \\frac{1}{2} \\sum_{i,j} \\alpha_{i} \\alpha_{j} y_{i} y_{j} x^{T}_{i} x_{j} $$\n",
    "subject to $$ 0 \\leq \\alpha_{i} \\leq C \\quad, \\qquad \\sum_{i} \\alpha_{i} y_{i} = 0 $$\n",
    "where $$ \\omega = \\sum_{i} \\alpha_{i} y_{i} x_{i} $$\n",
    "and $ \\alpha_{i} $ mostly equals zero which is equivalent to saying that only a few x samples matter to select the support vectors"
   ]
  },
  {
   "cell_type": "markdown",
   "metadata": {},
   "source": [
    "<p>The take home is that:</p>\n",
    "    <ul>\n",
    "    <li>Only few support vectors support determine the boundary</li>\n",
    "    <li>The optimization is completely dependent on the dot product ( projection ) of the samples</li>\n",
    "    </ul>"
   ]
  },
  {
   "cell_type": "markdown",
   "metadata": {},
   "source": [
    "<h2>Kernels & Transform</h2>"
   ]
  },
  {
   "cell_type": "markdown",
   "metadata": {},
   "source": [
    "<p>Find a transformation that maximizes the inter class separation in cartesian space</p>\n",
    "<p>Some popular kernel functions are the linear, polynomial, Gaussian (RBF, corresponding to the infinite dimensional space) kernels.</p>"
   ]
  },
  {
   "cell_type": "markdown",
   "metadata": {},
   "source": [
    "$$ \\phi(x_{i}, x_{j}) = \\phi(x_{i})^{T} \\phi(x_{j}) $$"
   ]
  },
  {
   "cell_type": "markdown",
   "metadata": {},
   "source": [
    "<ul>\n",
    "    <li>Linear Kernel</li>\n",
    "    $$ (x_{i}^{T} x_{j} + 1)^{n} $$\n",
    "    <li>Polynomial Kernel</li>\n",
    "    $$ $$\n",
    "    <li>Non-linear Kernel ( Gaußian Kernel )</li>\n",
    "    $$ e^{-\\frac{\\Vert x_{i} - x_{j} \\Vert}{\\sigma}} $$\n",
    "</ul>"
   ]
  },
  {
   "cell_type": "markdown",
   "metadata": {},
   "source": [
    "<p>The objective function becomes:</p>\n",
    "    maximize $$ f(\\alpha, x) = \\sum_{i} \\alpha_{i} - \\frac{1}{2} \\sum_{i,j} \\alpha_{i} \\alpha_{j} y_{i} y_{j}  \\phi(x_{i}, x_{j}) $$"
   ]
  },
  {
   "cell_type": "markdown",
   "metadata": {},
   "source": [
    "<h2>Demo</h2>\n",
    "<b>CVXOPT Quadratic Programming</b> [<a href=\"http://cvxopt.org/userguide/coneprog.html#quadratic-programming\">Reference</a>]"
   ]
  },
  {
   "cell_type": "code",
   "execution_count": 1,
   "metadata": {},
   "outputs": [],
   "source": [
    "import numpy as np\n",
    "import cvxopt"
   ]
  },
  {
   "cell_type": "markdown",
   "metadata": {},
   "source": [
    "<h4>CVXOPT Notation</h4>\n",
    "<code>cvxopt.solvers.qp(P, q, G, h, A, b)</code>\n",
    "<img src=\"http://cvxopt.org/userguide/_images/math/4a1d5a88630fc2310b16135d0ae191d396ebae9e.png\" />"
   ]
  },
  {
   "cell_type": "markdown",
   "metadata": {},
   "source": [
    "<h4>SVM QP</h4>$$ P = y_{i} y_{j}  \\phi(x_{i}, x_{j}) $$\n",
    "$$ q = [1, ..., 1] * -1 $$\n",
    "$$ G = Identity * C $$\n",
    "$$ h =  [0, ..., 0] $$\n",
    "$$ A =  \\sum_{i} y_{i} $$\n",
    "$$ b = 0 $$"
   ]
  },
  {
   "cell_type": "markdown",
   "metadata": {},
   "source": [
    "<h4> Generate Linearly Separable Data </h4>"
   ]
  },
  {
   "cell_type": "code",
   "execution_count": 2,
   "metadata": {},
   "outputs": [],
   "source": [
    "def gen_lin_separable_data():\n",
    "    # generate training data in the 2-d case\n",
    "    mean1 = np.array([0, 2])\n",
    "    mean2 = np.array([2, 0])\n",
    "    cov = np.array([[0.8, 0.6], [0.6, 0.8]])\n",
    "    X1 = np.random.multivariate_normal(mean1, cov, 100)\n",
    "    y1 = np.ones(len(X1))\n",
    "    X2 = np.random.multivariate_normal(mean2, cov, 100)\n",
    "    y2 = np.ones(len(X2)) * -1\n",
    "    return X1, y1, X2, y2\n",
    "X1, y1, X2, y2 = gen_lin_separable_data()"
   ]
  },
  {
   "cell_type": "code",
   "execution_count": 3,
   "metadata": {},
   "outputs": [
    {
     "data": {
      "text/plain": [
       "(100, 2)"
      ]
     },
     "execution_count": 3,
     "metadata": {},
     "output_type": "execute_result"
    }
   ],
   "source": [
    "X1.shape"
   ]
  },
  {
   "cell_type": "code",
   "execution_count": 4,
   "metadata": {},
   "outputs": [
    {
     "data": {
      "text/plain": [
       "(100,)"
      ]
     },
     "execution_count": 4,
     "metadata": {},
     "output_type": "execute_result"
    }
   ],
   "source": [
    "y1.shape"
   ]
  },
  {
   "cell_type": "code",
   "execution_count": 5,
   "metadata": {},
   "outputs": [],
   "source": [
    "import matplotlib.pyplot as plt\n",
    "%matplotlib inline"
   ]
  },
  {
   "cell_type": "code",
   "execution_count": 6,
   "metadata": {},
   "outputs": [
    {
     "data": {
      "text/plain": [
       "[<matplotlib.lines.Line2D at 0x7f3aafa48c50>]"
      ]
     },
     "execution_count": 6,
     "metadata": {},
     "output_type": "execute_result"
    },
    {
     "data": {
      "image/png": "[encoded data removed]",
      "text/plain": [
       "<matplotlib.figure.Figure at 0x7f3aafa48c88>"
      ]
     },
     "metadata": {},
     "output_type": "display_data"
    }
   ],
   "source": [
    "plt.plot(X1[:,0], X1[:,1], \"rx\")\n",
    "plt.plot(X2[:,0], X2[:,1], \"bo\")"
   ]
  },
  {
   "cell_type": "markdown",
   "metadata": {},
   "source": [
    "<h4>Train Test Split</h4>"
   ]
  },
  {
   "cell_type": "code",
   "execution_count": 7,
   "metadata": {},
   "outputs": [],
   "source": [
    "X_train = np.vstack((X1[:90], X2[:90]))\n",
    "y_train = np.hstack((y1[:90], y2[:90]))"
   ]
  },
  {
   "cell_type": "code",
   "execution_count": 8,
   "metadata": {},
   "outputs": [],
   "source": [
    "X_test = np.vstack((X1[90:], X2[90:]))\n",
    "y_test = np.hstack((y1[90:], y2[90:]))"
   ]
  },
  {
   "cell_type": "code",
   "execution_count": 9,
   "metadata": {},
   "outputs": [
    {
     "name": "stdout",
     "output_type": "stream",
     "text": [
      "(180, 2) (180,) (20, 2) (20,)\n"
     ]
    }
   ],
   "source": [
    "print(X_train.shape, y_train.shape, X_test.shape, y_test.shape)"
   ]
  },
  {
   "cell_type": "markdown",
   "metadata": {},
   "source": [
    "<h4>Train SVM</h4>"
   ]
  },
  {
   "cell_type": "markdown",
   "metadata": {},
   "source": [
    "<h5>np.outer vs np.dot</h5>"
   ]
  },
  {
   "cell_type": "code",
   "execution_count": 10,
   "metadata": {},
   "outputs": [
    {
     "data": {
      "text/plain": [
       "(3, 3)"
      ]
     },
     "execution_count": 10,
     "metadata": {},
     "output_type": "execute_result"
    }
   ],
   "source": [
    "x = np.random.normal(0, 1, (3, 3))\n",
    "np.dot(x, x).shape"
   ]
  },
  {
   "cell_type": "code",
   "execution_count": 11,
   "metadata": {},
   "outputs": [
    {
     "data": {
      "text/plain": [
       "(9, 9)"
      ]
     },
     "execution_count": 11,
     "metadata": {},
     "output_type": "execute_result"
    }
   ],
   "source": [
    "np.outer(x, x).shape"
   ]
  },
  {
   "cell_type": "markdown",
   "metadata": {},
   "source": [
    "<h5>CVXOPT Matrix</h5>"
   ]
  },
  {
   "cell_type": "code",
   "execution_count": 12,
   "metadata": {},
   "outputs": [
    {
     "data": {
      "text/plain": [
       "<1x180 matrix, tc='d'>"
      ]
     },
     "execution_count": 12,
     "metadata": {},
     "output_type": "execute_result"
    }
   ],
   "source": [
    "cvxopt.matrix(y_train, (1, 180))"
   ]
  },
  {
   "cell_type": "markdown",
   "metadata": {},
   "source": [
    "<h5> G & h </h5>"
   ]
  },
  {
   "cell_type": "code",
   "execution_count": 13,
   "metadata": {},
   "outputs": [
    {
     "data": {
      "text/plain": [
       "(<3x3 matrix, tc='d'>, <3x1 matrix, tc='d'>)"
      ]
     },
     "execution_count": 13,
     "metadata": {},
     "output_type": "execute_result"
    }
   ],
   "source": [
    "G = cvxopt.matrix(np.diag(np.ones(3) * -1))\n",
    "h = cvxopt.matrix(np.zeros(3))\n",
    "G, h"
   ]
  },
  {
   "cell_type": "markdown",
   "metadata": {},
   "source": [
    "<h5>Flatten Matrix</h5>"
   ]
  },
  {
   "cell_type": "code",
   "execution_count": 14,
   "metadata": {},
   "outputs": [
    {
     "data": {
      "text/plain": [
       "(9,)"
      ]
     },
     "execution_count": 14,
     "metadata": {},
     "output_type": "execute_result"
    }
   ],
   "source": [
    "x = np.random.normal(0, 1, (3, 3))\n",
    "np.ravel(x).shape"
   ]
  },
  {
   "cell_type": "markdown",
   "metadata": {},
   "source": [
    "<h5>Qauadratic Program</h5>"
   ]
  },
  {
   "cell_type": "code",
   "execution_count": 15,
   "metadata": {},
   "outputs": [
    {
     "name": "stdout",
     "output_type": "stream",
     "text": [
      "     pcost       dcost       gap    pres   dres\n",
      " 0: -1.6325e+01 -3.1015e+01  6e+02  2e+01  2e+00\n",
      " 1: -1.6879e+01 -1.3110e+01  2e+02  8e+00  7e-01\n",
      " 2: -3.1718e+01 -1.7297e+01  2e+02  6e+00  4e-01\n",
      " 3: -1.3159e+01 -5.2377e+00  4e+01  1e+00  9e-02\n",
      " 4: -2.3409e+00 -3.7805e+00  1e+00  6e-15  1e-14\n",
      " 5: -3.2797e+00 -3.4223e+00  1e-01  3e-15  5e-15\n",
      " 6: -3.3937e+00 -3.3951e+00  1e-03  6e-16  6e-15\n",
      " 7: -3.3948e+00 -3.3948e+00  1e-05  6e-16  6e-15\n",
      " 8: -3.3948e+00 -3.3948e+00  1e-07  5e-16  6e-15\n",
      "Optimal solution found.\n"
     ]
    },
    {
     "data": {
      "text/plain": [
       "array([6.50728379e-10, 4.45935091e-10, 2.59285126e-10, 1.95741228e-10,\n",
       "       4.20510498e-10, 2.61892927e-10, 3.34079526e-10, 3.84776843e-10,\n",
       "       3.73841498e-10, 2.00264268e-10, 1.98320351e-10, 1.78354869e-10,\n",
       "       1.69624267e-10, 5.03731353e-10, 1.69142434e-10, 3.35667968e-10,\n",
       "       2.86930320e-10, 3.49699868e-10, 4.34059946e-10, 4.78325387e-10,\n",
       "       5.57621575e-10, 1.19762739e-09, 2.82228608e-10, 3.47117126e-10,\n",
       "       1.75840899e-09, 4.85667151e-10, 6.27297600e-10, 2.92907863e-10,\n",
       "       4.04643756e-10, 3.06540510e-10, 5.40431980e-10, 3.24236062e-10,\n",
       "       2.92538273e-10, 2.47080587e-10, 1.27201591e-09, 1.70359935e-10,\n",
       "       8.92424481e-01, 4.21732924e-10, 4.05915753e-10, 5.83512360e-10,\n",
       "       2.90322217e-10, 2.55282135e-10, 4.65758859e-10, 2.36310959e-10,\n",
       "       3.16610047e-10, 2.78970422e-10, 4.28821979e-10, 2.24224154e-10,\n",
       "       3.53506753e-10, 7.98735849e-10, 2.96027667e-10, 1.37901243e-10,\n",
       "       1.39905624e-09, 2.31839798e-10, 3.02300711e-10, 4.00280161e-10,\n",
       "       5.78527159e-10, 2.11453063e-10, 1.91743985e-10, 3.51100440e-10,\n",
       "       1.91004534e-10, 2.06679709e-10, 7.91017212e-10, 1.95765262e-10,\n",
       "       6.68528159e-10, 2.03485302e-10, 2.77706068e-09, 2.48497820e-10,\n",
       "       5.20464018e-10, 2.13569620e-10, 3.05996045e-10, 1.68630899e-10,\n",
       "       2.50239695e+00, 2.13698692e-10, 1.44648694e-10, 3.59819378e-10,\n",
       "       4.10514042e-10, 3.03181202e-10, 1.49348732e-10, 2.15793491e-10,\n",
       "       2.20139892e-10, 2.56326567e-10, 2.71656843e-10, 4.43686428e-10,\n",
       "       2.68456584e-10, 1.47499383e-10, 4.82013990e-10, 2.56869558e-10,\n",
       "       3.12482262e-10, 3.38746638e-10, 2.05732166e-10, 1.77642565e-10,\n",
       "       2.02870663e-10, 3.53150497e-10, 1.56801984e-10, 2.59956584e-10,\n",
       "       2.44339237e-10, 1.61131977e-10, 6.64308096e-10, 3.10483227e-10,\n",
       "       1.52454152e-10, 4.61124068e-10, 2.22542594e-10, 1.63278713e-10,\n",
       "       3.27173785e-10, 5.40438287e-10, 3.37562653e-10, 2.22055739e-10,\n",
       "       1.39690997e-10, 1.66859804e-10, 1.97070848e-10, 1.70275582e-10,\n",
       "       4.64801383e-10, 1.56028712e-10, 1.38544100e-10, 1.70342644e-10,\n",
       "       1.31421664e-10, 2.05330990e-10, 2.06640389e-10, 2.34142534e-10,\n",
       "       1.60707659e-10, 4.97873810e-10, 1.84247968e-10, 2.11254419e-10,\n",
       "       1.85853428e-10, 3.73409063e-10, 3.03843451e-10, 5.47860121e-10,\n",
       "       2.44878814e-10, 1.88752321e-10, 1.77375535e-10, 3.39482145e+00,\n",
       "       3.37217529e-10, 1.92211442e-10, 1.86412574e-10, 1.44482057e-10,\n",
       "       2.47923245e-10, 1.48729069e-10, 1.90683213e-10, 1.23109849e-10,\n",
       "       1.79272778e-10, 2.16045822e-10, 3.06633748e-10, 1.96406977e-10,\n",
       "       1.90967503e-10, 3.48161778e-10, 2.82993263e-10, 1.85948230e-10,\n",
       "       2.50909329e-10, 1.69200740e-10, 1.31897857e-10, 3.33815427e-10,\n",
       "       3.09756251e-10, 3.66887813e-10, 1.61145834e-10, 2.22895346e-10,\n",
       "       1.93144680e-10, 1.95154597e-10, 2.58121407e-10, 2.01366117e-10,\n",
       "       2.19767471e-10, 2.18896447e-10, 2.03243269e-10, 2.95328091e-10,\n",
       "       4.80092496e-10, 1.53030031e-10, 4.10387120e-10, 2.19393881e-10,\n",
       "       1.71459964e-10, 3.86091349e-10, 5.07635170e-10, 3.18693238e-10,\n",
       "       1.85018769e-10, 3.42900060e-10, 2.01680630e-10, 2.81270710e-10,\n",
       "       2.23208832e-10, 2.57094225e-10, 2.49412851e-10, 3.27859130e-10])"
      ]
     },
     "execution_count": 15,
     "metadata": {},
     "output_type": "execute_result"
    }
   ],
   "source": [
    "def solve_qp(X, y):\n",
    "    n_samples, n_features = X.shape\n",
    "\n",
    "    K = np.zeros((n_samples, n_samples))\n",
    "    for i in range(n_samples):\n",
    "        for j in range(n_samples):\n",
    "            K[i,j] = np.dot(X[i], X[j])\n",
    "\n",
    "    P = cvxopt.matrix(np.outer(y,y) * K)\n",
    "    q = cvxopt.matrix(np.ones(n_samples) * -1)\n",
    "    A = cvxopt.matrix(y, (1,n_samples))\n",
    "    b = cvxopt.matrix(0.0)\n",
    "\n",
    "    G = cvxopt.matrix(np.diag(np.ones(n_samples) * -1))\n",
    "    h = cvxopt.matrix(np.zeros(n_samples))\n",
    "\n",
    "    # solve QP problem\n",
    "    solution = cvxopt.solvers.qp(P, q, G, h, A, b)\n",
    "    return np.ravel(solution[\"x\"])\n",
    "solution_x = solve_qp(X_train, y_train)\n",
    "solution_x"
   ]
  },
  {
   "cell_type": "code",
   "execution_count": 16,
   "metadata": {},
   "outputs": [
    {
     "data": {
      "text/plain": [
       "array([False, False, False, False, False, False, False, False, False,\n",
       "       False, False, False, False, False, False, False, False, False,\n",
       "       False, False, False, False, False, False, False, False, False,\n",
       "       False, False, False, False, False, False, False, False, False,\n",
       "        True, False, False, False, False, False, False, False, False,\n",
       "       False, False, False, False, False, False, False, False, False,\n",
       "       False, False, False, False, False, False, False, False, False,\n",
       "       False, False, False, False, False, False, False, False, False,\n",
       "        True, False, False, False, False, False, False, False, False,\n",
       "       False, False, False, False, False, False, False, False, False,\n",
       "       False, False, False, False, False, False, False, False, False,\n",
       "       False, False, False, False, False, False, False, False, False,\n",
       "       False, False, False, False, False, False, False, False, False,\n",
       "       False, False, False, False, False, False, False, False, False,\n",
       "       False, False, False, False, False,  True, False, False, False,\n",
       "       False, False, False, False, False, False, False, False, False,\n",
       "       False, False, False, False, False, False, False, False, False,\n",
       "       False, False, False, False, False, False, False, False, False,\n",
       "       False, False, False, False, False, False, False, False, False,\n",
       "       False, False, False, False, False, False, False, False, False])"
      ]
     },
     "execution_count": 16,
     "metadata": {},
     "output_type": "execute_result"
    }
   ],
   "source": [
    "solution_x > 1e-5"
   ]
  },
  {
   "cell_type": "code",
   "execution_count": 17,
   "metadata": {},
   "outputs": [
    {
     "data": {
      "text/plain": [
       "array([[-1.90880749, -0.47771703],\n",
       "       [ 1.59382462,  2.12099424],\n",
       "       [ 1.13039942,  0.82143074]])"
      ]
     },
     "execution_count": 17,
     "metadata": {},
     "output_type": "execute_result"
    }
   ],
   "source": [
    "X_train[solution_x > 1e-7]"
   ]
  },
  {
   "cell_type": "code",
   "execution_count": 18,
   "metadata": {},
   "outputs": [
    {
     "data": {
      "text/plain": [
       "array([ 1.,  1., -1.])"
      ]
     },
     "execution_count": 18,
     "metadata": {},
     "output_type": "execute_result"
    }
   ],
   "source": [
    "y_train[solution_x > 1e-7]"
   ]
  },
  {
   "cell_type": "code",
   "execution_count": 19,
   "metadata": {},
   "outputs": [
    {
     "data": {
      "text/plain": [
       "array([ 36,  72, 131])"
      ]
     },
     "execution_count": 19,
     "metadata": {},
     "output_type": "execute_result"
    }
   ],
   "source": [
    "np.arange(len(solution_x))[solution_x > 1e-7]"
   ]
  },
  {
   "cell_type": "code",
   "execution_count": 20,
   "metadata": {},
   "outputs": [
    {
     "data": {
      "text/plain": [
       "array([0.89242448, 2.50239695, 3.39482145])"
      ]
     },
     "execution_count": 20,
     "metadata": {},
     "output_type": "execute_result"
    }
   ],
   "source": [
    "solution_x[solution_x > 1e-7]"
   ]
  },
  {
   "cell_type": "markdown",
   "metadata": {},
   "source": [
    "<h5>Train Function</h5>"
   ]
  },
  {
   "cell_type": "code",
   "execution_count": 21,
   "metadata": {},
   "outputs": [],
   "source": [
    "def train(X, y):\n",
    "    n_samples, n_features = X.shape\n",
    "\n",
    "    K = np.zeros((n_samples, n_samples))\n",
    "    for i in range(n_samples):\n",
    "        for j in range(n_samples):\n",
    "            K[i,j] = np.dot(X[i], X[j])\n",
    "\n",
    "    P = cvxopt.matrix(np.outer(y,y) * K)\n",
    "    q = cvxopt.matrix(np.ones(n_samples) * -1)\n",
    "    A = cvxopt.matrix(y, (1,n_samples))\n",
    "    b = cvxopt.matrix(0.0)\n",
    "\n",
    "    G = cvxopt.matrix(np.diag(np.ones(n_samples) * -1))\n",
    "    h = cvxopt.matrix(np.zeros(n_samples))\n",
    "\n",
    "    # solve QP problem\n",
    "    solution = cvxopt.solvers.qp(P, q, G, h, A, b)\n",
    "\n",
    "    # Lagrange multipliers\n",
    "    a = np.ravel(solution['x'])\n",
    "\n",
    "    # Support vectors have non zero lagrange multipliers\n",
    "    sv = a > 1e-7\n",
    "    ind = np.arange(len(a))[sv]\n",
    "    a = a[sv]\n",
    "    sv = X[sv]\n",
    "    sv_y = y[sv]\n",
    "    print(\"%d support vectors out of %d points\" % (len(a), n_samples))\n",
    "\n",
    "    # Intercept\n",
    "    b = 0\n",
    "    for n in range(len(self.a)):\n",
    "        b += sv_y[n]\n",
    "        b -= np.sum(a * sv_y * K[ind[n],sv])\n",
    "    b /= len(a)\n",
    "\n",
    "    # Weight vector\n",
    "    w = np.zeros(n_features)\n",
    "    for n in range(len(a)):\n",
    "        w += a[n] * sv_y[n] * sv[n]\n",
    "        \n",
    "    return w, b"
   ]
  }
 ],
 "metadata": {
  "kernelspec": {
   "display_name": "Python 3",
   "language": "python",
   "name": "python3"
  },
  "language_info": {
   "codemirror_mode": {
    "name": "ipython",
    "version": 3
   },
   "file_extension": ".py",
   "mimetype": "text/x-python",
   "name": "python",
   "nbconvert_exporter": "python",
   "pygments_lexer": "ipython3",
   "version": "3.6.4"
  }
 },
 "nbformat": 4,
 "nbformat_minor": 2
}
