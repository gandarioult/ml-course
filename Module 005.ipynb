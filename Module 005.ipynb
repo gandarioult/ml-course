{
 "cells": [
  {
   "cell_type": "markdown",
   "metadata": {},
   "source": [
    "<h1>Support Vector Machines</h1>"
   ]
  },
  {
   "cell_type": "markdown",
   "metadata": {},
   "source": [
    "<img src=\"https://rlv.zcache.com/i_support_vector_machines_coffee_mug-rb87ddcefceec4a23a747b2fc6dc80c72_x7jgr_8byvr_540.jpg\" />"
   ]
  },
  {
   "cell_type": "markdown",
   "metadata": {},
   "source": [
    "<h2>History</h2>\n",
    "<img src=\"https://www.nae.edu/File.aspx?id=41448\" width=\"200\" /><img src=\"http://skandaly.ru/wp-content/uploads/2015/01/Screenshot_2.jpg\" width=\"200\" />\n",
    "<p>The original SVM algorithm was invented by Vladimir N. Vapnik and Alexey Ya. Chervonenkis in 1963.</p>"
   ]
  },
  {
   "cell_type": "markdown",
   "metadata": {},
   "source": [
    "<h2>Separable and Non-separable Data</h2>"
   ]
  },
  {
   "cell_type": "markdown",
   "metadata": {},
   "source": [
    "<img src=\"https://4.bp.blogspot.com/-hVpaRjqD2-s/WV1ajxdZvpI/AAAAAAAABzo/xXTNAfinHggb2ychpZ_1Pjg2OGwViq42ACLcBGAs/s1600/Capture.PNG\" />"
   ]
  },
  {
   "cell_type": "markdown",
   "metadata": {},
   "source": [
    "<p><b>What if data is non-separable?</b></p>\n",
    "<p><i>Hint:</i> take the data to a higher dimensional space separable with a hyper-plane</p>"
   ]
  },
  {
   "cell_type": "markdown",
   "metadata": {},
   "source": [
    "<h2>Mathematical Derivation</h2>"
   ]
  },
  {
   "cell_type": "markdown",
   "metadata": {},
   "source": [
    "<img src=\"https://sandipanweb.files.wordpress.com/2018/04/svm_slack.png?w=676\" />"
   ]
  },
  {
   "cell_type": "markdown",
   "metadata": {},
   "source": [
    "<h3>1,000 Feet View</h3>\n",
    "<img src=\"\" />"
   ]
  },
  {
   "cell_type": "markdown",
   "metadata": {},
   "source": [
    "<img src=\"http://res.cloudinary.com/dzl9mwemk/image/upload/v1524780974/svm_gmh0er.png\" />"
   ]
  },
  {
   "cell_type": "markdown",
   "metadata": {},
   "source": [
    "<h3>Line Equation</h3>"
   ]
  },
  {
   "cell_type": "markdown",
   "metadata": {},
   "source": [
    "$$ \\omega^{T} X + b = 0 $$"
   ]
  },
  {
   "cell_type": "markdown",
   "metadata": {},
   "source": [
    "<h3>Target Value</h3>"
   ]
  },
  {
   "cell_type": "markdown",
   "metadata": {},
   "source": [
    "$$ y = \\omega^{T} X + b = \\{+1, -1\\} $$"
   ]
  },
  {
   "cell_type": "markdown",
   "metadata": {},
   "source": [
    "<h3>Substitution</h3>"
   ]
  },
  {
   "cell_type": "markdown",
   "metadata": {},
   "source": [
    "$$ y_{1} = \\omega^{T} X_{1} + b = +1 $$\n",
    "$$ y_{2} = \\omega^{T} X_{2} + b = +1 $$"
   ]
  },
  {
   "cell_type": "markdown",
   "metadata": {},
   "source": [
    "<h3>Distance</h3>"
   ]
  },
  {
   "cell_type": "markdown",
   "metadata": {},
   "source": [
    "$$ y1 - y2 = \\omega^{T} (X_{1} - X_{2}) = 2 $$"
   ]
  },
  {
   "cell_type": "markdown",
   "metadata": {},
   "source": [
    "<h3>Normalize</h3>"
   ]
  },
  {
   "cell_type": "markdown",
   "metadata": {},
   "source": [
    "$$ \\frac{\\omega^{T}}{\\Vert{\\omega}\\Vert} ( X_{1} - X_{2} ) = \\frac{2}{\\Vert{\\omega}\\Vert} $$"
   ]
  },
  {
   "cell_type": "markdown",
   "metadata": {},
   "source": [
    "<h3>Objective Function</h3>"
   ]
  },
  {
   "cell_type": "markdown",
   "metadata": {},
   "source": [
    "$$ arg \\quad max ( \\frac{2}{\\Vert\\omega\\Vert} ) $$"
   ]
  },
  {
   "cell_type": "markdown",
   "metadata": {},
   "source": [
    "<i> subject to the condition that every sample is classified correctly </i>"
   ]
  },
  {
   "cell_type": "markdown",
   "metadata": {},
   "source": [
    "$$ y_{i} ( \\omega^{T} X_{i} + b ) \\geq +1 \\qquad \\forall i \\in N $$\n",
    "Rewrite as for convenience:\n",
    "$$ y_{i} ( \\omega^{T} X_{i} + b ) - 1 = 0 \\qquad \\forall i \\in N $$"
   ]
  },
  {
   "cell_type": "markdown",
   "metadata": {},
   "source": [
    "<h3>Equivalent Objective Function</h3>"
   ]
  },
  {
   "cell_type": "markdown",
   "metadata": {},
   "source": [
    "$$ arg \\quad min ( \\frac{1}{2} \\Vert\\omega\\Vert ) $$\n",
    "For convenience:\n",
    "$$ arg \\quad min ( \\frac{1}{2} \\Vert\\omega\\Vert^2 ) $$"
   ]
  },
  {
   "cell_type": "markdown",
   "metadata": {},
   "source": [
    "<h3>Primal to Dual: Lagrange Multiplier</h3>"
   ]
  },
  {
   "cell_type": "markdown",
   "metadata": {},
   "source": [
    "<p>It is easier to solve the optimization problem in the dual rather than the primal space, since there are less number of variables.</p>\n",
    "<p>Convert constrained optimization to unconstrained convex</p>\n",
    "$$ arg \\quad min \\quad L = objective - coefficients \\quad x \\quad constraints $$"
   ]
  },
  {
   "cell_type": "markdown",
   "metadata": {},
   "source": [
    "$$ L = \\frac{1}{2} \\Vert\\omega\\Vert^2 - ( \\sum_{i} \\alpha_{i} ( y_{i} ( \\omega^{T} x_{i} + b ) - 1 ) ) $$"
   ]
  },
  {
   "cell_type": "markdown",
   "metadata": {},
   "source": [
    "<h4>Differentiation</h4>"
   ]
  },
  {
   "cell_type": "markdown",
   "metadata": {},
   "source": [
    "Differentiate to the support vector parameters w & b:\n",
    "$$ \\frac{\\delta L}{\\delta \\omega} = \\omega - \\sum_{i} \\alpha_{i} y_{i} x_{i} = 0 \\qquad \\longrightarrow \\qquad \\omega = \\sum_{i} \\alpha_{i} y_{i} x_{i} $$\n",
    "$$ \\frac{\\delta L}{\\delta b} = \\sum_{i} \\alpha_{i} y_{i} = 0 \\qquad \\longrightarrow \\qquad \\sum_{i} \\alpha_{i} y_{i} = 0 $$"
   ]
  },
  {
   "cell_type": "markdown",
   "metadata": {},
   "source": [
    "<h4>Substitution</h4>"
   ]
  },
  {
   "cell_type": "markdown",
   "metadata": {},
   "source": [
    "$$ L = \\frac{1}{2} \\sum_{i} \\alpha_{i} y_{i} x_{i} \\sum_{j} \\alpha_{j} y_{j} x_{j} - (\\sum_{i} \\alpha_{i} y_{i} x_{i} \\sum_{j} \\alpha_{j} y_{j} x_{j}) - \\sum_{i} \\alpha_{i} \\alpha_{i} y_{i} b + \\sum_{i} \\alpha_{i} $$\n",
    "$$ L = \\sum_{i} \\alpha_{i} - \\frac{1}{2} \\sum_{i} \\sum_{j} \\alpha_{i} \\alpha_{j} y_{i} y_{j} x_{i}^{T} x_{j} $$"
   ]
  },
  {
   "cell_type": "markdown",
   "metadata": {},
   "source": [
    "<h3>Quadratic Programming</h3>"
   ]
  },
  {
   "cell_type": "markdown",
   "metadata": {},
   "source": [
    "<p>Quadratic programming (QP) is the process of solving a special type of mathematical optimization problem—specifically, a (linearly constrained) quadratic optimization problem, that is, the problem of optimizing (minimizing or maximizing) a quadratic function of several variables subject to linear constraints on these variables. Quadratic programming is a particular type of nonlinear programming.</p>"
   ]
  },
  {
   "cell_type": "markdown",
   "metadata": {},
   "source": [
    "<img src=\"https://optimization.mccormick.northwestern.edu/images/0/07/QPPic.JPG\" />"
   ]
  },
  {
   "cell_type": "markdown",
   "metadata": {},
   "source": [
    "minimize $$ \\frac{1}{2} X^T Q X + c^{T} X $$\n",
    "subject to $$ AX \\leq b $$"
   ]
  },
  {
   "cell_type": "markdown",
   "metadata": {},
   "source": [
    "<h3>Objective Function Reformulation</h3>"
   ]
  },
  {
   "cell_type": "markdown",
   "metadata": {},
   "source": [
    "maximize $$ f(\\alpha, x) = \\sum_{i} \\alpha_{i} - \\frac{1}{2} \\sum_{i,j} \\alpha_{i} \\alpha_{j} y_{i} y_{j} x^{T}_{i} x_{j} $$\n",
    "subject to $$ 0 \\leq \\alpha_{i} \\leq C \\quad, \\qquad \\sum_{i} \\alpha_{i} y_{i} = 0 $$\n",
    "where $$ \\omega = \\sum_{i} \\alpha_{i} y_{i} x_{i} $$\n",
    "and $ \\alpha_{i} $ mostly equals zero which is equivalent to saying that only a few x samples matter to select the support vectors"
   ]
  },
  {
   "cell_type": "markdown",
   "metadata": {},
   "source": [
    "<p>The take home is that:</p>\n",
    "    <ul>\n",
    "    <li>Only few support vectors support determine the boundary</li>\n",
    "    <li>The optimization is completely dependent on the dot product ( projection ) of the samples</li>\n",
    "    </ul>"
   ]
  },
  {
   "cell_type": "markdown",
   "metadata": {},
   "source": [
    "<h3>From Dual to Primal</h3>\n",
    "<p>After we solve the quadratic program, then we convert the formula back to find our boundary parameters: w, b</p>\n",
    "$$ \\omega = \\sum_{i} \\alpha_{i} y_{i} x_{i} $$\n",
    "$$ b = \\sum_{i} ( y_{i} - \\omega x_{i} ) $$"
   ]
  },
  {
   "cell_type": "markdown",
   "metadata": {},
   "source": [
    "<h2>Kernels & Transform</h2>"
   ]
  },
  {
   "cell_type": "markdown",
   "metadata": {},
   "source": [
    "<p>Find a transformation that maximizes the inter class separation in cartesian space</p>\n",
    "<p>Some popular kernel functions are the linear, polynomial, Gaussian (RBF, corresponding to the infinite dimensional space) kernels.</p>"
   ]
  },
  {
   "cell_type": "markdown",
   "metadata": {},
   "source": [
    "$$ \\phi(x_{i}, x_{j}) = \\phi(x_{i})^{T} \\phi(x_{j}) $$"
   ]
  },
  {
   "cell_type": "markdown",
   "metadata": {},
   "source": [
    "<ul>\n",
    "    <li>Linear Kernel</li>\n",
    "    $$ x_{i}^{T} x_{j} $$\n",
    "    <li>Polynomial Kernel</li>\n",
    "    $$ (x_{i}^{T} x_{j} + 1)^{n} $$\n",
    "    <li>Non-linear Kernel ( Gaußian Kernel )</li>\n",
    "    $$ e^{-\\frac{\\Vert x_{i} - x_{j} \\Vert^{2}} {2 \\sigma^{2}}} $$\n",
    "</ul>"
   ]
  },
  {
   "cell_type": "markdown",
   "metadata": {},
   "source": [
    "<p>The objective function becomes:</p>\n",
    "    maximize $$ f(\\alpha, x) = \\sum_{i} \\alpha_{i} - \\frac{1}{2} \\sum_{i,j} \\alpha_{i} \\alpha_{j} y_{i} y_{j}  \\phi(x_{i}, x_{j}) $$"
   ]
  },
  {
   "cell_type": "markdown",
   "metadata": {},
   "source": [
    "<h3>From Dual to Primal ( Kernel )</h3\n",
    "$$ \\omega = \\sum_{i} \\alpha_{i} y_{i} \\phi (x_{i}) $$\n",
    "$$ b = \\sum_{i} (y_{i} - \\sum_{j} \\alpha_{i} y_{i} \\phi (x_{i}, x_{j})) $$"
   ]
  },
  {
   "cell_type": "markdown",
   "metadata": {},
   "source": [
    "<h2>Demo</h2>\n",
    "<b>CVXOPT Quadratic Programming</b> [<a href=\"http://cvxopt.org/userguide/coneprog.html#quadratic-programming\">Reference</a>]"
   ]
  },
  {
   "cell_type": "code",
   "execution_count": 1,
   "metadata": {},
   "outputs": [],
   "source": [
    "import numpy as np\n",
    "import cvxopt"
   ]
  },
  {
   "cell_type": "markdown",
   "metadata": {},
   "source": [
    "<h4>CVXOPT Notation</h4>\n",
    "<code>cvxopt.solvers.qp(P, q, G, h, A, b)</code>\n",
    "<img src=\"http://cvxopt.org/userguide/_images/math/4a1d5a88630fc2310b16135d0ae191d396ebae9e.png\" />"
   ]
  },
  {
   "cell_type": "markdown",
   "metadata": {},
   "source": [
    "<h4>SVM QP</h4>$$ P = y_{i} y_{j}  \\phi(x_{i}, x_{j}) $$\n",
    "$$ q = [1, ..., 1] * -1 $$\n",
    "$$ G = Identity * C $$\n",
    "$$ h =  [0, ..., 0] $$\n",
    "$$ A =  \\sum_{i} y_{i} $$\n",
    "$$ b = 0 $$"
   ]
  },
  {
   "cell_type": "markdown",
   "metadata": {},
   "source": [
    "<h4> Generate Linearly Separable Data </h4>"
   ]
  },
  {
   "cell_type": "code",
   "execution_count": 2,
   "metadata": {},
   "outputs": [],
   "source": [
    "def gen_lin_separable_data():\n",
    "    # generate training data in the 2-d case\n",
    "    mean1 = np.array([0, 2])\n",
    "    mean2 = np.array([2, 0])\n",
    "    cov = np.array([[0.8, 0.6], [0.6, 0.8]])\n",
    "    X1 = np.random.multivariate_normal(mean1, cov, 100)\n",
    "    y1 = np.ones(len(X1))\n",
    "    X2 = np.random.multivariate_normal(mean2, cov, 100)\n",
    "    y2 = np.ones(len(X2)) * -1\n",
    "    return X1, y1, X2, y2\n",
    "X1, y1, X2, y2 = gen_lin_separable_data()"
   ]
  },
  {
   "cell_type": "code",
   "execution_count": 3,
   "metadata": {},
   "outputs": [
    {
     "data": {
      "text/plain": [
       "(100, 2)"
      ]
     },
     "execution_count": 3,
     "metadata": {},
     "output_type": "execute_result"
    }
   ],
   "source": [
    "X1.shape"
   ]
  },
  {
   "cell_type": "code",
   "execution_count": 4,
   "metadata": {},
   "outputs": [
    {
     "data": {
      "text/plain": [
       "(100,)"
      ]
     },
     "execution_count": 4,
     "metadata": {},
     "output_type": "execute_result"
    }
   ],
   "source": [
    "y1.shape"
   ]
  },
  {
   "cell_type": "code",
   "execution_count": 5,
   "metadata": {},
   "outputs": [],
   "source": [
    "import matplotlib.pyplot as plt\n",
    "%matplotlib inline"
   ]
  },
  {
   "cell_type": "code",
   "execution_count": 6,
   "metadata": {},
   "outputs": [
    {
     "data": {
      "text/plain": [
       "[<matplotlib.lines.Line2D at 0x7f3ec7c6abe0>]"
      ]
     },
     "execution_count": 6,
     "metadata": {},
     "output_type": "execute_result"
    },
    {
     "data": {
      "image/png": "[encoded data removed]",
      "text/plain": [
       "<matplotlib.figure.Figure at 0x7f3ec7c6ac18>"
      ]
     },
     "metadata": {},
     "output_type": "display_data"
    }
   ],
   "source": [
    "plt.plot(X1[:,0], X1[:,1], \"rx\")\n",
    "plt.plot(X2[:,0], X2[:,1], \"bo\")"
   ]
  },
  {
   "cell_type": "markdown",
   "metadata": {},
   "source": [
    "<h4>Train Test Split</h4>"
   ]
  },
  {
   "cell_type": "code",
   "execution_count": 7,
   "metadata": {},
   "outputs": [],
   "source": [
    "X_train = np.vstack((X1[:90], X2[:90]))\n",
    "y_train = np.hstack((y1[:90], y2[:90]))"
   ]
  },
  {
   "cell_type": "code",
   "execution_count": 8,
   "metadata": {},
   "outputs": [],
   "source": [
    "X_test = np.vstack((X1[90:], X2[90:]))\n",
    "y_test = np.hstack((y1[90:], y2[90:]))"
   ]
  },
  {
   "cell_type": "code",
   "execution_count": 9,
   "metadata": {},
   "outputs": [
    {
     "name": "stdout",
     "output_type": "stream",
     "text": [
      "(180, 2) (180,) (20, 2) (20,)\n"
     ]
    }
   ],
   "source": [
    "print(X_train.shape, y_train.shape, X_test.shape, y_test.shape)"
   ]
  },
  {
   "cell_type": "markdown",
   "metadata": {},
   "source": [
    "<h4>Train SVM</h4>"
   ]
  },
  {
   "cell_type": "markdown",
   "metadata": {},
   "source": [
    "<h5>np.outer vs np.dot</h5>"
   ]
  },
  {
   "cell_type": "code",
   "execution_count": 10,
   "metadata": {},
   "outputs": [
    {
     "data": {
      "text/plain": [
       "(3, 3)"
      ]
     },
     "execution_count": 10,
     "metadata": {},
     "output_type": "execute_result"
    }
   ],
   "source": [
    "x = np.random.normal(0, 1, (3, 3))\n",
    "np.dot(x, x).shape"
   ]
  },
  {
   "cell_type": "code",
   "execution_count": 11,
   "metadata": {},
   "outputs": [
    {
     "data": {
      "text/plain": [
       "(9, 9)"
      ]
     },
     "execution_count": 11,
     "metadata": {},
     "output_type": "execute_result"
    }
   ],
   "source": [
    "np.outer(x, x).shape"
   ]
  },
  {
   "cell_type": "markdown",
   "metadata": {},
   "source": [
    "<h5>CVXOPT Matrix</h5>"
   ]
  },
  {
   "cell_type": "code",
   "execution_count": 12,
   "metadata": {},
   "outputs": [
    {
     "data": {
      "text/plain": [
       "<1x180 matrix, tc='d'>"
      ]
     },
     "execution_count": 12,
     "metadata": {},
     "output_type": "execute_result"
    }
   ],
   "source": [
    "cvxopt.matrix(y_train, (1, 180))"
   ]
  },
  {
   "cell_type": "markdown",
   "metadata": {},
   "source": [
    "<h5> G & h </h5>"
   ]
  },
  {
   "cell_type": "code",
   "execution_count": 13,
   "metadata": {},
   "outputs": [
    {
     "data": {
      "text/plain": [
       "(<3x3 matrix, tc='d'>, <3x1 matrix, tc='d'>)"
      ]
     },
     "execution_count": 13,
     "metadata": {},
     "output_type": "execute_result"
    }
   ],
   "source": [
    "G = cvxopt.matrix(np.diag(np.ones(3) * -1))\n",
    "h = cvxopt.matrix(np.zeros(3))\n",
    "G, h"
   ]
  },
  {
   "cell_type": "markdown",
   "metadata": {},
   "source": [
    "<h5>Flatten Matrix</h5>"
   ]
  },
  {
   "cell_type": "code",
   "execution_count": 14,
   "metadata": {},
   "outputs": [
    {
     "data": {
      "text/plain": [
       "(9,)"
      ]
     },
     "execution_count": 14,
     "metadata": {},
     "output_type": "execute_result"
    }
   ],
   "source": [
    "x = np.random.normal(0, 1, (3, 3))\n",
    "np.ravel(x).shape"
   ]
  },
  {
   "cell_type": "markdown",
   "metadata": {},
   "source": [
    "<h5>Qauadratic Program</h5>"
   ]
  },
  {
   "cell_type": "code",
   "execution_count": 15,
   "metadata": {},
   "outputs": [
    {
     "name": "stdout",
     "output_type": "stream",
     "text": [
      "     pcost       dcost       gap    pres   dres\n",
      " 0: -1.6622e+01 -3.2177e+01  5e+02  2e+01  2e+00\n",
      " 1: -1.9259e+01 -1.5333e+01  2e+02  8e+00  7e-01\n",
      " 2: -3.5822e+01 -1.7472e+01  1e+02  4e+00  4e-01\n",
      " 3: -1.1219e+01 -5.4036e+00  3e+01  7e-01  6e-02\n",
      " 4: -3.1618e+00 -4.2629e+00  1e+00  1e-03  1e-04\n",
      " 5: -3.7476e+00 -3.9994e+00  3e-01  2e-04  2e-05\n",
      " 6: -3.9582e+00 -3.9744e+00  2e-02  3e-06  3e-07\n",
      " 7: -3.9732e+00 -3.9734e+00  2e-04  3e-08  3e-09\n",
      " 8: -3.9734e+00 -3.9734e+00  2e-06  3e-10  3e-11\n",
      "Optimal solution found.\n"
     ]
    },
    {
     "data": {
      "text/plain": [
       "array([1.88377086e-09, 1.83095026e-09, 2.13701212e-09, 3.03216937e-09,\n",
       "       1.66066669e-09, 2.13263414e-09, 3.20208942e-09, 3.02042564e-09,\n",
       "       2.44999406e-09, 1.36307057e-09, 1.42744333e-09, 1.60719332e-09,\n",
       "       2.28337694e-09, 3.57360805e-09, 2.11135201e-09, 3.31663174e-09,\n",
       "       2.96378794e-09, 3.21006943e-09, 2.18847722e-09, 2.12866706e-09,\n",
       "       1.48087223e-09, 2.19595960e-09, 2.81811675e-09, 1.73220214e-09,\n",
       "       2.19674634e-09, 2.69320304e-09, 1.59381083e-09, 1.93933663e-09,\n",
       "       2.48294833e-09, 2.44105505e-09, 4.08003782e-09, 3.97336189e+00,\n",
       "       2.12664752e-09, 1.33236525e-09, 1.90928205e-09, 9.16771002e-09,\n",
       "       1.44117241e-09, 1.41483627e-09, 2.79040339e-09, 1.88074358e-09,\n",
       "       1.97675841e-09, 1.77451471e-09, 2.95253788e-09, 2.55632750e-09,\n",
       "       2.64546668e-09, 2.07497964e-09, 2.33289384e-09, 1.88675951e-09,\n",
       "       1.63513578e-09, 1.85548632e-09, 1.71005893e-09, 3.97918146e-09,\n",
       "       2.80863602e-09, 2.81117150e-09, 1.90966393e-09, 2.22678636e-09,\n",
       "       2.77985575e-09, 3.44913395e-09, 3.22491517e-09, 2.19756950e-09,\n",
       "       3.80464460e-09, 3.22403381e-09, 2.33130030e-09, 2.36433558e-09,\n",
       "       1.65887230e-09, 5.62349205e-09, 2.31555038e-09, 1.99625633e-09,\n",
       "       4.86434122e-09, 1.75999841e-09, 1.67163868e-09, 3.00898464e-09,\n",
       "       2.09523727e-09, 8.11287453e-09, 1.35297293e-09, 2.09740304e-09,\n",
       "       1.49443590e-09, 2.06194393e-09, 1.78125994e-09, 1.43128522e-09,\n",
       "       2.29254348e-09, 1.34028523e-09, 5.56541855e-09, 3.44697631e-09,\n",
       "       2.26393660e-09, 5.21225187e-09, 2.66876252e-09, 2.01751654e-09,\n",
       "       1.75235994e-09, 1.98416269e-09, 6.33357791e-09, 2.09651022e-09,\n",
       "       5.61766035e-09, 9.19974282e-09, 3.45270097e-09, 5.91757475e-09,\n",
       "       3.86796929e-09, 3.22417849e-09, 3.55937535e-09, 2.58402364e-09,\n",
       "       5.20115119e-09, 2.32812182e-09, 7.39200127e-09, 2.53591303e+00,\n",
       "       3.98587196e-09, 4.09835231e-09, 1.16821602e-08, 3.75991511e-09,\n",
       "       4.11484226e-09, 2.98055240e-09, 4.40555446e-09, 5.89868670e-09,\n",
       "       2.85176503e-09, 3.03080449e-09, 6.65791604e-09, 2.38978542e-09,\n",
       "       2.97493570e-09, 1.43744784e+00, 3.17905540e-09, 2.35905801e-09,\n",
       "       5.95144446e-09, 2.75377457e-09, 3.70435849e-09, 2.72749552e-09,\n",
       "       5.33848330e-09, 2.96805492e-09, 1.95938408e-08, 2.50158117e-09,\n",
       "       1.41512862e-07, 6.16498831e-09, 7.84160984e-09, 3.69722983e-09,\n",
       "       2.28180417e-09, 2.31699847e-09, 4.02699245e-09, 3.58599208e-09,\n",
       "       2.09272361e-09, 4.23993914e-09, 8.59247337e-08, 2.09034715e-09,\n",
       "       4.14056819e-09, 4.09585494e-09, 3.27702296e-09, 2.30241304e-09,\n",
       "       5.30079211e-09, 1.57968374e-09, 2.10143077e-09, 3.12531045e-09,\n",
       "       5.19194826e-09, 1.97457233e-08, 3.04531926e-09, 2.52956287e-09,\n",
       "       2.88244141e-09, 1.60984806e-09, 7.22410271e-09, 7.29114675e-08,\n",
       "       3.17511716e-09, 3.72852546e-09, 3.93385764e-09, 3.07302083e-09,\n",
       "       2.29668829e-09, 3.34425494e-09, 1.74965239e-07, 3.18949381e-09,\n",
       "       2.18023873e-09, 2.82874222e-09, 4.27064038e-09, 1.98919278e-09,\n",
       "       3.71702777e-09, 2.77138238e-09, 8.28187462e-09, 2.48479524e-09,\n",
       "       1.94924049e-08, 4.09112032e-07, 3.26462863e-09, 2.67121714e-09,\n",
       "       3.64601366e-09, 5.73269389e-09, 5.78488377e-09, 6.03805713e-09])"
      ]
     },
     "execution_count": 15,
     "metadata": {},
     "output_type": "execute_result"
    }
   ],
   "source": [
    "def solve_qp(X, y):\n",
    "    n_samples, n_features = X.shape\n",
    "\n",
    "    K = np.zeros((n_samples, n_samples))\n",
    "    for i in range(n_samples):\n",
    "        for j in range(n_samples):\n",
    "            K[i,j] = np.dot(X[i], X[j])\n",
    "\n",
    "    P = cvxopt.matrix(np.outer(y,y) * K)\n",
    "    q = cvxopt.matrix(np.ones(n_samples) * -1)\n",
    "    A = cvxopt.matrix(y, (1,n_samples))\n",
    "    b = cvxopt.matrix(0.0)\n",
    "\n",
    "    G = cvxopt.matrix(np.diag(np.ones(n_samples) * -1))\n",
    "    h = cvxopt.matrix(np.zeros(n_samples))\n",
    "\n",
    "    # solve QP problem\n",
    "    solution = cvxopt.solvers.qp(P, q, G, h, A, b)\n",
    "    return np.ravel(solution[\"x\"])\n",
    "solution_x = solve_qp(X_train, y_train)\n",
    "solution_x"
   ]
  },
  {
   "cell_type": "code",
   "execution_count": 16,
   "metadata": {},
   "outputs": [
    {
     "data": {
      "text/plain": [
       "array([False, False, False, False, False, False, False, False, False,\n",
       "       False, False, False, False, False, False, False, False, False,\n",
       "       False, False, False, False, False, False, False, False, False,\n",
       "       False, False, False, False,  True, False, False, False, False,\n",
       "       False, False, False, False, False, False, False, False, False,\n",
       "       False, False, False, False, False, False, False, False, False,\n",
       "       False, False, False, False, False, False, False, False, False,\n",
       "       False, False, False, False, False, False, False, False, False,\n",
       "       False, False, False, False, False, False, False, False, False,\n",
       "       False, False, False, False, False, False, False, False, False,\n",
       "       False, False, False, False, False, False, False, False, False,\n",
       "       False, False, False, False,  True, False, False, False, False,\n",
       "       False, False, False, False, False, False, False, False, False,\n",
       "        True, False, False, False, False, False, False, False, False,\n",
       "       False, False, False, False, False, False, False, False, False,\n",
       "       False, False, False, False, False, False, False, False, False,\n",
       "       False, False, False, False, False, False, False, False, False,\n",
       "       False, False, False, False, False, False, False, False, False,\n",
       "       False, False, False, False, False, False, False, False, False,\n",
       "       False, False, False, False, False, False, False, False, False])"
      ]
     },
     "execution_count": 16,
     "metadata": {},
     "output_type": "execute_result"
    }
   ],
   "source": [
    "solution_x > 1e-5"
   ]
  },
  {
   "cell_type": "markdown",
   "metadata": {},
   "source": [
    "<h5>Extract SVMs</h5>"
   ]
  },
  {
   "cell_type": "code",
   "execution_count": 17,
   "metadata": {},
   "outputs": [
    {
     "data": {
      "text/plain": [
       "array([[ 0.04155843,  0.3653793 ],\n",
       "       [-0.43063834, -0.9277762 ],\n",
       "       [ 2.10661071,  1.12092618],\n",
       "       [ 1.98996499,  0.9804575 ],\n",
       "       [ 2.18198936,  1.14410446],\n",
       "       [ 1.11152882,  0.30420098]])"
      ]
     },
     "execution_count": 17,
     "metadata": {},
     "output_type": "execute_result"
    }
   ],
   "source": [
    "X_train[solution_x > 1e-7]"
   ]
  },
  {
   "cell_type": "code",
   "execution_count": 18,
   "metadata": {},
   "outputs": [
    {
     "data": {
      "text/plain": [
       "array([ 1., -1., -1., -1., -1., -1.])"
      ]
     },
     "execution_count": 18,
     "metadata": {},
     "output_type": "execute_result"
    }
   ],
   "source": [
    "y_train[solution_x > 1e-7]"
   ]
  },
  {
   "cell_type": "code",
   "execution_count": 19,
   "metadata": {},
   "outputs": [
    {
     "data": {
      "text/plain": [
       "array([ 31, 103, 117, 128, 162, 173])"
      ]
     },
     "execution_count": 19,
     "metadata": {},
     "output_type": "execute_result"
    }
   ],
   "source": [
    "np.arange(len(solution_x))[solution_x > 1e-7]"
   ]
  },
  {
   "cell_type": "code",
   "execution_count": 20,
   "metadata": {},
   "outputs": [
    {
     "data": {
      "text/plain": [
       "array([3.97336189e+00, 2.53591303e+00, 1.43744784e+00, 1.41512862e-07,\n",
       "       1.74965239e-07, 4.09112032e-07])"
      ]
     },
     "execution_count": 20,
     "metadata": {},
     "output_type": "execute_result"
    }
   ],
   "source": [
    "solution_x[solution_x > 1e-7]"
   ]
  },
  {
   "cell_type": "markdown",
   "metadata": {},
   "source": [
    "<h5>Dual to Primal</h5>"
   ]
  },
  {
   "cell_type": "code",
   "execution_count": 21,
   "metadata": {},
   "outputs": [],
   "source": [
    "xs = X_train[solution_x > 1e-7]\n",
    "ys = y_train[solution_x > 1e-7]\n",
    "alphas = solution_x[solution_x > 1e-7]\n",
    "indices = np.arange(len(solution_x))[solution_x > 1e-7]"
   ]
  },
  {
   "cell_type": "code",
   "execution_count": 22,
   "metadata": {},
   "outputs": [
    {
     "data": {
      "text/plain": [
       "array([-1.77095608,  2.19327057])"
      ]
     },
     "execution_count": 22,
     "metadata": {},
     "output_type": "execute_result"
    }
   ],
   "source": [
    "w = np.zeros(X_train.shape[1])\n",
    "for i in range(len(indices)):\n",
    "    w += alphas[i] * ys[i] * xs[i]\n",
    "w"
   ]
  },
  {
   "cell_type": "code",
   "execution_count": 23,
   "metadata": {},
   "outputs": [
    {
     "data": {
      "text/plain": [
       "array([-1.77095608,  2.19327057])"
      ]
     },
     "execution_count": 23,
     "metadata": {},
     "output_type": "execute_result"
    }
   ],
   "source": [
    "w = np.sum(np.dot(alphas * ys.reshape(1,-1), xs), axis=0)\n",
    "w"
   ]
  },
  {
   "cell_type": "code",
   "execution_count": 24,
   "metadata": {},
   "outputs": [
    {
     "data": {
      "text/plain": [
       "1.8465481326873576"
      ]
     },
     "execution_count": 24,
     "metadata": {},
     "output_type": "execute_result"
    }
   ],
   "source": [
    "b = np.sum(ys - np.dot(w.reshape(1, -1), xs.transpose()))\n",
    "b"
   ]
  },
  {
   "cell_type": "markdown",
   "metadata": {},
   "source": [
    "<h5>Plot Boundary</h5>"
   ]
  },
  {
   "cell_type": "code",
   "execution_count": 25,
   "metadata": {},
   "outputs": [
    {
     "data": {
      "text/plain": [
       "[<matplotlib.lines.Line2D at 0x7f3ec43cfb38>]"
      ]
     },
     "execution_count": 25,
     "metadata": {},
     "output_type": "execute_result"
    },
    {
     "data": {
      "image/png": "[encoded data removed]",
      "text/plain": [
       "<matplotlib.figure.Figure at 0x7f3ec7b6e828>"
      ]
     },
     "metadata": {},
     "output_type": "display_data"
    }
   ],
   "source": [
    "plt.plot(X1[:,0], X1[:,1], \"rx\")\n",
    "plt.plot(X2[:,0], X2[:,1], \"bo\")\n",
    "plt.plot((-2,4), ((-w[0] * -2 - b)/w[1], (-w[0] * 4 - b)/w[1]), \"k\")\n",
    "plt.plot((-2,4), ((1-w[0] * -2 - b)/w[1], (1-w[0] * 4 - b)/w[1]), \"k--\")\n",
    "plt.plot((-2,4), ((-1-w[0] * -2 - b)/w[1], (-1-w[0] * 4 - b)/w[1]), \"k--\")"
   ]
  },
  {
   "cell_type": "markdown",
   "metadata": {},
   "source": [
    "<h2>Polynomial Kernel</h2>"
   ]
  },
  {
   "cell_type": "code",
   "execution_count": 26,
   "metadata": {},
   "outputs": [],
   "source": [
    "    def gen_non_lin_separable_data():\n",
    "        mean1 = [-1, 2]\n",
    "        mean2 = [1, -1]\n",
    "        mean3 = [4, -4]\n",
    "        mean4 = [-4, 4]\n",
    "        cov = [[1.0,0.8], [0.8, 1.0]]\n",
    "        X1 = np.random.multivariate_normal(mean1, cov, 50)\n",
    "        X1 = np.vstack((X1, np.random.multivariate_normal(mean3, cov, 50)))\n",
    "        y1 = np.ones(len(X1))\n",
    "        X2 = np.random.multivariate_normal(mean2, cov, 50)\n",
    "        X2 = np.vstack((X2, np.random.multivariate_normal(mean4, cov, 50)))\n",
    "        y2 = np.ones(len(X2)) * -1\n",
    "        return X1, y1, X2, y2"
   ]
  },
  {
   "cell_type": "code",
   "execution_count": 27,
   "metadata": {},
   "outputs": [],
   "source": [
    "X_1, y_1, X_2, y_2 = gen_non_lin_separable_data()"
   ]
  },
  {
   "cell_type": "code",
   "execution_count": 28,
   "metadata": {},
   "outputs": [
    {
     "data": {
      "text/plain": [
       "[<matplotlib.lines.Line2D at 0x7f3ec7b6e128>]"
      ]
     },
     "execution_count": 28,
     "metadata": {},
     "output_type": "execute_result"
    },
    {
     "data": {
      "image/png": "[encoded data removed]",
      "text/plain": [
       "<matplotlib.figure.Figure at 0x7f3ec7b6e400>"
      ]
     },
     "metadata": {},
     "output_type": "display_data"
    }
   ],
   "source": [
    "plt.plot(X_1[:,0], X_1[:,1], \"rx\")\n",
    "plt.plot(X_2[:,0], X_2[:,1], \"bo\")"
   ]
  },
  {
   "cell_type": "markdown",
   "metadata": {},
   "source": [
    "<h5>Train Function</h5>"
   ]
  },
  {
   "cell_type": "code",
   "execution_count": 29,
   "metadata": {},
   "outputs": [],
   "source": [
    "def train(X, y, kernel):\n",
    "    n_samples, n_features = X.shape\n",
    "\n",
    "    K = np.zeros((n_samples, n_samples))\n",
    "    for i in range(n_samples):\n",
    "        for j in range(n_samples):\n",
    "            K[i,j] = kernel(X[i], X[j])\n",
    "\n",
    "    P = cvxopt.matrix(np.outer(y,y) * K)\n",
    "    q = cvxopt.matrix(np.ones(n_samples) * -1)\n",
    "    A = cvxopt.matrix(y, (1,n_samples))\n",
    "    b = cvxopt.matrix(0.0)\n",
    "\n",
    "    G = cvxopt.matrix(np.diag(np.ones(n_samples) * -1))\n",
    "    h = cvxopt.matrix(np.zeros(n_samples))\n",
    "\n",
    "    # solve QP problem\n",
    "    solution = cvxopt.solvers.qp(P, q, G, h, A, b)\n",
    "\n",
    "    # Lagrange multipliers\n",
    "    solution_x = np.ravel(solution['x'])\n",
    "\n",
    "    xs = X_train[solution_x > 1e-7]\n",
    "    ys = y_train[solution_x > 1e-7]\n",
    "    alphas = solution_x[solution_x > 1e-7]\n",
    "    indices = np.arange(len(solution_x))[solution_x > 1e-7]\n",
    "\n",
    "    # Slope & Intercept\n",
    "    w = np.sum(np.dot(alphas * ys.reshape(1,-1), xs), axis=0)\n",
    "    b = np.sum(ys - np.dot(w.reshape(1, -1), xs.transpose()))\n",
    "        \n",
    "    return w, b, xs, ys, alphas"
   ]
  },
  {
   "cell_type": "code",
   "execution_count": 30,
   "metadata": {},
   "outputs": [],
   "source": [
    "X_train = np.vstack((X_1[:90], X_2[:90]))\n",
    "y_train = np.hstack((y_1[:90], y_2[:90]))"
   ]
  },
  {
   "cell_type": "code",
   "execution_count": 31,
   "metadata": {},
   "outputs": [],
   "source": [
    "def linear_kernel(x1, x2):\n",
    "    return np.dot(x1, x2)"
   ]
  },
  {
   "cell_type": "code",
   "execution_count": 32,
   "metadata": {},
   "outputs": [
    {
     "name": "stdout",
     "output_type": "stream",
     "text": [
      "     pcost       dcost       gap    pres   dres\n",
      " 0: -1.5158e+02 -3.7337e+02  2e+02  3e-14  2e+00\n",
      " 1: -3.1491e+02 -3.2012e+02  5e+00  1e-14  1e+00\n",
      " 2: -1.9427e+04 -1.9431e+04  3e+00  1e-12  1e+00\n",
      " 3: -1.0856e+08 -1.0856e+08  2e+02  3e-09  1e+00\n",
      " 4: -3.4519e+09 -3.4519e+09  6e+03  6e-07  1e+00\n",
      "Terminated (singular KKT matrix).\n"
     ]
    }
   ],
   "source": [
    "w, b, _, _, _ = train(X_train, y_train, linear_kernel)"
   ]
  },
  {
   "cell_type": "code",
   "execution_count": 33,
   "metadata": {},
   "outputs": [
    {
     "data": {
      "text/plain": [
       "[<matplotlib.lines.Line2D at 0x7f3ec42b4780>]"
      ]
     },
     "execution_count": 33,
     "metadata": {},
     "output_type": "execute_result"
    },
    {
     "data": {
      "image/png": "[encoded data removed]",
      "text/plain": [
       "<matplotlib.figure.Figure at 0x7f3ec436b6d8>"
      ]
     },
     "metadata": {},
     "output_type": "display_data"
    }
   ],
   "source": [
    "plt.plot(X_1[:,0], X_1[:,1], \"rx\")\n",
    "plt.plot(X_2[:,0], X_2[:,1], \"bo\")\n",
    "plt.plot((-6,6), ((-w[0] * -6 - b)/w[1], (-w[0] * 6 - b)/w[1]), \"k\")\n",
    "plt.plot((-6,6), ((1-w[0] * -6 - b)/w[1], (1-w[0] * 6 - b)/w[1]), \"k--\")\n",
    "plt.plot((-6,6), ((-1-w[0] * -6 - b)/w[1], (-1-w[0] * 6 - b)/w[1]), \"k--\")"
   ]
  },
  {
   "cell_type": "code",
   "execution_count": 34,
   "metadata": {},
   "outputs": [],
   "source": [
    "def train(X, y, kernel):\n",
    "    n_samples, n_features = X.shape\n",
    "\n",
    "    K = np.zeros((n_samples, n_samples))\n",
    "    for i in range(n_samples):\n",
    "        for j in range(n_samples):\n",
    "            K[i,j] = kernel(X[i], X[j])\n",
    "\n",
    "    P = cvxopt.matrix(np.outer(y,y) * K)\n",
    "    q = cvxopt.matrix(np.ones(n_samples) * -1)\n",
    "    A = cvxopt.matrix(y, (1,n_samples))\n",
    "    b = cvxopt.matrix(0.0)\n",
    "\n",
    "    G = cvxopt.matrix(np.diag(np.ones(n_samples) * -1))\n",
    "    h = cvxopt.matrix(np.zeros(n_samples))\n",
    "\n",
    "    # solve QP problem\n",
    "    solution = cvxopt.solvers.qp(P, q, G, h, A, b)\n",
    "\n",
    "    # Lagrange multipliers\n",
    "    solution_x = np.ravel(solution['x'])\n",
    "\n",
    "    xs = X_train[solution_x > 1e-7]\n",
    "    ys = y_train[solution_x > 1e-7]\n",
    "    alphas = solution_x[solution_x > 1e-7]\n",
    "    indices = np.arange(len(solution_x))[solution_x > 1e-7]\n",
    "\n",
    "    # Intercept\n",
    "    b = 0\n",
    "    for i in range(len(indices)):\n",
    "        s = 0\n",
    "        for j in range(n_samples):\n",
    "            s += alphas[i] * ys[i] * kernel(xs[i], X[j])\n",
    "        b += ys[i] - s\n",
    "        \n",
    "    return w, b, xs, ys, alphas"
   ]
  },
  {
   "cell_type": "code",
   "execution_count": 35,
   "metadata": {},
   "outputs": [
    {
     "name": "stdout",
     "output_type": "stream",
     "text": [
      "     pcost       dcost       gap    pres   dres\n",
      " 0: -3.7633e+01 -9.4249e+01  1e+03  4e+01  3e+00\n",
      " 1: -9.3528e+01 -1.2474e+02  7e+02  2e+01  1e+00\n",
      " 2: -5.7722e+01 -3.4439e+01  4e+02  9e+00  6e-01\n",
      " 3: -4.7462e+00 -9.0578e-01  3e+01  7e-01  5e-02\n",
      " 4: -2.6733e-01 -6.0663e-01  3e+00  6e-02  4e-03\n",
      " 5: -7.5112e-02 -4.0973e-01  1e+00  2e-02  1e-03\n",
      " 6: -1.2011e-01 -2.4832e-01  3e-01  3e-03  2e-04\n",
      " 7: -1.6133e-01 -2.2953e-01  1e-01  1e-03  7e-05\n",
      " 8: -1.8498e-01 -2.1325e-01  5e-02  4e-04  3e-05\n",
      " 9: -1.9501e-01 -2.0687e-01  2e-02  1e-04  7e-06\n",
      "10: -1.9669e-01 -2.0475e-01  8e-03  5e-17  5e-14\n",
      "11: -2.0356e-01 -2.0378e-01  2e-04  5e-17  6e-14\n",
      "12: -2.0373e-01 -2.0374e-01  3e-06  5e-17  5e-14\n",
      "13: -2.0374e-01 -2.0374e-01  3e-08  4e-17  5e-14\n",
      "Optimal solution found.\n"
     ]
    }
   ],
   "source": [
    "def polynomial_kernel(x, y, p=3):\n",
    "    return (1 + np.dot(x, y)) ** p\n",
    "w, b, xs, ys, alphas = train(X_train, y_train, polynomial_kernel)"
   ]
  },
  {
   "cell_type": "code",
   "execution_count": 36,
   "metadata": {},
   "outputs": [],
   "source": [
    "# X list of samples\n",
    "def polynomial_projection(X, alphas, ys, xs, b):\n",
    "    ret = np.zeros(len(X))\n",
    "    for i in range(len(X)):\n",
    "        s = 0\n",
    "        for a, y, x in zip(alphas, ys, xs):\n",
    "            s += a * y * polynomial_kernel(X[i], x)\n",
    "        ret[i] = s\n",
    "    return ret + b"
   ]
  },
  {
   "cell_type": "code",
   "execution_count": 37,
   "metadata": {},
   "outputs": [
    {
     "data": {
      "text/plain": [
       "array([-242.66845602])"
      ]
     },
     "execution_count": 37,
     "metadata": {},
     "output_type": "execute_result"
    }
   ],
   "source": [
    "polynomial_projection([[-6, -6]], alphas, ys, xs, b)"
   ]
  },
  {
   "cell_type": "code",
   "execution_count": 38,
   "metadata": {},
   "outputs": [
    {
     "name": "stderr",
     "output_type": "stream",
     "text": [
      "/home/qamaruddin/anaconda3/lib/python3.6/site-packages/matplotlib/contour.py:1180: UserWarning: No contour levels were found within the data range.\n",
      "  warnings.warn(\"No contour levels were found\"\n"
     ]
    },
    {
     "data": {
      "image/png": "[encoded data removed]",
      "text/plain": [
       "<matplotlib.figure.Figure at 0x7f3ec43eb080>"
      ]
     },
     "metadata": {},
     "output_type": "display_data"
    }
   ],
   "source": [
    "def plot_contour(X1_train, X2_train, alphas, ys, xs, b):\n",
    "        plt.plot(X1_train[:,0], X1_train[:,1], \"rx\")\n",
    "        plt.plot(X2_train[:,0], X2_train[:,1], \"bo\")\n",
    "        plt.scatter(xs[:,0], xs[:,1], c=ys)\n",
    "        \n",
    "        X1, X2 = np.meshgrid(np.linspace(-6,6,50), np.linspace(-6,6,50))\n",
    "        X = np.array([[x1, x2] for x1, x2 in zip(np.ravel(X1), np.ravel(X2))])\n",
    "        Z = polynomial_projection(X, alphas, ys, xs, b).reshape(X1.shape)\n",
    "        plt.contour(X1, X2, Z, [0.0], colors='k', linewidths=1, origin='lower')\n",
    "        plt.contour(X1, X2, Z + 1, [0.0], colors='grey', linewidths=1, origin='lower')\n",
    "        plt.contour(X1, X2, Z - 1, [0.0], colors='grey', linewidths=1, origin='lower')\n",
    "plot_contour(X_1[:90], X_2[:90], alphas, ys, xs, b)"
   ]
  },
  {
   "cell_type": "code",
   "execution_count": 39,
   "metadata": {},
   "outputs": [
    {
     "data": {
      "text/plain": [
       "[<matplotlib.lines.Line2D at 0x7f3ec42bb4e0>]"
      ]
     },
     "execution_count": 39,
     "metadata": {},
     "output_type": "execute_result"
    },
    {
     "data": {
      "image/png": "[encoded data removed]",
      "text/plain": [
       "<matplotlib.figure.Figure at 0x7f3ec42bb588>"
      ]
     },
     "metadata": {},
     "output_type": "display_data"
    }
   ],
   "source": [
    "plt.plot(X_1[:,0], X_1[:,1], \"rx\")\n",
    "plt.plot(X_2[:,0], X_2[:,1], \"bo\")"
   ]
  },
  {
   "cell_type": "code",
   "execution_count": 40,
   "metadata": {},
   "outputs": [
    {
     "name": "stdout",
     "output_type": "stream",
     "text": [
      "     pcost       dcost       gap    pres   dres\n",
      " 0: -5.7416e+01 -1.8141e+02  6e+02  2e+01  2e+00\n",
      " 1: -8.9359e+01 -2.4782e+02  3e+02  1e+01  1e+00\n",
      " 2: -1.3755e+02 -2.8788e+02  2e+02  4e+00  5e-01\n",
      " 3: -1.8834e+02 -3.1165e+02  2e+02  3e+00  3e-01\n",
      " 4: -2.4586e+02 -3.5429e+02  1e+02  1e+00  2e-01\n",
      " 5: -2.9435e+02 -3.2469e+02  3e+01  2e-01  2e-02\n",
      " 6: -3.1259e+02 -3.1577e+02  3e+00  1e-13  6e-14\n",
      " 7: -3.1533e+02 -3.1538e+02  4e-02  1e-13  6e-14\n",
      " 8: -3.1537e+02 -3.1537e+02  4e-04  6e-14  6e-14\n",
      " 9: -3.1537e+02 -3.1537e+02  4e-06  1e-13  6e-14\n",
      "Optimal solution found.\n"
     ]
    },
    {
     "data": {
      "image/png": "[encoded data removed]",
      "text/plain": [
       "<matplotlib.figure.Figure at 0x7f3ec4356cf8>"
      ]
     },
     "metadata": {},
     "output_type": "display_data"
    }
   ],
   "source": [
    "def gaussian_kernel(x, y, sigma=5.0):\n",
    "    return np.exp(-np.linalg.norm(x-y)**2 / (2 * (sigma ** 2)))\n",
    "w, b, xs, ys, alphas = train(X_train, y_train, gaussian_kernel)\n",
    "plot_contour(X_1[:90], X_2[:90], alphas, ys, xs, b)"
   ]
  },
  {
   "cell_type": "markdown",
   "metadata": {},
   "source": [
    "<h4> How about C?</h4>"
   ]
  },
  {
   "cell_type": "code",
   "execution_count": 41,
   "metadata": {},
   "outputs": [],
   "source": [
    "def train(X, y, kernel, C=100):\n",
    "    n_samples, n_features = X.shape\n",
    "\n",
    "    K = np.zeros((n_samples, n_samples))\n",
    "    for i in range(n_samples):\n",
    "        for j in range(n_samples):\n",
    "            K[i,j] = kernel(X[i], X[j])\n",
    "\n",
    "    P = cvxopt.matrix(np.outer(y,y) * K)\n",
    "    q = cvxopt.matrix(np.ones(n_samples) * -1)\n",
    "    A = cvxopt.matrix(y, (1,n_samples))\n",
    "    b = cvxopt.matrix(0.0)\n",
    "\n",
    "    tmp1 = np.diag(np.ones(n_samples) * -1)\n",
    "    tmp2 = np.identity(n_samples)\n",
    "    G = cvxopt.matrix(np.vstack((tmp1, tmp2)))\n",
    "    tmp1 = np.zeros(n_samples)\n",
    "    tmp2 = np.ones(n_samples) * C\n",
    "    h = cvxopt.matrix(np.hstack((tmp1, tmp2)))\n",
    "\n",
    "    # solve QP problem\n",
    "    solution = cvxopt.solvers.qp(P, q, G, h, A, b)\n",
    "\n",
    "    # Lagrange multipliers\n",
    "    solution_x = np.ravel(solution['x'])\n",
    "    xs = X_train[solution_x > 1e-6]\n",
    "    ys = y_train[solution_x > 1e-6]\n",
    "    alphas = solution_x[solution_x > 1e-6]\n",
    "    indices = np.arange(len(solution_x))[solution_x > 1e-6]\n",
    "\n",
    "    return w, b, xs, ys, alphas"
   ]
  },
  {
   "cell_type": "code",
   "execution_count": 42,
   "metadata": {},
   "outputs": [
    {
     "name": "stdout",
     "output_type": "stream",
     "text": [
      "     pcost       dcost       gap    pres   dres\n",
      " 0:  9.1941e+06 -7.2361e+07  1e+08  1e-01  2e-12\n",
      " 1:  3.8586e+06 -6.6630e+06  1e+07  9e-03  6e-12\n",
      " 2:  6.9149e+05 -9.6145e+05  2e+06  3e-04  2e-12\n",
      " 3:  1.7668e+05 -2.6448e+05  4e+05  7e-05  8e-13\n",
      " 4:  2.6677e+04 -4.4438e+04  7e+04  2e-13  4e-13\n",
      " 5:  3.4473e+03 -5.3357e+03  9e+03  5e-13  2e-13\n",
      " 6:  2.7955e+02 -9.3793e+02  1e+03  2e-13  8e-14\n",
      " 7: -6.3681e+01 -4.2011e+02  4e+02  5e-14  4e-14\n",
      " 8: -1.1714e+02 -4.3518e+02  3e+02  9e-14  4e-14\n",
      " 9: -2.4682e+02 -3.7138e+02  1e+02  2e-13  5e-14\n",
      "10: -2.6760e+02 -3.6297e+02  1e+02  5e-14  5e-14\n",
      "11: -3.0843e+02 -3.2316e+02  1e+01  8e-14  6e-14\n",
      "12: -3.1527e+02 -3.1549e+02  2e-01  4e-14  7e-14\n",
      "13: -3.1537e+02 -3.1537e+02  2e-03  4e-15  6e-14\n",
      "14: -3.1537e+02 -3.1537e+02  2e-05  5e-14  7e-14\n",
      "Optimal solution found.\n"
     ]
    },
    {
     "data": {
      "image/png": "[encoded data removed]",
      "text/plain": [
       "<matplotlib.figure.Figure at 0x7f3ec43116a0>"
      ]
     },
     "metadata": {},
     "output_type": "display_data"
    }
   ],
   "source": [
    "w, b, xs, ys, alphas = train(X_train, y_train, gaussian_kernel, 1000)\n",
    "plot_contour(X_1[:90], X_2[:90], alphas, ys, xs, b)"
   ]
  },
  {
   "cell_type": "code",
   "execution_count": 43,
   "metadata": {},
   "outputs": [
    {
     "name": "stdout",
     "output_type": "stream",
     "text": [
      "     pcost       dcost       gap    pres   dres\n",
      " 0: -1.9024e+01 -3.6831e+00  1e+03  4e+01  3e-11\n",
      " 1: -6.2810e-01 -3.6541e+00  3e+01  6e-01  2e-11\n",
      " 2: -2.9566e-01 -2.6915e+00  5e+00  8e-02  3e-12\n",
      " 3: -1.6422e-01 -1.1641e+00  2e+00  2e-02  8e-13\n",
      " 4: -1.2592e-01 -5.1080e-01  5e-01  8e-03  3e-13\n",
      " 5: -1.1606e-01 -3.2524e-01  3e-01  3e-03  1e-13\n",
      " 6: -1.2247e-01 -2.0043e-01  1e-01  1e-03  6e-14\n",
      " 7: -1.2205e-01 -1.8110e-01  7e-02  7e-04  3e-14\n",
      " 8: -1.2431e-01 -1.5566e-01  4e-02  3e-04  3e-14\n",
      " 9: -1.2620e-01 -1.3848e-01  1e-02  3e-05  3e-14\n",
      "10: -1.2942e-01 -1.3192e-01  3e-03  2e-06  3e-14\n",
      "11: -1.3020e-01 -1.3076e-01  6e-04  4e-07  3e-14\n",
      "12: -1.3032e-01 -1.3056e-01  2e-04  9e-08  3e-14\n",
      "13: -1.3042e-01 -1.3045e-01  3e-05  9e-09  3e-14\n",
      "14: -1.3043e-01 -1.3043e-01  3e-06  1e-09  4e-14\n",
      "15: -1.3043e-01 -1.3043e-01  1e-07  1e-11  4e-14\n",
      "16: -1.3043e-01 -1.3043e-01  1e-09  1e-13  4e-14\n",
      "Optimal solution found.\n"
     ]
    },
    {
     "data": {
      "image/png": "[encoded data removed]",
      "text/plain": [
       "<matplotlib.figure.Figure at 0x7f3ec4224748>"
      ]
     },
     "metadata": {},
     "output_type": "display_data"
    }
   ],
   "source": [
    "\n",
    "w, b, xs, ys, alphas = train(X_train, y_train, polynomial_kernel, 0.01)\n",
    "plot_contour(X_1[:90], X_2[:90], alphas, ys, xs, b)"
   ]
  },
  {
   "cell_type": "markdown",
   "metadata": {},
   "source": [
    "<h2>Further Readings:</h2>"
   ]
  },
  {
   "cell_type": "markdown",
   "metadata": {},
   "source": [
    "<ul>\n",
    "    <li>Implementing a Soft-Margin Kernelized Support Vector Machine Binary Classifier with Quadratic Programming in R and Python [<a href=\"https://sandipanweb.wordpress.com/2018/04/23/implementing-a-soft-margin-kernelized-support-vector-machine-binary-classifier-with-quadratic-programming-in-r-and-python/\">Link</a>]</li>\n",
    "    <li>Kernels, Soft Margin SVM, and Quadratic Programming with Python and CVXOPT [<a href=\"https://pythonprogramming.net/soft-margin-kernel-cvxopt-svm-machine-learning-tutorial/\">Link</a>]</li>\n",
    "    <li>MIT OpenCourseWare: Learning Support Vector Machines [<a href=\"https://www.youtube.com/watch?v=_PwhiWxHK8o\">Link</a>]</li>\n",
    "    </ul>"
   ]
  },
  {
   "cell_type": "code",
   "execution_count": null,
   "metadata": {},
   "outputs": [],
   "source": []
  }
 ],
 "metadata": {
  "kernelspec": {
   "display_name": "Python 3",
   "language": "python",
   "name": "python3"
  },
  "language_info": {
   "codemirror_mode": {
    "name": "ipython",
    "version": 3
   },
   "file_extension": ".py",
   "mimetype": "text/x-python",
   "name": "python",
   "nbconvert_exporter": "python",
   "pygments_lexer": "ipython3",
   "version": "3.6.4"
  }
 },
 "nbformat": 4,
 "nbformat_minor": 2
}
