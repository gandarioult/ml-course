{
 "cells": [
  {
   "cell_type": "markdown",
   "metadata": {},
   "source": [
    "<h1>Support Vector Machines</h1>"
   ]
  },
  {
   "cell_type": "markdown",
   "metadata": {},
   "source": [
    "<img src=\"https://rlv.zcache.com/i_support_vector_machines_coffee_mug-rb87ddcefceec4a23a747b2fc6dc80c72_x7jgr_8byvr_540.jpg\" />"
   ]
  },
  {
   "cell_type": "markdown",
   "metadata": {},
   "source": [
    "<h2>History</h2>\n",
    "<img src=\"https://www.nae.edu/File.aspx?id=41448\" width=\"200\" /><img src=\"http://skandaly.ru/wp-content/uploads/2015/01/Screenshot_2.jpg\" width=\"200\" />\n",
    "<p>The original SVM algorithm was invented by Vladimir N. Vapnik and Alexey Ya. Chervonenkis in 1963.</p>"
   ]
  },
  {
   "cell_type": "markdown",
   "metadata": {},
   "source": [
    "<h2>Separable and Non-separable Data</h2>"
   ]
  },
  {
   "cell_type": "markdown",
   "metadata": {},
   "source": [
    "<img src=\"https://4.bp.blogspot.com/-hVpaRjqD2-s/WV1ajxdZvpI/AAAAAAAABzo/xXTNAfinHggb2ychpZ_1Pjg2OGwViq42ACLcBGAs/s1600/Capture.PNG\" />"
   ]
  },
  {
   "cell_type": "markdown",
   "metadata": {},
   "source": [
    "<p><b>What if data is non-separable?</b></p>\n",
    "<p><i>Hint:</i> take the data to a higher dimensional space separable with a hyper-plane</p>"
   ]
  },
  {
   "cell_type": "markdown",
   "metadata": {},
   "source": [
    "<h2>Mathematical Derivation</h2>"
   ]
  },
  {
   "cell_type": "markdown",
   "metadata": {},
   "source": [
    "<img src=\"https://sandipanweb.files.wordpress.com/2018/04/svm_slack.png?w=676\" />"
   ]
  },
  {
   "cell_type": "markdown",
   "metadata": {},
   "source": [
    "<h3>1,000 Feet View</h3>\n",
    "<img src=\"\" />"
   ]
  },
  {
   "cell_type": "markdown",
   "metadata": {},
   "source": [
    "<img src=\"http://res.cloudinary.com/dzl9mwemk/image/upload/v1524780974/svm_gmh0er.png\" />"
   ]
  },
  {
   "cell_type": "markdown",
   "metadata": {},
   "source": [
    "<h3>Line Equation</h3>"
   ]
  },
  {
   "cell_type": "markdown",
   "metadata": {},
   "source": [
    "$$ \\omega^{T} X + b = 0 $$"
   ]
  },
  {
   "cell_type": "markdown",
   "metadata": {},
   "source": [
    "<h3>Target Value</h3>"
   ]
  },
  {
   "cell_type": "markdown",
   "metadata": {},
   "source": [
    "$$ y = \\omega^{T} X + b = \\{+1, -1\\} $$"
   ]
  },
  {
   "cell_type": "markdown",
   "metadata": {},
   "source": [
    "<h3>Substitution</h3>"
   ]
  },
  {
   "cell_type": "markdown",
   "metadata": {},
   "source": [
    "$$ y_{1} = \\omega^{T} X_{1} + b = +1 $$\n",
    "$$ y_{2} = \\omega^{T} X_{2} + b = +1 $$"
   ]
  },
  {
   "cell_type": "markdown",
   "metadata": {},
   "source": [
    "<h3>Distance</h3>"
   ]
  },
  {
   "cell_type": "markdown",
   "metadata": {},
   "source": [
    "$$ y1 - y2 = \\omega^{T} (X_{1} - X_{2}) = 2 $$"
   ]
  },
  {
   "cell_type": "markdown",
   "metadata": {},
   "source": [
    "<h3>Normalize</h3>"
   ]
  },
  {
   "cell_type": "markdown",
   "metadata": {},
   "source": [
    "$$ \\frac{\\omega^{T}}{\\Vert{\\omega}\\Vert} ( X_{1} - X_{2} ) = \\frac{2}{\\Vert{\\omega}\\Vert} $$"
   ]
  },
  {
   "cell_type": "markdown",
   "metadata": {},
   "source": [
    "<h3>Objective Function</h3>"
   ]
  },
  {
   "cell_type": "markdown",
   "metadata": {},
   "source": [
    "$$ arg \\quad max ( \\frac{2}{\\Vert\\omega\\Vert} ) $$"
   ]
  },
  {
   "cell_type": "markdown",
   "metadata": {},
   "source": [
    "<i> subject to the condition that every sample is classified correctly </i>"
   ]
  },
  {
   "cell_type": "markdown",
   "metadata": {},
   "source": [
    "$$ y_{i} ( \\omega^{T} X_{i} + b ) \\geq +1 \\qquad \\forall i \\in N $$\n",
    "Rewrite as for convenience:\n",
    "$$ y_{i} ( \\omega^{T} X_{i} + b ) - 1 = 0 \\qquad \\forall i \\in N $$"
   ]
  },
  {
   "cell_type": "markdown",
   "metadata": {},
   "source": [
    "<h3>Equivalent Objective Function</h3>"
   ]
  },
  {
   "cell_type": "markdown",
   "metadata": {},
   "source": [
    "$$ arg \\quad min ( \\frac{1}{2} \\Vert\\omega\\Vert ) $$\n",
    "For convenience:\n",
    "$$ arg \\quad min ( \\frac{1}{2} \\Vert\\omega\\Vert^2 ) $$"
   ]
  },
  {
   "cell_type": "markdown",
   "metadata": {},
   "source": [
    "<h3>Primal to Dual: Lagrange Multiplier</h3>"
   ]
  },
  {
   "cell_type": "markdown",
   "metadata": {},
   "source": [
    "<p>It is easier to solve the optimization problem in the dual rather than the primal space, since there are less number of variables.</p>\n",
    "<p>Convert constrained optimization to unconstrained convex</p>\n",
    "$$ arg \\quad min \\quad L = objective - coefficients \\quad x \\quad constraints $$"
   ]
  },
  {
   "cell_type": "markdown",
   "metadata": {},
   "source": [
    "$$ L = \\frac{1}{2} \\Vert\\omega\\Vert^2 - ( \\sum_{i} \\alpha_{i} ( y_{i} ( \\omega^{T} x_{i} + b ) - 1 ) ) $$"
   ]
  },
  {
   "cell_type": "markdown",
   "metadata": {},
   "source": [
    "<h4>Differentiation</h4>"
   ]
  },
  {
   "cell_type": "markdown",
   "metadata": {},
   "source": [
    "Differentiate to the support vector parameters w & b:\n",
    "$$ \\frac{\\delta L}{\\delta \\omega} = \\omega - \\sum_{i} \\alpha_{i} y_{i} x_{i} = 0 \\qquad \\longrightarrow \\qquad \\omega = \\sum_{i} \\alpha_{i} y_{i} x_{i} $$\n",
    "$$ \\frac{\\delta L}{\\delta b} = \\sum_{i} \\alpha_{i} y_{i} = 0 \\qquad \\longrightarrow \\qquad \\sum_{i} \\alpha_{i} y_{i} = 0 $$"
   ]
  },
  {
   "cell_type": "markdown",
   "metadata": {},
   "source": [
    "<h4>Substitution</h4>"
   ]
  },
  {
   "cell_type": "markdown",
   "metadata": {},
   "source": [
    "$$ L = \\frac{1}{2} \\sum_{i} \\alpha_{i} y_{i} x_{i} \\sum_{j} \\alpha_{j} y_{j} x_{j} - (\\sum_{i} \\alpha_{i} y_{i} x_{i} \\sum_{j} \\alpha_{j} y_{j} x_{j}) - \\sum_{i} \\alpha_{i} \\alpha_{i} y_{i} b + \\sum_{i} \\alpha_{i} $$\n",
    "$$ L = \\sum_{i} \\alpha_{i} - \\frac{1}{2} \\sum_{i} \\sum_{j} \\alpha_{i} \\alpha_{j} y_{i} y_{j} x_{i}^{T} x_{j} $$"
   ]
  },
  {
   "cell_type": "markdown",
   "metadata": {},
   "source": [
    "<h3>Quadratic Programming</h3>"
   ]
  },
  {
   "cell_type": "markdown",
   "metadata": {},
   "source": [
    "<p>Quadratic programming (QP) is the process of solving a special type of mathematical optimization problem—specifically, a (linearly constrained) quadratic optimization problem, that is, the problem of optimizing (minimizing or maximizing) a quadratic function of several variables subject to linear constraints on these variables. Quadratic programming is a particular type of nonlinear programming.</p>"
   ]
  },
  {
   "cell_type": "markdown",
   "metadata": {},
   "source": [
    "<img src=\"https://optimization.mccormick.northwestern.edu/images/0/07/QPPic.JPG\" />"
   ]
  },
  {
   "cell_type": "markdown",
   "metadata": {},
   "source": [
    "minimize $$ \\frac{1}{2} X^T Q X + c^{T} X $$\n",
    "subject to $$ AX \\leq b $$"
   ]
  },
  {
   "cell_type": "markdown",
   "metadata": {},
   "source": [
    "<h3>Objective Function Reformulation</h3>"
   ]
  },
  {
   "cell_type": "markdown",
   "metadata": {},
   "source": [
    "maximize $$ f(\\alpha, x) = \\sum_{i} \\alpha_{i} - \\frac{1}{2} \\sum_{i,j} \\alpha_{i} \\alpha_{j} y_{i} y_{j} x^{T}_{i} x_{j} $$\n",
    "subject to $$ 0 \\leq \\alpha_{i} \\leq C \\quad, \\qquad \\sum_{i} \\alpha_{i} y_{i} = 0 $$\n",
    "where $$ \\omega = \\sum_{i} \\alpha_{i} y_{i} x_{i} $$\n",
    "and $ \\alpha_{i} $ mostly equals zero which is equivalent to saying that only a few x samples matter to select the support vectors"
   ]
  },
  {
   "cell_type": "markdown",
   "metadata": {},
   "source": [
    "<p>The take home is that:</p>\n",
    "    <ul>\n",
    "    <li>Only few support vectors support determine the boundary</li>\n",
    "    <li>The optimization is completely dependent on the dot product ( projection ) of the samples</li>\n",
    "    </ul>"
   ]
  },
  {
   "cell_type": "markdown",
   "metadata": {},
   "source": [
    "<h3>From Dual to Primal</h3>\n",
    "<p>After we solve the quadratic program, then we convert the formula back to find our boundary parameters: w, b</p>\n",
    "$$ \\omega = \\sum_{i} \\alpha_{i} y_{i} x_{i} $$\n",
    "$$ b = \\sum_{i} ( y_{i} - \\omega x_{i} ) $$"
   ]
  },
  {
   "cell_type": "markdown",
   "metadata": {},
   "source": [
    "<h2>Kernels & Transform</h2>"
   ]
  },
  {
   "cell_type": "markdown",
   "metadata": {},
   "source": [
    "<p>Find a transformation that maximizes the inter class separation in cartesian space</p>\n",
    "<p>Some popular kernel functions are the linear, polynomial, Gaussian (RBF, corresponding to the infinite dimensional space) kernels.</p>"
   ]
  },
  {
   "cell_type": "markdown",
   "metadata": {},
   "source": [
    "$$ \\phi(x_{i}, x_{j}) = \\phi(x_{i})^{T} \\phi(x_{j}) $$"
   ]
  },
  {
   "cell_type": "markdown",
   "metadata": {},
   "source": [
    "<ul>\n",
    "    <li>Linear Kernel</li>\n",
    "    $$ x_{i}^{T} x_{j} $$\n",
    "    <li>Polynomial Kernel</li>\n",
    "    $$ (x_{i}^{T} x_{j} + 1)^{n} $$\n",
    "    <li>Non-linear Kernel ( Gaußian Kernel )</li>\n",
    "    $$ e^{-\\frac{\\Vert x_{i} - x_{j} \\Vert^{2}} {2 \\sigma^{2}}} $$\n",
    "</ul>"
   ]
  },
  {
   "cell_type": "markdown",
   "metadata": {},
   "source": [
    "<p>The objective function becomes:</p>\n",
    "    maximize $$ f(\\alpha, x) = \\sum_{i} \\alpha_{i} - \\frac{1}{2} \\sum_{i,j} \\alpha_{i} \\alpha_{j} y_{i} y_{j}  \\phi(x_{i}, x_{j}) $$"
   ]
  },
  {
   "cell_type": "markdown",
   "metadata": {},
   "source": [
    "<h3>From Dual to Primal ( Kernel )</h3\n",
    "$$ \\omega = \\sum_{i} \\alpha_{i} y_{i} \\phi (x_{i}) $$\n",
    "$$ b = \\sum_{i} (y_{i} - \\sum_{j} \\alpha_{i} y_{i} \\phi (x_{i}, x_{j})) $$"
   ]
  },
  {
   "cell_type": "markdown",
   "metadata": {},
   "source": [
    "<h2>Demo</h2>\n",
    "<b>CVXOPT Quadratic Programming</b> [<a href=\"http://cvxopt.org/userguide/coneprog.html#quadratic-programming\">Reference</a>]"
   ]
  },
  {
   "cell_type": "code",
   "execution_count": 1,
   "metadata": {},
   "outputs": [],
   "source": [
    "import numpy as np\n",
    "import cvxopt"
   ]
  },
  {
   "cell_type": "markdown",
   "metadata": {},
   "source": [
    "<h4>CVXOPT Notation</h4>\n",
    "<code>cvxopt.solvers.qp(P, q, G, h, A, b)</code>\n",
    "<img src=\"http://cvxopt.org/userguide/_images/math/4a1d5a88630fc2310b16135d0ae191d396ebae9e.png\" />"
   ]
  },
  {
   "cell_type": "markdown",
   "metadata": {},
   "source": [
    "<h4>SVM QP</h4>$$ P = y_{i} y_{j}  \\phi(x_{i}, x_{j}) $$\n",
    "$$ q = [1, ..., 1] * -1 $$\n",
    "$$ G = Identity * C $$\n",
    "$$ h =  [0, ..., 0] $$\n",
    "$$ A =  \\sum_{i} y_{i} $$\n",
    "$$ b = 0 $$"
   ]
  },
  {
   "cell_type": "markdown",
   "metadata": {},
   "source": [
    "<h4> Generate Linearly Separable Data </h4>"
   ]
  },
  {
   "cell_type": "code",
   "execution_count": 2,
   "metadata": {},
   "outputs": [],
   "source": [
    "def gen_lin_separable_data():\n",
    "    # generate training data in the 2-d case\n",
    "    mean1 = np.array([0, 2])\n",
    "    mean2 = np.array([2, 0])\n",
    "    cov = np.array([[0.8, 0.6], [0.6, 0.8]])\n",
    "    X1 = np.random.multivariate_normal(mean1, cov, 100)\n",
    "    y1 = np.ones(len(X1))\n",
    "    X2 = np.random.multivariate_normal(mean2, cov, 100)\n",
    "    y2 = np.ones(len(X2)) * -1\n",
    "    return X1, y1, X2, y2\n",
    "X1, y1, X2, y2 = gen_lin_separable_data()"
   ]
  },
  {
   "cell_type": "code",
   "execution_count": 3,
   "metadata": {},
   "outputs": [
    {
     "data": {
      "text/plain": [
       "(100, 2)"
      ]
     },
     "execution_count": 3,
     "metadata": {},
     "output_type": "execute_result"
    }
   ],
   "source": [
    "X1.shape"
   ]
  },
  {
   "cell_type": "code",
   "execution_count": 4,
   "metadata": {},
   "outputs": [
    {
     "data": {
      "text/plain": [
       "(100,)"
      ]
     },
     "execution_count": 4,
     "metadata": {},
     "output_type": "execute_result"
    }
   ],
   "source": [
    "y1.shape"
   ]
  },
  {
   "cell_type": "code",
   "execution_count": 5,
   "metadata": {},
   "outputs": [],
   "source": [
    "import matplotlib.pyplot as plt\n",
    "%matplotlib inline"
   ]
  },
  {
   "cell_type": "code",
   "execution_count": 6,
   "metadata": {},
   "outputs": [
    {
     "data": {
      "text/plain": [
       "[<matplotlib.lines.Line2D at 0x7f5e9b838be0>]"
      ]
     },
     "execution_count": 6,
     "metadata": {},
     "output_type": "execute_result"
    },
    {
     "data": {
      "image/png": "[encoded data removed]",
      "text/plain": [
       "<matplotlib.figure.Figure at 0x7f5e9b838c18>"
      ]
     },
     "metadata": {},
     "output_type": "display_data"
    }
   ],
   "source": [
    "plt.plot(X1[:,0], X1[:,1], \"rx\")\n",
    "plt.plot(X2[:,0], X2[:,1], \"bo\")"
   ]
  },
  {
   "cell_type": "markdown",
   "metadata": {},
   "source": [
    "<h4>Train Test Split</h4>"
   ]
  },
  {
   "cell_type": "code",
   "execution_count": 7,
   "metadata": {},
   "outputs": [],
   "source": [
    "X_train = np.vstack((X1[:90], X2[:90]))\n",
    "y_train = np.hstack((y1[:90], y2[:90]))"
   ]
  },
  {
   "cell_type": "code",
   "execution_count": 8,
   "metadata": {},
   "outputs": [],
   "source": [
    "X_test = np.vstack((X1[90:], X2[90:]))\n",
    "y_test = np.hstack((y1[90:], y2[90:]))"
   ]
  },
  {
   "cell_type": "code",
   "execution_count": 9,
   "metadata": {},
   "outputs": [
    {
     "name": "stdout",
     "output_type": "stream",
     "text": [
      "(180, 2) (180,) (20, 2) (20,)\n"
     ]
    }
   ],
   "source": [
    "print(X_train.shape, y_train.shape, X_test.shape, y_test.shape)"
   ]
  },
  {
   "cell_type": "markdown",
   "metadata": {},
   "source": [
    "<h4>Train SVM</h4>"
   ]
  },
  {
   "cell_type": "markdown",
   "metadata": {},
   "source": [
    "<h5>np.outer vs np.dot</h5>"
   ]
  },
  {
   "cell_type": "code",
   "execution_count": 10,
   "metadata": {},
   "outputs": [
    {
     "data": {
      "text/plain": [
       "(3, 3)"
      ]
     },
     "execution_count": 10,
     "metadata": {},
     "output_type": "execute_result"
    }
   ],
   "source": [
    "x = np.random.normal(0, 1, (3, 3))\n",
    "np.dot(x, x).shape"
   ]
  },
  {
   "cell_type": "code",
   "execution_count": 11,
   "metadata": {},
   "outputs": [
    {
     "data": {
      "text/plain": [
       "(9, 9)"
      ]
     },
     "execution_count": 11,
     "metadata": {},
     "output_type": "execute_result"
    }
   ],
   "source": [
    "np.outer(x, x).shape"
   ]
  },
  {
   "cell_type": "markdown",
   "metadata": {},
   "source": [
    "<h5>CVXOPT Matrix</h5>"
   ]
  },
  {
   "cell_type": "code",
   "execution_count": 12,
   "metadata": {},
   "outputs": [
    {
     "data": {
      "text/plain": [
       "<1x180 matrix, tc='d'>"
      ]
     },
     "execution_count": 12,
     "metadata": {},
     "output_type": "execute_result"
    }
   ],
   "source": [
    "cvxopt.matrix(y_train, (1, 180))"
   ]
  },
  {
   "cell_type": "markdown",
   "metadata": {},
   "source": [
    "<h5> G & h </h5>"
   ]
  },
  {
   "cell_type": "code",
   "execution_count": 13,
   "metadata": {},
   "outputs": [
    {
     "data": {
      "text/plain": [
       "(<3x3 matrix, tc='d'>, <3x1 matrix, tc='d'>)"
      ]
     },
     "execution_count": 13,
     "metadata": {},
     "output_type": "execute_result"
    }
   ],
   "source": [
    "G = cvxopt.matrix(np.diag(np.ones(3) * -1))\n",
    "h = cvxopt.matrix(np.zeros(3))\n",
    "G, h"
   ]
  },
  {
   "cell_type": "markdown",
   "metadata": {},
   "source": [
    "<h5>Flatten Matrix</h5>"
   ]
  },
  {
   "cell_type": "code",
   "execution_count": 14,
   "metadata": {},
   "outputs": [
    {
     "data": {
      "text/plain": [
       "(9,)"
      ]
     },
     "execution_count": 14,
     "metadata": {},
     "output_type": "execute_result"
    }
   ],
   "source": [
    "x = np.random.normal(0, 1, (3, 3))\n",
    "np.ravel(x).shape"
   ]
  },
  {
   "cell_type": "markdown",
   "metadata": {},
   "source": [
    "<h5>Qauadratic Program</h5>"
   ]
  },
  {
   "cell_type": "code",
   "execution_count": 15,
   "metadata": {},
   "outputs": [
    {
     "name": "stdout",
     "output_type": "stream",
     "text": [
      "     pcost       dcost       gap    pres   dres\n",
      " 0: -1.4536e+01 -2.7450e+01  5e+02  2e+01  2e+00\n",
      " 1: -1.5187e+01 -9.4070e+00  1e+02  5e+00  5e-01\n",
      " 2: -4.3464e+00 -3.2217e+00  3e+01  1e+00  1e-01\n",
      " 3: -1.3542e+00 -2.5011e+00  1e+00  1e-15  6e-15\n",
      " 4: -2.1346e+00 -2.4049e+00  3e-01  2e-15  5e-15\n",
      " 5: -2.1925e+00 -2.3981e+00  2e-01  1e-15  4e-15\n",
      " 6: -2.3753e+00 -2.3807e+00  5e-03  3e-15  5e-15\n",
      " 7: -2.3801e+00 -2.3802e+00  6e-05  1e-15  5e-15\n",
      " 8: -2.3802e+00 -2.3802e+00  6e-07  2e-15  5e-15\n",
      "Optimal solution found.\n"
     ]
    },
    {
     "data": {
      "text/plain": [
       "array([2.55660453e-09, 1.90324610e-09, 1.51672946e-09, 1.39162796e-09,\n",
       "       5.97144960e-09, 1.65246202e-09, 1.38274701e-09, 1.00371814e-09,\n",
       "       1.18138039e-09, 1.10773099e-08, 1.04230354e-09, 1.35024097e-09,\n",
       "       1.25283308e-09, 6.90112500e-09, 1.13511035e-09, 1.04348597e-09,\n",
       "       1.07635359e-09, 2.89997862e-09, 4.45371426e-09, 1.45899285e-09,\n",
       "       1.22100383e-09, 1.07094309e-09, 2.10457171e-09, 1.46258635e-09,\n",
       "       1.06953699e-09, 8.69751145e-10, 2.78686515e-09, 1.88478237e-09,\n",
       "       1.84618223e-09, 1.29162334e-09, 1.19942644e-09, 1.29593863e-09,\n",
       "       1.35598539e-09, 7.80405789e-10, 1.16143649e-09, 6.75089161e-10,\n",
       "       1.52569610e-09, 1.66770866e-09, 6.17010863e-10, 9.15247441e-10,\n",
       "       1.45784741e-09, 2.38019744e+00, 9.28201816e-10, 1.07600056e-09,\n",
       "       8.37165587e-10, 2.63247706e-09, 3.14070334e-09, 1.63482055e-09,\n",
       "       2.11875970e-09, 2.45480822e-09, 9.62183222e-10, 4.15048373e-09,\n",
       "       1.13079013e-09, 8.55529900e-10, 9.95984049e-10, 9.77813886e-10,\n",
       "       8.32554576e-10, 8.22190691e-10, 1.57595530e-08, 1.74351421e-09,\n",
       "       9.41965377e-10, 1.16976436e-09, 1.56335055e-09, 1.20253319e-08,\n",
       "       1.07365479e-09, 1.95074565e-09, 6.73955556e-10, 1.99722707e-09,\n",
       "       5.16498285e-09, 1.01711948e-09, 5.03935075e-09, 8.60679885e-10,\n",
       "       8.59381557e-10, 4.56577575e-09, 7.64842544e-10, 6.66213674e-10,\n",
       "       8.08989654e-10, 1.52364122e-09, 7.21653545e-10, 4.42871994e-09,\n",
       "       8.95134086e-10, 1.39561447e-09, 1.19676112e-09, 2.41666203e-09,\n",
       "       1.51758907e-09, 2.02015022e-09, 1.10198510e-09, 9.52076876e-10,\n",
       "       1.18133181e-09, 1.10264278e-09, 1.30773651e-09, 7.93655785e-10,\n",
       "       1.26582204e-09, 1.19027351e-09, 9.94996188e-10, 9.97384487e-10,\n",
       "       1.09948718e-09, 7.02841949e-10, 9.40440578e-10, 1.70545687e-09,\n",
       "       5.26944669e-09, 8.93448044e-10, 1.42797183e-09, 1.79912014e-09,\n",
       "       2.35788527e-09, 1.04595757e-08, 6.98867292e-10, 7.30590868e-10,\n",
       "       8.76006089e-10, 1.03151465e-09, 7.14759042e-10, 4.26337083e-09,\n",
       "       1.91212775e-09, 1.17777450e-09, 7.49131993e-10, 1.34642227e-09,\n",
       "       5.59541718e-08, 1.18795192e-09, 1.29265020e-09, 1.35311396e-09,\n",
       "       1.10783691e-09, 9.53298830e-10, 2.65465358e-09, 8.65147646e-10,\n",
       "       7.87335333e-10, 1.31049029e-09, 1.03724651e-09, 2.87372510e-09,\n",
       "       6.48122110e-09, 1.07487158e-09, 1.91962726e-09, 1.32562801e-09,\n",
       "       2.24623541e-09, 1.26932561e-09, 1.02833012e-09, 1.29731972e-09,\n",
       "       1.22600400e-09, 1.16249468e-09, 1.00403905e-09, 1.19508852e-09,\n",
       "       7.53813669e-10, 1.02506391e-09, 3.61881313e-01, 1.02984241e-09,\n",
       "       1.94976532e-09, 1.23972310e-09, 2.12149119e-09, 8.10755934e-10,\n",
       "       1.49890164e-09, 9.23882834e-10, 2.42351697e-09, 2.19413585e-09,\n",
       "       2.16784259e-09, 1.32960465e-09, 2.01831612e+00, 2.48072642e-09,\n",
       "       1.01669195e-09, 2.24313043e-09, 1.69447842e-09, 2.20795606e-09,\n",
       "       7.36699363e-10, 1.29078774e-09, 1.07467165e-09, 1.07132784e-09,\n",
       "       1.08775834e-09, 8.00831994e-10, 1.10406831e-09, 2.57980047e-09,\n",
       "       2.53291848e-09, 7.68512467e-10, 1.20465423e-09, 1.74842846e-09,\n",
       "       7.50634123e-10, 1.68669046e-09, 1.20098150e-09, 8.52632819e-10,\n",
       "       1.47981360e-09, 7.70151767e-10, 1.49468966e-09, 9.40997713e-10])"
      ]
     },
     "execution_count": 15,
     "metadata": {},
     "output_type": "execute_result"
    }
   ],
   "source": [
    "def solve_qp(X, y):\n",
    "    n_samples, n_features = X.shape\n",
    "\n",
    "    K = np.zeros((n_samples, n_samples))\n",
    "    for i in range(n_samples):\n",
    "        for j in range(n_samples):\n",
    "            K[i,j] = np.dot(X[i], X[j])\n",
    "\n",
    "    P = cvxopt.matrix(np.outer(y,y) * K)\n",
    "    q = cvxopt.matrix(np.ones(n_samples) * -1)\n",
    "    A = cvxopt.matrix(y, (1,n_samples))\n",
    "    b = cvxopt.matrix(0.0)\n",
    "\n",
    "    G = cvxopt.matrix(np.diag(np.ones(n_samples) * -1))\n",
    "    h = cvxopt.matrix(np.zeros(n_samples))\n",
    "\n",
    "    # solve QP problem\n",
    "    solution = cvxopt.solvers.qp(P, q, G, h, A, b)\n",
    "    return np.ravel(solution[\"x\"])\n",
    "solution_x = solve_qp(X_train, y_train)\n",
    "solution_x"
   ]
  },
  {
   "cell_type": "code",
   "execution_count": 16,
   "metadata": {},
   "outputs": [
    {
     "data": {
      "text/plain": [
       "array([False, False, False, False, False, False, False, False, False,\n",
       "       False, False, False, False, False, False, False, False, False,\n",
       "       False, False, False, False, False, False, False, False, False,\n",
       "       False, False, False, False, False, False, False, False, False,\n",
       "       False, False, False, False, False,  True, False, False, False,\n",
       "       False, False, False, False, False, False, False, False, False,\n",
       "       False, False, False, False, False, False, False, False, False,\n",
       "       False, False, False, False, False, False, False, False, False,\n",
       "       False, False, False, False, False, False, False, False, False,\n",
       "       False, False, False, False, False, False, False, False, False,\n",
       "       False, False, False, False, False, False, False, False, False,\n",
       "       False, False, False, False, False, False, False, False, False,\n",
       "       False, False, False, False, False, False, False, False, False,\n",
       "       False, False, False, False, False, False, False, False, False,\n",
       "       False, False, False, False, False, False, False, False, False,\n",
       "       False, False, False, False, False, False, False,  True, False,\n",
       "       False, False, False, False, False, False, False, False, False,\n",
       "       False,  True, False, False, False, False, False, False, False,\n",
       "       False, False, False, False, False, False, False, False, False,\n",
       "       False, False, False, False, False, False, False, False, False])"
      ]
     },
     "execution_count": 16,
     "metadata": {},
     "output_type": "execute_result"
    }
   ],
   "source": [
    "solution_x > 1e-5"
   ]
  },
  {
   "cell_type": "markdown",
   "metadata": {},
   "source": [
    "<h5>Extract SVMs</h5>"
   ]
  },
  {
   "cell_type": "code",
   "execution_count": 17,
   "metadata": {},
   "outputs": [
    {
     "data": {
      "text/plain": [
       "array([[1.23466265, 2.20032441],\n",
       "       [1.42803021, 0.92489801],\n",
       "       [2.06715455, 1.78354116]])"
      ]
     },
     "execution_count": 17,
     "metadata": {},
     "output_type": "execute_result"
    }
   ],
   "source": [
    "X_train[solution_x > 1e-7]"
   ]
  },
  {
   "cell_type": "code",
   "execution_count": 18,
   "metadata": {},
   "outputs": [
    {
     "data": {
      "text/plain": [
       "array([ 1., -1., -1.])"
      ]
     },
     "execution_count": 18,
     "metadata": {},
     "output_type": "execute_result"
    }
   ],
   "source": [
    "y_train[solution_x > 1e-7]"
   ]
  },
  {
   "cell_type": "code",
   "execution_count": 19,
   "metadata": {},
   "outputs": [
    {
     "data": {
      "text/plain": [
       "array([ 41, 142, 154])"
      ]
     },
     "execution_count": 19,
     "metadata": {},
     "output_type": "execute_result"
    }
   ],
   "source": [
    "np.arange(len(solution_x))[solution_x > 1e-7]"
   ]
  },
  {
   "cell_type": "code",
   "execution_count": 20,
   "metadata": {},
   "outputs": [
    {
     "data": {
      "text/plain": [
       "array([2.38019744, 0.36188131, 2.01831612])"
      ]
     },
     "execution_count": 20,
     "metadata": {},
     "output_type": "execute_result"
    }
   ],
   "source": [
    "solution_x[solution_x > 1e-7]"
   ]
  },
  {
   "cell_type": "markdown",
   "metadata": {},
   "source": [
    "<h5>Dual to Primal</h5>"
   ]
  },
  {
   "cell_type": "code",
   "execution_count": 21,
   "metadata": {},
   "outputs": [],
   "source": [
    "xs = X_train[solution_x > 1e-7]\n",
    "ys = y_train[solution_x > 1e-7]\n",
    "alphas = solution_x[solution_x > 1e-7]\n",
    "indices = np.arange(len(solution_x))[solution_x > 1e-7]"
   ]
  },
  {
   "cell_type": "code",
   "execution_count": 22,
   "metadata": {},
   "outputs": [
    {
     "data": {
      "text/plain": [
       "array([-1.75020792,  1.30275335])"
      ]
     },
     "execution_count": 22,
     "metadata": {},
     "output_type": "execute_result"
    }
   ],
   "source": [
    "w = np.zeros(X_train.shape[1])\n",
    "for i in range(len(indices)):\n",
    "    w += alphas[i] * ys[i] * xs[i]\n",
    "w"
   ]
  },
  {
   "cell_type": "code",
   "execution_count": 23,
   "metadata": {},
   "outputs": [
    {
     "data": {
      "text/plain": [
       "array([-1.75020792,  1.30275335])"
      ]
     },
     "execution_count": 23,
     "metadata": {},
     "output_type": "execute_result"
    }
   ],
   "source": [
    "w = np.sum(np.dot(alphas * ys.reshape(1,-1), xs), axis=0)\n",
    "w"
   ]
  },
  {
   "cell_type": "code",
   "execution_count": 24,
   "metadata": {},
   "outputs": [
    {
     "data": {
      "text/plain": [
       "0.883308202050253"
      ]
     },
     "execution_count": 24,
     "metadata": {},
     "output_type": "execute_result"
    }
   ],
   "source": [
    "b = np.sum(ys - np.dot(w.reshape(1, -1), xs.transpose()))\n",
    "b"
   ]
  },
  {
   "cell_type": "markdown",
   "metadata": {},
   "source": [
    "<h5>Plot Boundary</h5>"
   ]
  },
  {
   "cell_type": "code",
   "execution_count": 25,
   "metadata": {},
   "outputs": [
    {
     "data": {
      "text/plain": [
       "[<matplotlib.lines.Line2D at 0x7f5e987440b8>]"
      ]
     },
     "execution_count": 25,
     "metadata": {},
     "output_type": "execute_result"
    },
    {
     "data": {
      "image/png": "[encoded data removed]",
      "text/plain": [
       "<matplotlib.figure.Figure at 0x7f5e9b73ecf8>"
      ]
     },
     "metadata": {},
     "output_type": "display_data"
    }
   ],
   "source": [
    "plt.plot(X1[:,0], X1[:,1], \"rx\")\n",
    "plt.plot(X2[:,0], X2[:,1], \"bo\")\n",
    "plt.plot((-2,4), ((-w[0] * -2 - b)/w[1], (-w[0] * 4 - b)/w[1]), \"k\")\n",
    "plt.plot((-2,4), ((1-w[0] * -2 - b)/w[1], (1-w[0] * 4 - b)/w[1]), \"k--\")\n",
    "plt.plot((-2,4), ((-1-w[0] * -2 - b)/w[1], (-1-w[0] * 4 - b)/w[1]), \"k--\")"
   ]
  },
  {
   "cell_type": "markdown",
   "metadata": {},
   "source": [
    "<h2>Polynomial Kernel</h2>"
   ]
  },
  {
   "cell_type": "code",
   "execution_count": 26,
   "metadata": {},
   "outputs": [],
   "source": [
    "    def gen_non_lin_separable_data():\n",
    "        mean1 = [-1, 2]\n",
    "        mean2 = [1, -1]\n",
    "        mean3 = [4, -4]\n",
    "        mean4 = [-4, 4]\n",
    "        cov = [[1.0,0.8], [0.8, 1.0]]\n",
    "        X1 = np.random.multivariate_normal(mean1, cov, 50)\n",
    "        X1 = np.vstack((X1, np.random.multivariate_normal(mean3, cov, 50)))\n",
    "        y1 = np.ones(len(X1))\n",
    "        X2 = np.random.multivariate_normal(mean2, cov, 50)\n",
    "        X2 = np.vstack((X2, np.random.multivariate_normal(mean4, cov, 50)))\n",
    "        y2 = np.ones(len(X2)) * -1\n",
    "        return X1, y1, X2, y2"
   ]
  },
  {
   "cell_type": "code",
   "execution_count": 27,
   "metadata": {},
   "outputs": [],
   "source": [
    "X_1, y_1, X_2, y_2 = gen_non_lin_separable_data()"
   ]
  },
  {
   "cell_type": "code",
   "execution_count": 28,
   "metadata": {},
   "outputs": [
    {
     "data": {
      "text/plain": [
       "[<matplotlib.lines.Line2D at 0x7f5e9b73e438>]"
      ]
     },
     "execution_count": 28,
     "metadata": {},
     "output_type": "execute_result"
    },
    {
     "data": {
      "image/png": "[encoded data removed]",
      "text/plain": [
       "<matplotlib.figure.Figure at 0x7f5e9b73e470>"
      ]
     },
     "metadata": {},
     "output_type": "display_data"
    }
   ],
   "source": [
    "plt.plot(X_1[:,0], X_1[:,1], \"rx\")\n",
    "plt.plot(X_2[:,0], X_2[:,1], \"bo\")"
   ]
  },
  {
   "cell_type": "markdown",
   "metadata": {},
   "source": [
    "<h5>Train Function</h5>"
   ]
  },
  {
   "cell_type": "code",
   "execution_count": 29,
   "metadata": {},
   "outputs": [],
   "source": [
    "def train(X, y, kernel):\n",
    "    n_samples, n_features = X.shape\n",
    "\n",
    "    K = np.zeros((n_samples, n_samples))\n",
    "    for i in range(n_samples):\n",
    "        for j in range(n_samples):\n",
    "            K[i,j] = kernel(X[i], X[j])\n",
    "\n",
    "    P = cvxopt.matrix(np.outer(y,y) * K)\n",
    "    q = cvxopt.matrix(np.ones(n_samples) * -1)\n",
    "    A = cvxopt.matrix(y, (1,n_samples))\n",
    "    b = cvxopt.matrix(0.0)\n",
    "\n",
    "    G = cvxopt.matrix(np.diag(np.ones(n_samples) * -1))\n",
    "    h = cvxopt.matrix(np.zeros(n_samples))\n",
    "\n",
    "    # solve QP problem\n",
    "    solution = cvxopt.solvers.qp(P, q, G, h, A, b)\n",
    "\n",
    "    # Lagrange multipliers\n",
    "    solution_x = np.ravel(solution['x'])\n",
    "\n",
    "    xs = X_train[solution_x > 1e-7]\n",
    "    ys = y_train[solution_x > 1e-7]\n",
    "    alphas = solution_x[solution_x > 1e-7]\n",
    "    indices = np.arange(len(solution_x))[solution_x > 1e-7]\n",
    "\n",
    "    # Slope & Intercept\n",
    "    w = np.sum(np.dot(alphas * ys.reshape(1,-1), xs), axis=0)\n",
    "    b = np.sum(ys - np.dot(w.reshape(1, -1), xs.transpose()))\n",
    "        \n",
    "    return w, b, xs, ys, alphas"
   ]
  },
  {
   "cell_type": "code",
   "execution_count": 30,
   "metadata": {},
   "outputs": [],
   "source": [
    "X_train = np.vstack((X_1[:90], X_2[:90]))\n",
    "y_train = np.hstack((y_1[:90], y_2[:90]))"
   ]
  },
  {
   "cell_type": "code",
   "execution_count": 31,
   "metadata": {},
   "outputs": [],
   "source": [
    "def linear_kernel(x1, x2):\n",
    "    return np.dot(x1, x2)"
   ]
  },
  {
   "cell_type": "code",
   "execution_count": 32,
   "metadata": {},
   "outputs": [
    {
     "name": "stdout",
     "output_type": "stream",
     "text": [
      "     pcost       dcost       gap    pres   dres\n",
      " 0: -1.4408e+02 -3.6867e+02  2e+02  4e-14  3e+00\n",
      " 1: -2.9117e+02 -2.9649e+02  5e+00  1e-13  1e+00\n",
      " 2: -1.6332e+04 -1.6335e+04  3e+00  8e-12  1e+00\n",
      " 3: -8.1216e+07 -8.1216e+07  2e+02  3e-09  1e+00\n",
      " 4: -3.3134e+09 -3.3135e+09  7e+03  2e-07  1e+00\n",
      "Terminated (singular KKT matrix).\n"
     ]
    }
   ],
   "source": [
    "w, b, _, _, _ = train(X_train, y_train, linear_kernel)"
   ]
  },
  {
   "cell_type": "code",
   "execution_count": 33,
   "metadata": {},
   "outputs": [
    {
     "data": {
      "text/plain": [
       "[<matplotlib.lines.Line2D at 0x7f5e98621748>]"
      ]
     },
     "execution_count": 33,
     "metadata": {},
     "output_type": "execute_result"
    },
    {
     "data": {
      "image/png": "[encoded data removed]",
      "text/plain": [
       "<matplotlib.figure.Figure at 0x7f5e986d8390>"
      ]
     },
     "metadata": {},
     "output_type": "display_data"
    }
   ],
   "source": [
    "plt.plot(X_1[:,0], X_1[:,1], \"rx\")\n",
    "plt.plot(X_2[:,0], X_2[:,1], \"bo\")\n",
    "plt.plot((-6,6), ((-w[0] * -6 - b)/w[1], (-w[0] * 6 - b)/w[1]), \"k\")\n",
    "plt.plot((-6,6), ((1-w[0] * -6 - b)/w[1], (1-w[0] * 6 - b)/w[1]), \"k--\")\n",
    "plt.plot((-6,6), ((-1-w[0] * -6 - b)/w[1], (-1-w[0] * 6 - b)/w[1]), \"k--\")"
   ]
  },
  {
   "cell_type": "code",
   "execution_count": 34,
   "metadata": {},
   "outputs": [],
   "source": [
    "def train(X, y, kernel):\n",
    "    n_samples, n_features = X.shape\n",
    "\n",
    "    K = np.zeros((n_samples, n_samples))\n",
    "    for i in range(n_samples):\n",
    "        for j in range(n_samples):\n",
    "            K[i,j] = kernel(X[i], X[j])\n",
    "\n",
    "    P = cvxopt.matrix(np.outer(y,y) * K)\n",
    "    q = cvxopt.matrix(np.ones(n_samples) * -1)\n",
    "    A = cvxopt.matrix(y, (1,n_samples))\n",
    "    b = cvxopt.matrix(0.0)\n",
    "\n",
    "    G = cvxopt.matrix(np.diag(np.ones(n_samples) * -1))\n",
    "    h = cvxopt.matrix(np.zeros(n_samples))\n",
    "\n",
    "    # solve QP problem\n",
    "    solution = cvxopt.solvers.qp(P, q, G, h, A, b)\n",
    "\n",
    "    # Lagrange multipliers\n",
    "    solution_x = np.ravel(solution['x'])\n",
    "\n",
    "    xs = X_train[solution_x > 1e-7]\n",
    "    ys = y_train[solution_x > 1e-7]\n",
    "    alphas = solution_x[solution_x > 1e-7]\n",
    "    indices = np.arange(len(solution_x))[solution_x > 1e-7]\n",
    "\n",
    "    # Intercept\n",
    "    b = 0\n",
    "    for i in range(len(indices)):\n",
    "        s = 0\n",
    "        for j in range(n_samples):\n",
    "            s += alphas[i] * ys[i] * kernel(xs[i], X[j])\n",
    "        b += ys[i] - s\n",
    "        \n",
    "    return w, b, xs, ys, alphas"
   ]
  },
  {
   "cell_type": "code",
   "execution_count": 35,
   "metadata": {},
   "outputs": [
    {
     "name": "stdout",
     "output_type": "stream",
     "text": [
      "     pcost       dcost       gap    pres   dres\n",
      " 0: -4.0912e+01 -9.3986e+01  1e+03  4e+01  2e+00\n",
      " 1: -7.5216e+01 -7.2968e+01  5e+02  2e+01  1e+00\n",
      " 2: -1.4766e+01 -3.1817e+00  1e+02  3e+00  2e-01\n",
      " 3: -4.9281e-01 -5.2722e-01  4e+00  1e-01  6e-03\n",
      " 4: -1.1309e-01 -4.7950e-01  2e+00  4e-02  3e-03\n",
      " 5: -9.4226e-02 -3.2968e-01  7e-01  1e-02  6e-04\n",
      " 6: -1.4644e-01 -2.2821e-01  2e-01  3e-03  2e-04\n",
      " 7: -1.5096e-01 -1.9825e-01  1e-01  1e-03  9e-05\n",
      " 8: -1.5109e-01 -1.8777e-01  9e-02  9e-04  5e-05\n",
      " 9: -1.5871e-01 -1.8054e-01  3e-02  7e-05  4e-06\n",
      "10: -1.6940e-01 -1.7866e-01  1e-02  6e-06  3e-07\n",
      "11: -1.7600e-01 -1.7766e-01  2e-03  3e-17  4e-14\n",
      "12: -1.7750e-01 -1.7753e-01  3e-05  5e-17  4e-14\n",
      "13: -1.7753e-01 -1.7753e-01  3e-07  3e-17  5e-14\n",
      "14: -1.7753e-01 -1.7753e-01  3e-09  2e-17  4e-14\n",
      "Optimal solution found.\n"
     ]
    }
   ],
   "source": [
    "def polynomial_kernel(x, y, p=3):\n",
    "    return (1 + np.dot(x, y)) ** p\n",
    "w, b, xs, ys, alphas = train(X_train, y_train, polynomial_kernel)"
   ]
  },
  {
   "cell_type": "code",
   "execution_count": 36,
   "metadata": {},
   "outputs": [],
   "source": [
    "# X list of samples\n",
    "def polynomial_projection(X, alphas, ys, xs, b):\n",
    "    ret = np.zeros(len(X))\n",
    "    for i in range(len(X)):\n",
    "        s = 0\n",
    "        for a, y, x in zip(alphas, ys, xs):\n",
    "            s += a * y * polynomial_kernel(X[i], x)\n",
    "        ret[i] = s\n",
    "    return ret + b"
   ]
  },
  {
   "cell_type": "code",
   "execution_count": 37,
   "metadata": {},
   "outputs": [
    {
     "data": {
      "text/plain": [
       "array([-619.35875828])"
      ]
     },
     "execution_count": 37,
     "metadata": {},
     "output_type": "execute_result"
    }
   ],
   "source": [
    "polynomial_projection([[-6, -6]], alphas, ys, xs, b)"
   ]
  },
  {
   "cell_type": "code",
   "execution_count": 38,
   "metadata": {},
   "outputs": [
    {
     "name": "stderr",
     "output_type": "stream",
     "text": [
      "/home/qamaruddin/anaconda3/lib/python3.6/site-packages/matplotlib/contour.py:1180: UserWarning: No contour levels were found within the data range.\n",
      "  warnings.warn(\"No contour levels were found\"\n"
     ]
    },
    {
     "data": {
      "image/png": "[encoded data removed]",
      "text/plain": [
       "<matplotlib.figure.Figure at 0x7f5e9863e630>"
      ]
     },
     "metadata": {},
     "output_type": "display_data"
    }
   ],
   "source": [
    "def plot_contour(X1_train, X2_train, alphas, ys, xs, b):\n",
    "        plt.plot(X1_train[:,0], X1_train[:,1], \"rx\")\n",
    "        plt.plot(X2_train[:,0], X2_train[:,1], \"bo\")\n",
    "        plt.scatter(xs[:,0], xs[:,1], c=ys)\n",
    "        \n",
    "        X1, X2 = np.meshgrid(np.linspace(-6,6,50), np.linspace(-6,6,50))\n",
    "        X = np.array([[x1, x2] for x1, x2 in zip(np.ravel(X1), np.ravel(X2))])\n",
    "        Z = polynomial_projection(X, alphas, ys, xs, b).reshape(X1.shape)\n",
    "        plt.contour(X1, X2, Z, [0.0], colors='k', linewidths=1, origin='lower')\n",
    "        plt.contour(X1, X2, Z + 1, [0.0], colors='grey', linewidths=1, origin='lower')\n",
    "        plt.contour(X1, X2, Z - 1, [0.0], colors='grey', linewidths=1, origin='lower')\n",
    "plot_contour(X_1[:90], X_2[:90], alphas, ys, xs, b)"
   ]
  },
  {
   "cell_type": "code",
   "execution_count": 39,
   "metadata": {},
   "outputs": [
    {
     "data": {
      "text/plain": [
       "[<matplotlib.lines.Line2D at 0x7f5e9862b518>]"
      ]
     },
     "execution_count": 39,
     "metadata": {},
     "output_type": "execute_result"
    },
    {
     "data": {
      "image/png": "[encoded data removed]",
      "text/plain": [
       "<matplotlib.figure.Figure at 0x7f5e9862b4e0>"
      ]
     },
     "metadata": {},
     "output_type": "display_data"
    }
   ],
   "source": [
    "plt.plot(X_1[:,0], X_1[:,1], \"rx\")\n",
    "plt.plot(X_2[:,0], X_2[:,1], \"bo\")"
   ]
  },
  {
   "cell_type": "code",
   "execution_count": 40,
   "metadata": {},
   "outputs": [
    {
     "name": "stdout",
     "output_type": "stream",
     "text": [
      "     pcost       dcost       gap    pres   dres\n",
      " 0: -5.5212e+01 -1.5396e+02  5e+02  2e+01  2e+00\n",
      " 1: -8.4399e+01 -1.7823e+02  2e+02  6e+00  6e-01\n",
      " 2: -1.2804e+02 -2.1769e+02  1e+02  4e+00  4e-01\n",
      " 3: -1.6734e+02 -2.3889e+02  1e+02  2e+00  2e-01\n",
      " 4: -1.9608e+02 -2.3474e+02  5e+01  7e-01  7e-02\n",
      " 5: -2.1246e+02 -2.2107e+02  1e+01  7e-02  6e-03\n",
      " 6: -2.1779e+02 -2.1934e+02  2e+00  3e-03  3e-04\n",
      " 7: -2.1906e+02 -2.1910e+02  4e-02  7e-05  6e-06\n",
      " 8: -2.1909e+02 -2.1909e+02  6e-04  7e-07  7e-08\n",
      " 9: -2.1909e+02 -2.1909e+02  6e-06  7e-09  7e-10\n",
      "Optimal solution found.\n"
     ]
    },
    {
     "data": {
      "image/png": "[encoded data removed]",
      "text/plain": [
       "<matplotlib.figure.Figure at 0x7f5e9858b128>"
      ]
     },
     "metadata": {},
     "output_type": "display_data"
    }
   ],
   "source": [
    "def gaussian_kernel(x, y, sigma=5.0):\n",
    "    return np.exp(-np.linalg.norm(x-y)**2 / (2 * (sigma ** 2)))\n",
    "w, b, xs, ys, alphas = train(X_train, y_train, gaussian_kernel)\n",
    "plot_contour(X_1[:90], X_2[:90], alphas, ys, xs, b)"
   ]
  },
  {
   "cell_type": "markdown",
   "metadata": {},
   "source": [
    "<h4> How about C?</h4>"
   ]
  },
  {
   "cell_type": "code",
   "execution_count": 41,
   "metadata": {},
   "outputs": [],
   "source": [
    "def train(X, y, kernel, C=100):\n",
    "    n_samples, n_features = X.shape\n",
    "\n",
    "    K = np.zeros((n_samples, n_samples))\n",
    "    for i in range(n_samples):\n",
    "        for j in range(n_samples):\n",
    "            K[i,j] = kernel(X[i], X[j])\n",
    "\n",
    "    P = cvxopt.matrix(np.outer(y,y) * K)\n",
    "    q = cvxopt.matrix(np.ones(n_samples) * -1)\n",
    "    A = cvxopt.matrix(y, (1,n_samples))\n",
    "    b = cvxopt.matrix(0.0)\n",
    "\n",
    "    tmp1 = np.diag(np.ones(n_samples) * -1)\n",
    "    tmp2 = np.identity(n_samples)\n",
    "    G = cvxopt.matrix(np.vstack((tmp1, tmp2)))\n",
    "    tmp1 = np.zeros(n_samples)\n",
    "    tmp2 = np.ones(n_samples) * C\n",
    "    h = cvxopt.matrix(np.hstack((tmp1, tmp2)))\n",
    "\n",
    "    # solve QP problem\n",
    "    solution = cvxopt.solvers.qp(P, q, G, h, A, b)\n",
    "\n",
    "    # Lagrange multipliers\n",
    "    solution_x = np.ravel(solution['x'])\n",
    "    xs = X_train[solution_x > 1e-6]\n",
    "    ys = y_train[solution_x > 1e-6]\n",
    "    alphas = solution_x[solution_x > 1e-6]\n",
    "    indices = np.arange(len(solution_x))[solution_x > 1e-6]\n",
    "\n",
    "    return w, b, xs, ys, alphas"
   ]
  },
  {
   "cell_type": "code",
   "execution_count": 42,
   "metadata": {},
   "outputs": [
    {
     "name": "stdout",
     "output_type": "stream",
     "text": [
      "     pcost       dcost       gap    pres   dres\n",
      " 0:  8.7295e+06 -7.8122e+07  1e+08  2e-01  3e-12\n",
      " 1:  4.3030e+06 -7.2434e+06  1e+07  1e-02  6e-12\n",
      " 2:  7.4133e+05 -1.0439e+06  2e+06  2e-04  2e-12\n",
      " 3:  1.0818e+05 -1.3586e+05  2e+05  3e-12  9e-13\n",
      " 4:  1.4925e+04 -1.9089e+04  3e+04  3e-12  3e-13\n",
      " 5:  1.8518e+03 -2.9823e+03  5e+03  4e-14  1e-13\n",
      " 6:  1.2006e+02 -5.5247e+02  7e+02  3e-14  5e-14\n",
      " 7: -3.4855e+01 -3.1763e+02  3e+02  2e-13  3e-14\n",
      " 8: -1.2750e+02 -2.9693e+02  2e+02  6e-15  3e-14\n",
      " 9: -1.6633e+02 -2.7871e+02  1e+02  8e-14  4e-14\n",
      "10: -2.0796e+02 -2.3116e+02  2e+01  4e-15  6e-14\n",
      "11: -2.1695e+02 -2.2165e+02  5e+00  8e-14  7e-14\n",
      "12: -2.1868e+02 -2.1959e+02  9e-01  7e-15  6e-14\n",
      "13: -2.1908e+02 -2.1910e+02  2e-02  8e-14  7e-14\n",
      "14: -2.1909e+02 -2.1909e+02  2e-04  6e-14  6e-14\n",
      "Optimal solution found.\n"
     ]
    },
    {
     "data": {
      "image/png": "[encoded data removed]",
      "text/plain": [
       "<matplotlib.figure.Figure at 0x7f5e98679780>"
      ]
     },
     "metadata": {},
     "output_type": "display_data"
    }
   ],
   "source": [
    "w, b, xs, ys, alphas = train(X_train, y_train, gaussian_kernel, 1000)\n",
    "plot_contour(X_1[:90], X_2[:90], alphas, ys, xs, b)"
   ]
  },
  {
   "cell_type": "code",
   "execution_count": 43,
   "metadata": {},
   "outputs": [
    {
     "name": "stdout",
     "output_type": "stream",
     "text": [
      "     pcost       dcost       gap    pres   dres\n",
      " 0: -2.0679e+01 -3.7498e+00  1e+03  4e+01  2e-11\n",
      " 1: -6.7967e-01 -3.7209e+00  3e+01  6e-01  3e-11\n",
      " 2: -3.1334e-01 -2.7621e+00  5e+00  9e-02  4e-12\n",
      " 3: -1.7905e-01 -1.3592e+00  2e+00  3e-02  1e-12\n",
      " 4: -1.3286e-01 -7.4745e-01  9e-01  1e-02  6e-13\n",
      " 5: -1.1445e-01 -4.8294e-01  5e-01  7e-03  3e-13\n",
      " 6: -1.0542e-01 -2.0200e-01  1e-01  1e-03  7e-14\n",
      " 7: -9.8984e-02 -1.7355e-01  9e-02  6e-04  4e-14\n",
      " 8: -1.0679e-01 -1.3400e-01  3e-02  2e-04  2e-14\n",
      " 9: -1.1175e-01 -1.1815e-01  7e-03  3e-05  2e-14\n",
      "10: -1.1333e-01 -1.1426e-01  9e-04  3e-17  3e-14\n",
      "11: -1.1373e-01 -1.1377e-01  4e-05  2e-17  3e-14\n",
      "12: -1.1375e-01 -1.1375e-01  4e-07  3e-17  2e-14\n",
      "13: -1.1375e-01 -1.1375e-01  4e-09  3e-17  3e-14\n",
      "Optimal solution found.\n"
     ]
    },
    {
     "data": {
      "image/png": "[encoded data removed]",
      "text/plain": [
       "<matplotlib.figure.Figure at 0x7f5e98679668>"
      ]
     },
     "metadata": {},
     "output_type": "display_data"
    }
   ],
   "source": [
    "\n",
    "w, b, xs, ys, alphas = train(X_train, y_train, polynomial_kernel, 0.01)\n",
    "plot_contour(X_1[:90], X_2[:90], alphas, ys, xs, b)"
   ]
  },
  {
   "cell_type": "markdown",
   "metadata": {},
   "source": [
    "<h2>Further Readings:</h2>"
   ]
  },
  {
   "cell_type": "markdown",
   "metadata": {},
   "source": [
    "<ul>\n",
    "    <li>Implementing a Soft-Margin Kernelized Support Vector Machine Binary Classifier with Quadratic Programming in R and Python [<a href=\"https://sandipanweb.wordpress.com/2018/04/23/implementing-a-soft-margin-kernelized-support-vector-machine-binary-classifier-with-quadratic-programming-in-r-and-python/\">Link</a>]</li>\n",
    "    <li>Kernels, Soft Margin SVM, and Quadratic Programming with Python and CVXOPT [<a href=\"https://pythonprogramming.net/soft-margin-kernel-cvxopt-svm-machine-learning-tutorial/\">Link</a>]</li>\n",
    "    <li>MIT OpenCourseWare: Learning Support Vector Machines [<a href=\"https://www.youtube.com/watch?v=_PwhiWxHK8o\">Link</a>]</li>\n",
    "    </ul>"
   ]
  },
  {
   "cell_type": "code",
   "execution_count": null,
   "metadata": {},
   "outputs": [],
   "source": []
  }
 ],
 "metadata": {
  "kernelspec": {
   "display_name": "Python 3",
   "language": "python",
   "name": "python3"
  },
  "language_info": {
   "codemirror_mode": {
    "name": "ipython",
    "version": 3
   },
   "file_extension": ".py",
   "mimetype": "text/x-python",
   "name": "python",
   "nbconvert_exporter": "python",
   "pygments_lexer": "ipython3",
   "version": "3.6.4"
  }
 },
 "nbformat": 4,
 "nbformat_minor": 2
}
