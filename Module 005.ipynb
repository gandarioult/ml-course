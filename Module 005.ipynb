{
 "cells": [
  {
   "cell_type": "markdown",
   "metadata": {},
   "source": [
    "<h1>Support Vector Machines</h1>"
   ]
  },
  {
   "cell_type": "markdown",
   "metadata": {},
   "source": [
    "<img src=\"https://rlv.zcache.com/i_support_vector_machines_coffee_mug-rb87ddcefceec4a23a747b2fc6dc80c72_x7jgr_8byvr_540.jpg\" />"
   ]
  },
  {
   "cell_type": "markdown",
   "metadata": {},
   "source": [
    "<h2>History</h2>\n",
    "<img src=\"https://www.nae.edu/File.aspx?id=41448\" width=\"200\" /><img src=\"http://skandaly.ru/wp-content/uploads/2015/01/Screenshot_2.jpg\" width=\"200\" />\n",
    "<p>The original SVM algorithm was invented by Vladimir N. Vapnik and Alexey Ya. Chervonenkis in 1963.</p>"
   ]
  },
  {
   "cell_type": "markdown",
   "metadata": {},
   "source": [
    "<h2>Separable and Non-separable Data</h2>"
   ]
  },
  {
   "cell_type": "markdown",
   "metadata": {},
   "source": [
    "<img src=\"https://4.bp.blogspot.com/-hVpaRjqD2-s/WV1ajxdZvpI/AAAAAAAABzo/xXTNAfinHggb2ychpZ_1Pjg2OGwViq42ACLcBGAs/s1600/Capture.PNG\" />"
   ]
  },
  {
   "cell_type": "markdown",
   "metadata": {},
   "source": [
    "<p><b>What if data is non-separable?</b></p>\n",
    "<p><i>Hint:</i> take the data to a higher dimensional space separable with a hyper-plane</p>"
   ]
  },
  {
   "cell_type": "markdown",
   "metadata": {},
   "source": [
    "<h2>Mathematical Derivation</h2>"
   ]
  },
  {
   "cell_type": "markdown",
   "metadata": {},
   "source": [
    "<img src=\"https://sandipanweb.files.wordpress.com/2018/04/svm_slack.png?w=676\" />"
   ]
  },
  {
   "cell_type": "markdown",
   "metadata": {},
   "source": [
    "<h3>1,000 Feet View</h3>\n",
    "<img src=\"\" />"
   ]
  },
  {
   "cell_type": "markdown",
   "metadata": {},
   "source": [
    "<h3>Line Equation</h3>"
   ]
  },
  {
   "cell_type": "markdown",
   "metadata": {},
   "source": [
    "$$ \\omega^{T} X + b = 0 $$"
   ]
  },
  {
   "cell_type": "markdown",
   "metadata": {},
   "source": [
    "<h3>Target Value</h3>"
   ]
  },
  {
   "cell_type": "markdown",
   "metadata": {},
   "source": [
    "$$ y = \\omega^{T} X + b = \\{+1, -1\\} $$"
   ]
  },
  {
   "cell_type": "markdown",
   "metadata": {},
   "source": [
    "<h3>Substitution</h3>"
   ]
  },
  {
   "cell_type": "markdown",
   "metadata": {},
   "source": [
    "$$ y_{1} = \\omega^{T} X_{1} + b = +1 $$\n",
    "$$ y_{2} = \\omega^{T} X_{2} + b = +1 $$"
   ]
  },
  {
   "cell_type": "markdown",
   "metadata": {},
   "source": [
    "<h3>Distance</h3>"
   ]
  },
  {
   "cell_type": "markdown",
   "metadata": {},
   "source": [
    "$$ y1 - y2 = \\omega^{T} (X_{1} - X_{2}) = 2 $$"
   ]
  },
  {
   "cell_type": "markdown",
   "metadata": {},
   "source": [
    "<h3>Normalize</h3>"
   ]
  },
  {
   "cell_type": "markdown",
   "metadata": {},
   "source": [
    "$$ \\frac{\\omega^{T}}{\\Vert{\\omega}\\Vert} ( X_{1} - X_{2} ) = \\frac{2}{\\Vert{\\omega}\\Vert} $$"
   ]
  },
  {
   "cell_type": "markdown",
   "metadata": {},
   "source": [
    "<h3>Objective Function</h3>"
   ]
  },
  {
   "cell_type": "markdown",
   "metadata": {},
   "source": [
    "$$ arg \\quad max ( \\frac{2}{\\Vert\\omega\\Vert} ) $$"
   ]
  },
  {
   "cell_type": "markdown",
   "metadata": {},
   "source": [
    "<i> subject to the condition that every sample is classified correctly </i>"
   ]
  },
  {
   "cell_type": "markdown",
   "metadata": {},
   "source": [
    "$$ y_{i} ( \\omega^{T} X_{i} + b ) \\geq +1 \\qquad \\forall i \\in N $$\n",
    "Rewrite as for convenience:\n",
    "$$ y_{i} ( \\omega^{T} X_{i} + b ) - 1 = 0 \\qquad \\forall i \\in N $$"
   ]
  },
  {
   "cell_type": "markdown",
   "metadata": {},
   "source": [
    "<h3>Equivalent Objective Function</h3>"
   ]
  },
  {
   "cell_type": "markdown",
   "metadata": {},
   "source": [
    "$$ arg \\quad min ( \\frac{1}{2} \\Vert\\omega\\Vert ) $$\n",
    "For convenience:\n",
    "$$ arg \\quad min ( \\frac{1}{2} \\Vert\\omega\\Vert^2 ) $$"
   ]
  },
  {
   "cell_type": "markdown",
   "metadata": {},
   "source": [
    "<h3>Primal to Dual: Lagrange Multiplier</h3>"
   ]
  },
  {
   "cell_type": "markdown",
   "metadata": {},
   "source": [
    "<p>It is easier to solve the optimization problem in the dual rather than the primal space, since there are less number of variables.</p>\n",
    "<p>Convert constrained optimization to unconstrained convex</p>\n",
    "$$ arg \\quad min \\quad L = objective - coefficients \\quad x \\quad constraints $$"
   ]
  },
  {
   "cell_type": "markdown",
   "metadata": {},
   "source": [
    "$$ L = \\frac{1}{2} \\Vert\\omega\\Vert^2 - ( \\sum_{i} \\alpha_{i} ( y_{i} ( \\omega^{T} x_{i} + b ) - 1 ) ) $$"
   ]
  },
  {
   "cell_type": "markdown",
   "metadata": {},
   "source": [
    "<h4>Differentiation</h4>"
   ]
  },
  {
   "cell_type": "markdown",
   "metadata": {},
   "source": [
    "Differentiate to the support vector parameters w & b:\n",
    "$$ \\frac{\\delta L}{\\delta \\omega} = \\omega - \\sum_{i} \\alpha_{i} y_{i} x_{i} = 0 \\qquad \\longrightarrow \\qquad \\omega = \\sum_{i} \\alpha_{i} y_{i} x_{i} $$\n",
    "$$ \\frac{\\delta L}{\\delta b} = \\sum_{i} \\alpha_{i} y_{i} = 0 \\qquad \\longrightarrow \\qquad \\sum_{i} \\alpha_{i} y_{i} = 0 $$"
   ]
  },
  {
   "cell_type": "markdown",
   "metadata": {},
   "source": [
    "<h4>Substitution</h4>"
   ]
  },
  {
   "cell_type": "markdown",
   "metadata": {},
   "source": [
    "$$ L = \\frac{1}{2} \\sum_{i} \\alpha_{i} y_{i} x_{i} \\sum_{j} \\alpha_{j} y_{j} x_{j} - (\\sum_{i} \\alpha_{i} y_{i} x_{i} \\sum_{j} \\alpha_{j} y_{j} x_{j}) - \\sum_{i} \\alpha_{i} \\alpha_{i} y_{i} b + \\sum_{i} \\alpha_{i} $$\n",
    "$$ L = \\sum_{i} \\alpha_{i} - \\frac{1}{2} \\sum_{i} \\sum_{j} \\alpha_{i} \\alpha_{j} y_{i} y_{j} x_{i}^{T} x_{j} $$"
   ]
  },
  {
   "cell_type": "markdown",
   "metadata": {},
   "source": [
    "<h3>Quadratic Programming</h3>"
   ]
  },
  {
   "cell_type": "markdown",
   "metadata": {},
   "source": [
    "<p>Quadratic programming (QP) is the process of solving a special type of mathematical optimization problem—specifically, a (linearly constrained) quadratic optimization problem, that is, the problem of optimizing (minimizing or maximizing) a quadratic function of several variables subject to linear constraints on these variables. Quadratic programming is a particular type of nonlinear programming.</p>"
   ]
  },
  {
   "cell_type": "markdown",
   "metadata": {},
   "source": [
    "<img src=\"https://optimization.mccormick.northwestern.edu/images/0/07/QPPic.JPG\" />"
   ]
  },
  {
   "cell_type": "markdown",
   "metadata": {},
   "source": [
    "minimize $$ \\frac{1}{2} X^T Q X + c^{T} X $$\n",
    "subject to $$ AX \\leq b $$"
   ]
  },
  {
   "cell_type": "markdown",
   "metadata": {},
   "source": [
    "<h3>Objective Function Reformulation</h3>"
   ]
  },
  {
   "cell_type": "markdown",
   "metadata": {},
   "source": [
    "maximize $$ f(\\alpha, x) = \\sum_{i} \\alpha_{i} - \\frac{1}{2} \\sum_{i,j} \\alpha_{i} \\alpha_{j} y_{i} y_{j} x^{T}_{i} x_{j} $$\n",
    "subject to $$ 0 \\leq \\alpha_{i} \\leq C \\quad, \\qquad \\sum_{i} \\alpha_{i} y_{i} = 0 $$\n",
    "where $$ \\omega = \\sum_{i} \\alpha_{i} y_{i} x_{i} $$\n",
    "and $ \\alpha_{i} $ mostly equals zero which is equivalent to saying that only a few x samples matter to select the support vectors"
   ]
  },
  {
   "cell_type": "markdown",
   "metadata": {},
   "source": [
    "<p>The take home is that:</p>\n",
    "    <ul>\n",
    "    <li>Only few support vectors support determine the boundary</li>\n",
    "    <li>The optimization is completely dependent on the dot product ( projection ) of the samples</li>\n",
    "    </ul>"
   ]
  },
  {
   "cell_type": "markdown",
   "metadata": {},
   "source": [
    "<h2>From Dual to Primal</h2>\n",
    "<p>After we solve the quadratic program, then we convert the formula back to find our boundary parameters: w, b</p>\n",
    "$$ \\omega = \\sum_{i} \\alpha_{i} y_{i} x_{i} $$\n",
    "$$ b = y_{i} - \\omega x_{i} $$"
   ]
  },
  {
   "cell_type": "markdown",
   "metadata": {},
   "source": [
    "<h2>Kernels & Transform</h2>"
   ]
  },
  {
   "cell_type": "markdown",
   "metadata": {},
   "source": [
    "<p>Find a transformation that maximizes the inter class separation in cartesian space</p>\n",
    "<p>Some popular kernel functions are the linear, polynomial, Gaussian (RBF, corresponding to the infinite dimensional space) kernels.</p>"
   ]
  },
  {
   "cell_type": "markdown",
   "metadata": {},
   "source": [
    "$$ \\phi(x_{i}, x_{j}) = \\phi(x_{i})^{T} \\phi(x_{j}) $$"
   ]
  },
  {
   "cell_type": "markdown",
   "metadata": {},
   "source": [
    "<ul>\n",
    "    <li>Linear Kernel</li>\n",
    "    $$ x_{i}^{T} x_{j} $$\n",
    "    <li>Polynomial Kernel</li>\n",
    "    $$ (x_{i}^{T} x_{j} + 1)^{n} $$\n",
    "    <li>Non-linear Kernel ( Gaußian Kernel )</li>\n",
    "    $$ e^{-\\frac{\\Vert x_{i} - x_{j} \\Vert}{\\sigma}} $$\n",
    "</ul>"
   ]
  },
  {
   "cell_type": "markdown",
   "metadata": {},
   "source": [
    "<p>The objective function becomes:</p>\n",
    "    maximize $$ f(\\alpha, x) = \\sum_{i} \\alpha_{i} - \\frac{1}{2} \\sum_{i,j} \\alpha_{i} \\alpha_{j} y_{i} y_{j}  \\phi(x_{i}, x_{j}) $$"
   ]
  },
  {
   "cell_type": "markdown",
   "metadata": {},
   "source": [
    "<h2>Demo</h2>\n",
    "<b>CVXOPT Quadratic Programming</b> [<a href=\"http://cvxopt.org/userguide/coneprog.html#quadratic-programming\">Reference</a>]"
   ]
  },
  {
   "cell_type": "code",
   "execution_count": 1,
   "metadata": {},
   "outputs": [],
   "source": [
    "import numpy as np\n",
    "import cvxopt"
   ]
  },
  {
   "cell_type": "markdown",
   "metadata": {},
   "source": [
    "<h4>CVXOPT Notation</h4>\n",
    "<code>cvxopt.solvers.qp(P, q, G, h, A, b)</code>\n",
    "<img src=\"http://cvxopt.org/userguide/_images/math/4a1d5a88630fc2310b16135d0ae191d396ebae9e.png\" />"
   ]
  },
  {
   "cell_type": "markdown",
   "metadata": {},
   "source": [
    "<h4>SVM QP</h4>$$ P = y_{i} y_{j}  \\phi(x_{i}, x_{j}) $$\n",
    "$$ q = [1, ..., 1] * -1 $$\n",
    "$$ G = Identity * C $$\n",
    "$$ h =  [0, ..., 0] $$\n",
    "$$ A =  \\sum_{i} y_{i} $$\n",
    "$$ b = 0 $$"
   ]
  },
  {
   "cell_type": "markdown",
   "metadata": {},
   "source": [
    "<h4> Generate Linearly Separable Data </h4>"
   ]
  },
  {
   "cell_type": "code",
   "execution_count": 2,
   "metadata": {},
   "outputs": [],
   "source": [
    "def gen_lin_separable_data():\n",
    "    # generate training data in the 2-d case\n",
    "    mean1 = np.array([0, 2])\n",
    "    mean2 = np.array([2, 0])\n",
    "    cov = np.array([[0.8, 0.6], [0.6, 0.8]])\n",
    "    X1 = np.random.multivariate_normal(mean1, cov, 100)\n",
    "    y1 = np.ones(len(X1))\n",
    "    X2 = np.random.multivariate_normal(mean2, cov, 100)\n",
    "    y2 = np.ones(len(X2)) * -1\n",
    "    return X1, y1, X2, y2\n",
    "X1, y1, X2, y2 = gen_lin_separable_data()"
   ]
  },
  {
   "cell_type": "code",
   "execution_count": 3,
   "metadata": {},
   "outputs": [
    {
     "data": {
      "text/plain": [
       "(100, 2)"
      ]
     },
     "execution_count": 3,
     "metadata": {},
     "output_type": "execute_result"
    }
   ],
   "source": [
    "X1.shape"
   ]
  },
  {
   "cell_type": "code",
   "execution_count": 4,
   "metadata": {},
   "outputs": [
    {
     "data": {
      "text/plain": [
       "(100,)"
      ]
     },
     "execution_count": 4,
     "metadata": {},
     "output_type": "execute_result"
    }
   ],
   "source": [
    "y1.shape"
   ]
  },
  {
   "cell_type": "code",
   "execution_count": 5,
   "metadata": {},
   "outputs": [],
   "source": [
    "import matplotlib.pyplot as plt\n",
    "%matplotlib inline"
   ]
  },
  {
   "cell_type": "code",
   "execution_count": 6,
   "metadata": {},
   "outputs": [
    {
     "data": {
      "text/plain": [
       "[<matplotlib.lines.Line2D at 0x7f949cd73c88>]"
      ]
     },
     "execution_count": 6,
     "metadata": {},
     "output_type": "execute_result"
    },
    {
     "data": {
      "image/png": "[encoded data removed]",
      "text/plain": [
       "<matplotlib.figure.Figure at 0x7f949cd73cc0>"
      ]
     },
     "metadata": {},
     "output_type": "display_data"
    }
   ],
   "source": [
    "plt.plot(X1[:,0], X1[:,1], \"rx\")\n",
    "plt.plot(X2[:,0], X2[:,1], \"bo\")"
   ]
  },
  {
   "cell_type": "markdown",
   "metadata": {},
   "source": [
    "<h4>Train Test Split</h4>"
   ]
  },
  {
   "cell_type": "code",
   "execution_count": 7,
   "metadata": {},
   "outputs": [],
   "source": [
    "X_train = np.vstack((X1[:90], X2[:90]))\n",
    "y_train = np.hstack((y1[:90], y2[:90]))"
   ]
  },
  {
   "cell_type": "code",
   "execution_count": 8,
   "metadata": {},
   "outputs": [],
   "source": [
    "X_test = np.vstack((X1[90:], X2[90:]))\n",
    "y_test = np.hstack((y1[90:], y2[90:]))"
   ]
  },
  {
   "cell_type": "code",
   "execution_count": 9,
   "metadata": {},
   "outputs": [
    {
     "name": "stdout",
     "output_type": "stream",
     "text": [
      "(180, 2) (180,) (20, 2) (20,)\n"
     ]
    }
   ],
   "source": [
    "print(X_train.shape, y_train.shape, X_test.shape, y_test.shape)"
   ]
  },
  {
   "cell_type": "markdown",
   "metadata": {},
   "source": [
    "<h4>Train SVM</h4>"
   ]
  },
  {
   "cell_type": "markdown",
   "metadata": {},
   "source": [
    "<h5>np.outer vs np.dot</h5>"
   ]
  },
  {
   "cell_type": "code",
   "execution_count": 10,
   "metadata": {},
   "outputs": [
    {
     "data": {
      "text/plain": [
       "(3, 3)"
      ]
     },
     "execution_count": 10,
     "metadata": {},
     "output_type": "execute_result"
    }
   ],
   "source": [
    "x = np.random.normal(0, 1, (3, 3))\n",
    "np.dot(x, x).shape"
   ]
  },
  {
   "cell_type": "code",
   "execution_count": 11,
   "metadata": {},
   "outputs": [
    {
     "data": {
      "text/plain": [
       "(9, 9)"
      ]
     },
     "execution_count": 11,
     "metadata": {},
     "output_type": "execute_result"
    }
   ],
   "source": [
    "np.outer(x, x).shape"
   ]
  },
  {
   "cell_type": "markdown",
   "metadata": {},
   "source": [
    "<h5>CVXOPT Matrix</h5>"
   ]
  },
  {
   "cell_type": "code",
   "execution_count": 12,
   "metadata": {},
   "outputs": [
    {
     "data": {
      "text/plain": [
       "<1x180 matrix, tc='d'>"
      ]
     },
     "execution_count": 12,
     "metadata": {},
     "output_type": "execute_result"
    }
   ],
   "source": [
    "cvxopt.matrix(y_train, (1, 180))"
   ]
  },
  {
   "cell_type": "markdown",
   "metadata": {},
   "source": [
    "<h5> G & h </h5>"
   ]
  },
  {
   "cell_type": "code",
   "execution_count": 13,
   "metadata": {},
   "outputs": [
    {
     "data": {
      "text/plain": [
       "(<3x3 matrix, tc='d'>, <3x1 matrix, tc='d'>)"
      ]
     },
     "execution_count": 13,
     "metadata": {},
     "output_type": "execute_result"
    }
   ],
   "source": [
    "G = cvxopt.matrix(np.diag(np.ones(3) * -1))\n",
    "h = cvxopt.matrix(np.zeros(3))\n",
    "G, h"
   ]
  },
  {
   "cell_type": "markdown",
   "metadata": {},
   "source": [
    "<h5>Flatten Matrix</h5>"
   ]
  },
  {
   "cell_type": "code",
   "execution_count": 14,
   "metadata": {},
   "outputs": [
    {
     "data": {
      "text/plain": [
       "(9,)"
      ]
     },
     "execution_count": 14,
     "metadata": {},
     "output_type": "execute_result"
    }
   ],
   "source": [
    "x = np.random.normal(0, 1, (3, 3))\n",
    "np.ravel(x).shape"
   ]
  },
  {
   "cell_type": "markdown",
   "metadata": {},
   "source": [
    "<h5>Qauadratic Program</h5>"
   ]
  },
  {
   "cell_type": "code",
   "execution_count": 15,
   "metadata": {},
   "outputs": [
    {
     "name": "stdout",
     "output_type": "stream",
     "text": [
      "     pcost       dcost       gap    pres   dres\n",
      " 0: -1.5465e+01 -2.8457e+01  6e+02  2e+01  2e+00\n",
      " 1: -1.5715e+01 -8.0613e+00  1e+02  5e+00  4e-01\n",
      " 2: -8.6339e+00 -4.3638e+00  7e+01  3e+00  2e-01\n",
      " 3: -1.7697e+00 -2.5974e+00  6e+00  2e-01  1e-02\n",
      " 4: -1.9721e+00 -2.3834e+00  2e+00  6e-02  4e-03\n",
      " 5: -2.1922e+00 -2.3476e+00  2e-01  2e-16  3e-15\n",
      " 6: -2.3360e+00 -2.3376e+00  2e-03  2e-15  3e-15\n",
      " 7: -2.3375e+00 -2.3375e+00  2e-05  1e-15  3e-15\n",
      " 8: -2.3375e+00 -2.3375e+00  2e-07  5e-16  4e-15\n",
      "Optimal solution found.\n"
     ]
    },
    {
     "data": {
      "text/plain": [
       "array([6.48541656e-10, 5.23414360e-10, 1.01339302e-09, 9.26764549e-10,\n",
       "       6.03381968e-10, 8.67715459e-10, 9.45581115e-10, 6.07441233e-10,\n",
       "       3.89746006e-10, 1.68063509e-10, 3.24535197e-10, 3.09377084e-10,\n",
       "       9.40084548e-10, 2.30005010e-10, 6.72792739e-10, 5.86580815e-10,\n",
       "       1.12728383e-09, 5.34604752e-10, 9.51318493e-10, 8.15611641e-10,\n",
       "       2.59053070e-10, 4.17059592e-10, 5.05716676e-10, 1.13728781e-09,\n",
       "       4.20458310e-10, 2.09088661e-10, 3.98409466e-10, 4.57641821e-10,\n",
       "       7.74054532e-10, 7.55822346e-10, 4.26425162e-10, 3.91708067e-10,\n",
       "       5.39636319e-10, 4.23700815e-10, 4.29344666e-10, 5.83139284e-10,\n",
       "       5.15247868e-10, 1.03173771e-09, 2.84019205e-10, 1.10982661e-09,\n",
       "       9.66598808e-10, 7.38322369e-10, 4.59677943e-10, 4.36921755e-10,\n",
       "       6.99853739e-10, 5.32886269e-10, 5.68590169e-10, 4.11775936e-10,\n",
       "       7.20897591e-10, 4.87472441e-10, 8.24959870e-10, 8.80834364e-10,\n",
       "       9.13935742e-10, 9.85559415e-10, 3.36057850e-10, 4.35721091e-10,\n",
       "       8.59004255e-10, 4.66651188e-10, 1.48789176e-09, 6.70929247e-10,\n",
       "       6.39977160e-10, 8.07541680e-10, 7.39964657e-10, 2.50755741e-10,\n",
       "       1.22663927e-09, 3.07887280e-10, 6.22634119e-10, 6.28714910e-10,\n",
       "       3.06679016e-10, 3.99151353e-10, 4.38698195e-10, 6.18750692e-10,\n",
       "       2.92674056e-10, 6.45421967e-10, 3.66283493e-10, 4.57079680e-10,\n",
       "       4.56405046e-10, 3.52883247e-10, 6.36847668e-10, 5.51841576e-10,\n",
       "       4.09854944e-10, 7.58347668e-10, 2.15055943e-10, 5.74760535e-10,\n",
       "       8.80713246e-10, 4.45849398e-10, 5.29161605e-10, 2.33748274e+00,\n",
       "       6.12722899e-10, 1.18533961e-09, 6.45730444e-10, 2.88388327e-10,\n",
       "       2.43457866e-10, 2.51886745e-10, 6.56338053e-10, 2.73107119e-10,\n",
       "       3.25335135e-10, 3.13300615e-10, 2.59476153e-10, 3.74040913e-10,\n",
       "       4.07044194e-10, 4.23642617e-10, 1.58713551e-10, 2.68285533e-10,\n",
       "       2.22027412e-10, 4.37364350e-10, 3.20827477e-10, 2.83567459e-10,\n",
       "       5.86424796e-10, 6.16206155e-10, 2.74359365e-10, 5.37949367e-01,\n",
       "       5.33240822e-10, 1.79953337e+00, 3.53988065e-10, 2.94445429e-10,\n",
       "       7.62410352e-10, 3.69679244e-10, 2.45590069e-10, 5.98555770e-10,\n",
       "       7.89410747e-10, 2.46745556e-10, 2.43732302e-10, 3.58450164e-10,\n",
       "       5.09701333e-10, 1.33717879e-09, 3.39533658e-10, 3.78758766e-10,\n",
       "       3.20348956e-10, 4.28492062e-10, 5.69677945e-10, 5.55133067e-10,\n",
       "       4.91236544e-10, 2.39470083e-10, 4.27327538e-10, 5.51651609e-10,\n",
       "       2.43112000e-10, 5.66088200e-10, 1.97282768e-08, 3.36880643e-10,\n",
       "       3.73568935e-10, 3.99295776e-10, 2.06758204e-10, 6.12798212e-10,\n",
       "       4.94271276e-10, 2.76723685e-10, 5.07469120e-10, 4.36188210e-10,\n",
       "       5.32749271e-10, 2.82019676e-10, 5.43524197e-10, 4.38287759e-10,\n",
       "       3.18196357e-10, 3.02643302e-10, 7.62927172e-10, 5.47863904e-10,\n",
       "       4.67658958e-10, 3.91898366e-10, 2.78480927e-10, 2.79977866e-10,\n",
       "       2.43665640e-09, 6.87277034e-10, 4.55231991e-10, 5.03260123e-10,\n",
       "       3.20925642e-10, 3.06665293e-10, 3.11872420e-10, 5.54316640e-10,\n",
       "       8.17021102e-10, 3.27240425e-10, 3.14399847e-10, 7.60508822e-10,\n",
       "       3.23233179e-10, 9.63501681e-10, 3.06675167e-10, 2.07822802e-10,\n",
       "       7.52247153e-10, 4.28138084e-10, 4.97517594e-10, 4.12368313e-10])"
      ]
     },
     "execution_count": 15,
     "metadata": {},
     "output_type": "execute_result"
    }
   ],
   "source": [
    "def solve_qp(X, y):\n",
    "    n_samples, n_features = X.shape\n",
    "\n",
    "    K = np.zeros((n_samples, n_samples))\n",
    "    for i in range(n_samples):\n",
    "        for j in range(n_samples):\n",
    "            K[i,j] = np.dot(X[i], X[j])\n",
    "\n",
    "    P = cvxopt.matrix(np.outer(y,y) * K)\n",
    "    q = cvxopt.matrix(np.ones(n_samples) * -1)\n",
    "    A = cvxopt.matrix(y, (1,n_samples))\n",
    "    b = cvxopt.matrix(0.0)\n",
    "\n",
    "    G = cvxopt.matrix(np.diag(np.ones(n_samples) * -1))\n",
    "    h = cvxopt.matrix(np.zeros(n_samples))\n",
    "\n",
    "    # solve QP problem\n",
    "    solution = cvxopt.solvers.qp(P, q, G, h, A, b)\n",
    "    return np.ravel(solution[\"x\"])\n",
    "solution_x = solve_qp(X_train, y_train)\n",
    "solution_x"
   ]
  },
  {
   "cell_type": "code",
   "execution_count": 16,
   "metadata": {},
   "outputs": [
    {
     "data": {
      "text/plain": [
       "array([False, False, False, False, False, False, False, False, False,\n",
       "       False, False, False, False, False, False, False, False, False,\n",
       "       False, False, False, False, False, False, False, False, False,\n",
       "       False, False, False, False, False, False, False, False, False,\n",
       "       False, False, False, False, False, False, False, False, False,\n",
       "       False, False, False, False, False, False, False, False, False,\n",
       "       False, False, False, False, False, False, False, False, False,\n",
       "       False, False, False, False, False, False, False, False, False,\n",
       "       False, False, False, False, False, False, False, False, False,\n",
       "       False, False, False, False, False, False,  True, False, False,\n",
       "       False, False, False, False, False, False, False, False, False,\n",
       "       False, False, False, False, False, False, False, False, False,\n",
       "       False, False, False,  True, False,  True, False, False, False,\n",
       "       False, False, False, False, False, False, False, False, False,\n",
       "       False, False, False, False, False, False, False, False, False,\n",
       "       False, False, False, False, False, False, False, False, False,\n",
       "       False, False, False, False, False, False, False, False, False,\n",
       "       False, False, False, False, False, False, False, False, False,\n",
       "       False, False, False, False, False, False, False, False, False,\n",
       "       False, False, False, False, False, False, False, False, False])"
      ]
     },
     "execution_count": 16,
     "metadata": {},
     "output_type": "execute_result"
    }
   ],
   "source": [
    "solution_x > 1e-5"
   ]
  },
  {
   "cell_type": "markdown",
   "metadata": {},
   "source": [
    "<h5>Extract SVMs</h5>"
   ]
  },
  {
   "cell_type": "code",
   "execution_count": 17,
   "metadata": {},
   "outputs": [
    {
     "data": {
      "text/plain": [
       "array([[0.7976043 , 1.621651  ],\n",
       "       [2.64665191, 2.11374524],\n",
       "       [1.07666345, 0.60752118]])"
      ]
     },
     "execution_count": 17,
     "metadata": {},
     "output_type": "execute_result"
    }
   ],
   "source": [
    "X_train[solution_x > 1e-7]"
   ]
  },
  {
   "cell_type": "code",
   "execution_count": 18,
   "metadata": {},
   "outputs": [
    {
     "data": {
      "text/plain": [
       "array([ 1., -1., -1.])"
      ]
     },
     "execution_count": 18,
     "metadata": {},
     "output_type": "execute_result"
    }
   ],
   "source": [
    "y_train[solution_x > 1e-7]"
   ]
  },
  {
   "cell_type": "code",
   "execution_count": 19,
   "metadata": {},
   "outputs": [
    {
     "data": {
      "text/plain": [
       "array([ 87, 111, 113])"
      ]
     },
     "execution_count": 19,
     "metadata": {},
     "output_type": "execute_result"
    }
   ],
   "source": [
    "np.arange(len(solution_x))[solution_x > 1e-7]"
   ]
  },
  {
   "cell_type": "code",
   "execution_count": 20,
   "metadata": {},
   "outputs": [
    {
     "data": {
      "text/plain": [
       "array([2.33748274, 0.53794937, 1.79953337])"
      ]
     },
     "execution_count": 20,
     "metadata": {},
     "output_type": "execute_result"
    }
   ],
   "source": [
    "solution_x[solution_x > 1e-7]"
   ]
  },
  {
   "cell_type": "markdown",
   "metadata": {},
   "source": [
    "<h5>Dual to Primal</h5>"
   ]
  },
  {
   "cell_type": "code",
   "execution_count": 21,
   "metadata": {},
   "outputs": [],
   "source": [
    "xs = X_train[solution_x > 1e-7]\n",
    "ys = y_train[solution_x > 1e-7]\n",
    "alphas = solution_x[solution_x > 1e-7]\n",
    "indices = np.arange(len(solution_x))[solution_x > 1e-7]"
   ]
  },
  {
   "cell_type": "code",
   "execution_count": 22,
   "metadata": {},
   "outputs": [
    {
     "data": {
      "text/plain": [
       "array([-1.49687025,  1.56023867])"
      ]
     },
     "execution_count": 22,
     "metadata": {},
     "output_type": "execute_result"
    }
   ],
   "source": [
    "w = np.zeros(X_train.shape[1])\n",
    "for i in range(len(indices)):\n",
    "    w += alphas[i] * ys[i] * xs[i]\n",
    "w"
   ]
  },
  {
   "cell_type": "code",
   "execution_count": 23,
   "metadata": {},
   "outputs": [
    {
     "data": {
      "text/plain": [
       "array([-1.49687025,  1.56023867])"
      ]
     },
     "execution_count": 23,
     "metadata": {},
     "output_type": "execute_result"
    }
   ],
   "source": [
    "w = np.sum(np.dot(alphas * ys.reshape(1,-1), xs), axis=0)\n",
    "w"
   ]
  },
  {
   "cell_type": "code",
   "execution_count": 24,
   "metadata": {},
   "outputs": [
    {
     "data": {
      "text/plain": [
       "-1.0087575657575831"
      ]
     },
     "execution_count": 24,
     "metadata": {},
     "output_type": "execute_result"
    }
   ],
   "source": [
    "b = np.sum(ys - np.dot(w.reshape(1, -1), xs.transpose()))\n",
    "b"
   ]
  },
  {
   "cell_type": "markdown",
   "metadata": {},
   "source": [
    "<h5>Plot Boundary</h5>"
   ]
  },
  {
   "cell_type": "code",
   "execution_count": 25,
   "metadata": {},
   "outputs": [
    {
     "data": {
      "text/plain": [
       "[<matplotlib.lines.Line2D at 0x7f949859a080>]"
      ]
     },
     "execution_count": 25,
     "metadata": {},
     "output_type": "execute_result"
    },
    {
     "data": {
      "image/png": "[encoded data removed]",
      "text/plain": [
       "<matplotlib.figure.Figure at 0x7f949cc73cc0>"
      ]
     },
     "metadata": {},
     "output_type": "display_data"
    }
   ],
   "source": [
    "plt.plot(X1[:,0], X1[:,1], \"rx\")\n",
    "plt.plot(X2[:,0], X2[:,1], \"bo\")\n",
    "plt.plot((-2,4), ((-w[0] * -2 - b)/w[1], (-w[0] * 4 - b)/w[1]), \"k\")\n",
    "plt.plot((-2,4), ((1-w[0] * -2 - b)/w[1], (1-w[0] * 4 - b)/w[1]), \"k--\")\n",
    "plt.plot((-2,4), ((-1-w[0] * -2 - b)/w[1], (-1-w[0] * 4 - b)/w[1]), \"k--\")"
   ]
  },
  {
   "cell_type": "markdown",
   "metadata": {},
   "source": [
    "<h2>Polynomial Kernel</h2>"
   ]
  },
  {
   "cell_type": "code",
   "execution_count": 26,
   "metadata": {},
   "outputs": [],
   "source": [
    "    def gen_non_lin_separable_data():\n",
    "        mean1 = [-1, 2]\n",
    "        mean2 = [1, -1]\n",
    "        mean3 = [4, -4]\n",
    "        mean4 = [-4, 4]\n",
    "        cov = [[1.0,0.8], [0.8, 1.0]]\n",
    "        X1 = np.random.multivariate_normal(mean1, cov, 50)\n",
    "        X1 = np.vstack((X1, np.random.multivariate_normal(mean3, cov, 50)))\n",
    "        y1 = np.ones(len(X1))\n",
    "        X2 = np.random.multivariate_normal(mean2, cov, 50)\n",
    "        X2 = np.vstack((X2, np.random.multivariate_normal(mean4, cov, 50)))\n",
    "        y2 = np.ones(len(X2)) * -1\n",
    "        return X1, y1, X2, y2"
   ]
  },
  {
   "cell_type": "code",
   "execution_count": 27,
   "metadata": {},
   "outputs": [],
   "source": [
    "X_1, y_1, X_2, y_2 = gen_non_lin_separable_data()"
   ]
  },
  {
   "cell_type": "code",
   "execution_count": 28,
   "metadata": {},
   "outputs": [
    {
     "data": {
      "text/plain": [
       "[<matplotlib.lines.Line2D at 0x7f949cc737b8>]"
      ]
     },
     "execution_count": 28,
     "metadata": {},
     "output_type": "execute_result"
    },
    {
     "data": {
      "image/png": "[encoded data removed]",
      "text/plain": [
       "<matplotlib.figure.Figure at 0x7f949cc73828>"
      ]
     },
     "metadata": {},
     "output_type": "display_data"
    }
   ],
   "source": [
    "plt.plot(X_1[:,0], X_1[:,1], \"rx\")\n",
    "plt.plot(X_2[:,0], X_2[:,1], \"bo\")"
   ]
  },
  {
   "cell_type": "markdown",
   "metadata": {},
   "source": [
    "<h5>Train Function</h5>"
   ]
  },
  {
   "cell_type": "code",
   "execution_count": 29,
   "metadata": {},
   "outputs": [],
   "source": [
    "def train(X, y, kernel):\n",
    "    n_samples, n_features = X.shape\n",
    "\n",
    "    K = np.zeros((n_samples, n_samples))\n",
    "    for i in range(n_samples):\n",
    "        for j in range(n_samples):\n",
    "            K[i,j] = kernel(X[i], X[j])\n",
    "\n",
    "    P = cvxopt.matrix(np.outer(y,y) * K)\n",
    "    q = cvxopt.matrix(np.ones(n_samples) * -1)\n",
    "    A = cvxopt.matrix(y, (1,n_samples))\n",
    "    b = cvxopt.matrix(0.0)\n",
    "\n",
    "    G = cvxopt.matrix(np.diag(np.ones(n_samples) * -1))\n",
    "    h = cvxopt.matrix(np.zeros(n_samples))\n",
    "\n",
    "    # solve QP problem\n",
    "    solution = cvxopt.solvers.qp(P, q, G, h, A, b)\n",
    "\n",
    "    # Lagrange multipliers\n",
    "    solution_x = np.ravel(solution['x'])\n",
    "\n",
    "    xs = X_train[solution_x > 1e-7]\n",
    "    ys = y_train[solution_x > 1e-7]\n",
    "    alphas = solution_x[solution_x > 1e-7]\n",
    "    indices = np.arange(len(solution_x))[solution_x > 1e-7]\n",
    "\n",
    "    # Slope & Intercept\n",
    "    w = np.sum(np.dot(alphas * ys.reshape(1,-1), xs), axis=0)\n",
    "    b = np.sum(ys - np.dot(w.reshape(1, -1), xs.transpose()))\n",
    "        \n",
    "    return w, b, xs, ys, alphas"
   ]
  },
  {
   "cell_type": "code",
   "execution_count": 30,
   "metadata": {},
   "outputs": [],
   "source": [
    "X_train = np.vstack((X1[:90], X2[:90]))\n",
    "y_train = np.hstack((y1[:90], y2[:90]))"
   ]
  },
  {
   "cell_type": "code",
   "execution_count": 31,
   "metadata": {},
   "outputs": [],
   "source": [
    "def linear_kernel(x1, x2):\n",
    "    return np.dot(x1, x2)"
   ]
  },
  {
   "cell_type": "code",
   "execution_count": 32,
   "metadata": {},
   "outputs": [
    {
     "name": "stdout",
     "output_type": "stream",
     "text": [
      "     pcost       dcost       gap    pres   dres\n",
      " 0: -1.5465e+01 -2.8457e+01  6e+02  2e+01  2e+00\n",
      " 1: -1.5715e+01 -8.0613e+00  1e+02  5e+00  4e-01\n",
      " 2: -8.6339e+00 -4.3638e+00  7e+01  3e+00  2e-01\n",
      " 3: -1.7697e+00 -2.5974e+00  6e+00  2e-01  1e-02\n",
      " 4: -1.9721e+00 -2.3834e+00  2e+00  6e-02  4e-03\n",
      " 5: -2.1922e+00 -2.3476e+00  2e-01  2e-16  3e-15\n",
      " 6: -2.3360e+00 -2.3376e+00  2e-03  2e-15  3e-15\n",
      " 7: -2.3375e+00 -2.3375e+00  2e-05  1e-15  3e-15\n",
      " 8: -2.3375e+00 -2.3375e+00  2e-07  5e-16  4e-15\n",
      "Optimal solution found.\n"
     ]
    }
   ],
   "source": [
    "w, b, _, _, _ = train(X_train, y_train, linear_kernel)"
   ]
  },
  {
   "cell_type": "code",
   "execution_count": 33,
   "metadata": {},
   "outputs": [
    {
     "data": {
      "text/plain": [
       "[<matplotlib.lines.Line2D at 0x7f949856a518>]"
      ]
     },
     "execution_count": 33,
     "metadata": {},
     "output_type": "execute_result"
    },
    {
     "data": {
      "image/png": "[encoded data removed]",
      "text/plain": [
       "<matplotlib.figure.Figure at 0x7f94984b79e8>"
      ]
     },
     "metadata": {},
     "output_type": "display_data"
    }
   ],
   "source": [
    "plt.plot(X_1[:,0], X_1[:,1], \"rx\")\n",
    "plt.plot(X_2[:,0], X_2[:,1], \"bo\")\n",
    "plt.plot((-6,6), ((-w[0] * -6 - b)/w[1], (-w[0] * 6 - b)/w[1]), \"k\")\n",
    "plt.plot((-6,6), ((1-w[0] * -6 - b)/w[1], (1-w[0] * 6 - b)/w[1]), \"k--\")\n",
    "plt.plot((-6,6), ((-1-w[0] * -6 - b)/w[1], (-1-w[0] * 6 - b)/w[1]), \"k--\")"
   ]
  },
  {
   "cell_type": "code",
   "execution_count": 34,
   "metadata": {},
   "outputs": [
    {
     "name": "stdout",
     "output_type": "stream",
     "text": [
      "     pcost       dcost       gap    pres   dres\n",
      " 0: -4.3212e+00 -7.5299e+00  3e+02  2e+01  2e+00\n",
      " 1: -3.6662e+00 -1.8431e+00  3e+01  1e+00  1e-01\n",
      " 2: -7.5723e-01 -1.1170e+00  5e+00  2e-01  2e-02\n",
      " 3: -5.1230e-01 -7.5318e-01  2e+00  9e-02  9e-03\n",
      " 4: -4.4358e-01 -4.5395e-01  9e-01  3e-02  3e-03\n",
      " 5: -3.3473e-01 -3.3970e-01  3e-01  9e-03  9e-04\n",
      " 6: -2.9802e-01 -3.1182e-01  9e-02  2e-03  2e-04\n",
      " 7: -2.9808e-01 -3.0591e-01  3e-02  6e-04  6e-05\n",
      " 8: -2.9963e-01 -3.0423e-01  5e-03  2e-05  2e-06\n",
      " 9: -3.0389e-01 -3.0394e-01  6e-05  2e-07  2e-08\n",
      "10: -3.0394e-01 -3.0394e-01  6e-07  2e-09  2e-10\n",
      "11: -3.0394e-01 -3.0394e-01  6e-09  2e-11  2e-12\n",
      "Optimal solution found.\n"
     ]
    }
   ],
   "source": [
    "def polynomial_kernel(x, y, p=3):\n",
    "    return (1 + np.dot(x, y)) ** p\n",
    "w, b, xs, ys, alphas = train(X_train, y_train, polynomial_kernel)"
   ]
  },
  {
   "cell_type": "code",
   "execution_count": 35,
   "metadata": {},
   "outputs": [],
   "source": [
    "# X list of samples\n",
    "def polynomial_projection(X, alphas, ys, xs, b):\n",
    "    ret = np.zeros(len(X))\n",
    "    for i in range(len(X)):\n",
    "        s = 0\n",
    "        for a, y, x in zip(alphas, ys, xs):\n",
    "            s += a * y * polynomial_kernel(X[i], x)\n",
    "        ret[i] = s\n",
    "    return ret + b"
   ]
  },
  {
   "cell_type": "code",
   "execution_count": 36,
   "metadata": {},
   "outputs": [
    {
     "data": {
      "text/plain": [
       "array([16.10719836])"
      ]
     },
     "execution_count": 36,
     "metadata": {},
     "output_type": "execute_result"
    }
   ],
   "source": [
    "polynomial_projection([[-6, -6]], alphas, ys, xs, b)"
   ]
  },
  {
   "cell_type": "code",
   "execution_count": 37,
   "metadata": {},
   "outputs": [
    {
     "data": {
      "image/png": "[encoded data removed]",
      "text/plain": [
       "<matplotlib.figure.Figure at 0x7f949cc5e940>"
      ]
     },
     "metadata": {},
     "output_type": "display_data"
    }
   ],
   "source": [
    "def plot_contour(X1_train, X2_train, alphas, ys, xs, b):\n",
    "        plt.plot(X1_train[:,0], X1_train[:,1], \"rx\")\n",
    "        plt.plot(X2_train[:,0], X2_train[:,1], \"bo\")\n",
    "        \n",
    "        X1, X2 = np.meshgrid(np.linspace(-6,6,50), np.linspace(-6,6,50))\n",
    "        X = np.array([[x1, x2] for x1, x2 in zip(np.ravel(X1), np.ravel(X2))])\n",
    "        Z = polynomial_projection(X, alphas, ys, xs, b).reshape(X1.shape)\n",
    "        plt.contour(X1, X2, Z, [0.0], colors='k', linewidths=1, origin='lower')\n",
    "        plt.contour(X1, X2, Z + 1, [0.0], colors='grey', linewidths=1, origin='lower')\n",
    "        plt.contour(X1, X2, Z - 1, [0.0], colors='grey', linewidths=1, origin='lower')\n",
    "plot_contour(X_1[:90], X_2[:90], alphas, ys, xs, b)"
   ]
  },
  {
   "cell_type": "code",
   "execution_count": 38,
   "metadata": {},
   "outputs": [
    {
     "data": {
      "text/plain": [
       "[<matplotlib.lines.Line2D at 0x7f9498488278>]"
      ]
     },
     "execution_count": 38,
     "metadata": {},
     "output_type": "execute_result"
    },
    {
     "data": {
      "image/png": "[encoded data removed]",
      "text/plain": [
       "<matplotlib.figure.Figure at 0x7f94984889b0>"
      ]
     },
     "metadata": {},
     "output_type": "display_data"
    }
   ],
   "source": [
    "plt.plot(X_1[:,0], X_1[:,1], \"rx\")\n",
    "plt.plot(X_2[:,0], X_2[:,1], \"bo\")"
   ]
  },
  {
   "cell_type": "code",
   "execution_count": 39,
   "metadata": {},
   "outputs": [
    {
     "name": "stdout",
     "output_type": "stream",
     "text": [
      "     pcost       dcost       gap    pres   dres\n",
      " 0: -1.9465e+01 -5.1273e+01  5e+02  2e+01  2e+00\n",
      " 1: -1.6025e+01 -5.4221e+01  1e+02  5e+00  5e-01\n",
      " 2: -1.8681e+01 -5.8187e+01  1e+02  3e+00  3e-01\n",
      " 3: -3.9328e+01 -6.4860e+01  5e+01  1e+00  9e-02\n",
      " 4: -5.2154e+01 -5.9950e+01  8e+00  1e-14  2e-14\n",
      " 5: -5.8338e+01 -5.8557e+01  2e-01  3e-14  2e-14\n",
      " 6: -5.8514e+01 -5.8516e+01  2e-03  1e-14  2e-14\n",
      " 7: -5.8516e+01 -5.8516e+01  2e-05  1e-14  2e-14\n",
      "Optimal solution found.\n"
     ]
    },
    {
     "data": {
      "image/png": "[encoded data removed]",
      "text/plain": [
       "<matplotlib.figure.Figure at 0x7f9498488828>"
      ]
     },
     "metadata": {},
     "output_type": "display_data"
    }
   ],
   "source": [
    "def gaussian_kernel(x, y, sigma=5.0):\n",
    "    return np.exp(-np.linalg.norm(x-y)**2 / (2 * (sigma ** 2)))\n",
    "w, b, xs, ys, alphas = train(X_train, y_train, gaussian_kernel)\n",
    "plot_contour(X_1[:90], X_2[:90], alphas, ys, xs, b)"
   ]
  },
  {
   "cell_type": "markdown",
   "metadata": {},
   "source": [
    "<h4> How about C?</h4>"
   ]
  },
  {
   "cell_type": "code",
   "execution_count": 40,
   "metadata": {},
   "outputs": [],
   "source": [
    "def train(X, y, kernel, C=100):\n",
    "    n_samples, n_features = X.shape\n",
    "\n",
    "    K = np.zeros((n_samples, n_samples))\n",
    "    for i in range(n_samples):\n",
    "        for j in range(n_samples):\n",
    "            K[i,j] = kernel(X[i], X[j])\n",
    "\n",
    "    P = cvxopt.matrix(np.outer(y,y) * K)\n",
    "    q = cvxopt.matrix(np.ones(n_samples) * -1)\n",
    "    A = cvxopt.matrix(y, (1,n_samples))\n",
    "    b = cvxopt.matrix(0.0)\n",
    "\n",
    "    tmp1 = np.diag(np.ones(n_samples) * -1)\n",
    "    tmp2 = np.identity(n_samples)\n",
    "    G = cvxopt.matrix(np.vstack((tmp1, tmp2)))\n",
    "    tmp1 = np.zeros(n_samples)\n",
    "    tmp2 = np.ones(n_samples) * C\n",
    "    h = cvxopt.matrix(np.hstack((tmp1, tmp2)))\n",
    "\n",
    "    # solve QP problem\n",
    "    solution = cvxopt.solvers.qp(P, q, G, h, A, b)\n",
    "\n",
    "    # Lagrange multipliers\n",
    "    solution_x = np.ravel(solution['x'])\n",
    "\n",
    "    xs = X_train[solution_x > 1e-7]\n",
    "    ys = y_train[solution_x > 1e-7]\n",
    "    alphas = solution_x[solution_x > 1e-7]\n",
    "    indices = np.arange(len(solution_x))[solution_x > 1e-7]\n",
    "\n",
    "    # Slope & Intercept\n",
    "    w = np.sum(np.dot(alphas * ys.reshape(1,-1), xs), axis=0)\n",
    "    b = np.sum(ys - np.dot(w.reshape(1, -1), xs.transpose()))\n",
    "        \n",
    "    return w, b, xs, ys, alphas"
   ]
  },
  {
   "cell_type": "code",
   "execution_count": 41,
   "metadata": {},
   "outputs": [
    {
     "name": "stdout",
     "output_type": "stream",
     "text": [
      "     pcost       dcost       gap    pres   dres\n",
      " 0:  1.7341e+09 -1.6942e+11  3e+11  1e-01  2e-08\n",
      " 1:  2.0808e+09 -2.6576e+10  5e+10  1e-02  4e-08\n",
      " 2:  9.0627e+08 -8.8958e+09  1e+10  3e-03  1e-08\n",
      " 3:  2.8263e+08 -2.1504e+09  3e+09  6e-04  2e-09\n",
      " 4:  8.2570e+07 -1.8232e+08  3e+08  1e-05  5e-10\n",
      " 5:  1.3145e+07 -1.4294e+07  3e+07  7e-08  5e-11\n",
      " 6:  1.8869e+06 -2.0775e+06  4e+06  6e-13  4e-11\n",
      " 7:  2.7032e+05 -2.9736e+05  6e+05  4e-14  1e-11\n",
      " 8:  3.8708e+04 -4.2643e+04  8e+04  7e-14  6e-12\n",
      " 9:  5.5355e+03 -6.1219e+03  1e+04  3e-14  2e-12\n",
      "10:  7.8895e+02 -8.8155e+02  2e+03  2e-14  6e-13\n",
      "11:  1.1140e+02 -1.2797e+02  2e+02  8e-15  3e-13\n",
      "12:  1.5294e+01 -1.8981e+01  3e+01  9e-16  1e-13\n",
      "13:  1.8878e+00 -2.9927e+00  5e+00  2e-16  4e-14\n",
      "14:  1.0299e-01 -6.1717e-01  7e-01  2e-16  1e-14\n",
      "15: -1.6993e-01 -4.0669e-01  2e-01  2e-16  5e-15\n",
      "16: -2.4371e-01 -3.8817e-01  1e-01  2e-16  2e-15\n",
      "17: -2.9444e-01 -3.1479e-01  2e-02  2e-16  4e-15\n",
      "18: -3.0365e-01 -3.0420e-01  6e-04  2e-16  3e-15\n",
      "19: -3.0394e-01 -3.0394e-01  6e-06  2e-16  3e-15\n",
      "20: -3.0394e-01 -3.0394e-01  6e-08  2e-16  3e-15\n",
      "Optimal solution found.\n"
     ]
    },
    {
     "data": {
      "image/png": "[encoded data removed]",
      "text/plain": [
       "<matplotlib.figure.Figure at 0x7f9498378fd0>"
      ]
     },
     "metadata": {},
     "output_type": "display_data"
    }
   ],
   "source": [
    "w, b, xs, ys, alphas = train(X_train, y_train, polynomial_kernel, 100000)\n",
    "plot_contour(X_1[:90], X_2[:90], alphas, ys, xs, b)"
   ]
  },
  {
   "cell_type": "markdown",
   "metadata": {},
   "source": [
    "<h2>Further Readings:</h2>"
   ]
  },
  {
   "cell_type": "markdown",
   "metadata": {},
   "source": [
    "<ul>\n",
    "    <li>Implementing a Soft-Margin Kernelized Support Vector Machine Binary Classifier with Quadratic Programming in R and Python [<a href=\"https://sandipanweb.wordpress.com/2018/04/23/implementing-a-soft-margin-kernelized-support-vector-machine-binary-classifier-with-quadratic-programming-in-r-and-python/\">Link</a>]</li>\n",
    "    <li>Kernels, Soft Margin SVM, and Quadratic Programming with Python and CVXOPT [<a href=\"https://pythonprogramming.net/soft-margin-kernel-cvxopt-svm-machine-learning-tutorial/\">Link</a>]</li>\n",
    "    <li>MIT OpenCourseWare: Learning Support Vector Machines [<a href=\"https://www.youtube.com/watch?v=_PwhiWxHK8o\">Link</a>]</li>\n",
    "    </ul>"
   ]
  },
  {
   "cell_type": "code",
   "execution_count": null,
   "metadata": {},
   "outputs": [],
   "source": []
  }
 ],
 "metadata": {
  "kernelspec": {
   "display_name": "Python 3",
   "language": "python",
   "name": "python3"
  },
  "language_info": {
   "codemirror_mode": {
    "name": "ipython",
    "version": 3
   },
   "file_extension": ".py",
   "mimetype": "text/x-python",
   "name": "python",
   "nbconvert_exporter": "python",
   "pygments_lexer": "ipython3",
   "version": "3.6.4"
  }
 },
 "nbformat": 4,
 "nbformat_minor": 2
}
