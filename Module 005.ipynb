{
 "cells": [
  {
   "cell_type": "markdown",
   "metadata": {},
   "source": [
    "<h1>Support Vector Machines</h1>"
   ]
  },
  {
   "cell_type": "markdown",
   "metadata": {},
   "source": [
    "<img src=\"https://rlv.zcache.com/i_support_vector_machines_coffee_mug-rb87ddcefceec4a23a747b2fc6dc80c72_x7jgr_8byvr_540.jpg\" />"
   ]
  },
  {
   "cell_type": "markdown",
   "metadata": {},
   "source": [
    "<h2>Separable and Non-separable Data</h2>"
   ]
  },
  {
   "cell_type": "markdown",
   "metadata": {},
   "source": [
    "<img src=\"https://4.bp.blogspot.com/-hVpaRjqD2-s/WV1ajxdZvpI/AAAAAAAABzo/xXTNAfinHggb2ychpZ_1Pjg2OGwViq42ACLcBGAs/s1600/Capture.PNG\" />"
   ]
  },
  {
   "cell_type": "markdown",
   "metadata": {},
   "source": [
    "<p><b>What if data is non-separable?</b></p>\n",
    "<p><i>Hint:</i> take the data to a higher dimensional space separable with a hyper-plane</p>"
   ]
  },
  {
   "cell_type": "markdown",
   "metadata": {},
   "source": [
    "<h2>Mathematical Derivation</h2>"
   ]
  },
  {
   "cell_type": "markdown",
   "metadata": {},
   "source": [
    "<h3>Line Equation</h3>"
   ]
  },
  {
   "cell_type": "markdown",
   "metadata": {},
   "source": [
    "$$ \\omega^{T} X + b = 0 $$"
   ]
  },
  {
   "cell_type": "markdown",
   "metadata": {},
   "source": [
    "<h3>Target Value</h3>"
   ]
  },
  {
   "cell_type": "markdown",
   "metadata": {},
   "source": [
    "$$ y = \\omega^{T} X + b = \\{+1, -1\\} $$"
   ]
  },
  {
   "cell_type": "markdown",
   "metadata": {},
   "source": [
    "<h3>Substitution</h3>"
   ]
  },
  {
   "cell_type": "markdown",
   "metadata": {},
   "source": [
    "$$ y_{1} = \\omega^{T} X_{1} + b = +1 $$\n",
    "$$ y_{2} = \\omega^{T} X_{2} + b = +1 $$"
   ]
  },
  {
   "cell_type": "markdown",
   "metadata": {},
   "source": [
    "<h3>Distance</h3>"
   ]
  },
  {
   "cell_type": "markdown",
   "metadata": {},
   "source": [
    "$$ y1 - y2 = \\omega^{T} (X_{1} - X_{2}) = 2 $$"
   ]
  },
  {
   "cell_type": "markdown",
   "metadata": {},
   "source": [
    "<h3>Normalize</h3>"
   ]
  },
  {
   "cell_type": "markdown",
   "metadata": {},
   "source": [
    "$$ \\frac{\\omega^{T}}{\\Vert{\\omega}\\Vert} ( X_{1} - X_{2} ) = \\frac{2}{\\Vert{\\omega}\\Vert} $$"
   ]
  },
  {
   "cell_type": "markdown",
   "metadata": {},
   "source": [
    "<h3>Objective Function</h3>"
   ]
  },
  {
   "cell_type": "markdown",
   "metadata": {},
   "source": [
    "$$ arg \\quad max ( \\frac{2}{\\Vert\\omega\\Vert} ) $$"
   ]
  },
  {
   "cell_type": "markdown",
   "metadata": {},
   "source": [
    "<i> subject to the condition that every sample is classified correctly </i>"
   ]
  },
  {
   "cell_type": "markdown",
   "metadata": {},
   "source": [
    "$$ y_{i} ( \\omega^{T} X_{i} + b ) \\geq +1 \\qquad \\forall i \\in N $$\n",
    "Rewrite as for convenience:\n",
    "$$ y_{i} ( \\omega^{T} X_{i} + b ) - 1 = 0 \\qquad \\forall i \\in N $$"
   ]
  },
  {
   "cell_type": "markdown",
   "metadata": {},
   "source": [
    "<h3>Inverse Objective Function</h3>"
   ]
  },
  {
   "cell_type": "markdown",
   "metadata": {},
   "source": [
    "$$ arg \\quad min ( \\frac{1}{2} \\Vert\\omega\\Vert ) $$\n",
    "For convenience:\n",
    "$$ arg \\quad min ( \\frac{1}{2} \\Vert\\omega\\Vert^2 ) $$"
   ]
  },
  {
   "cell_type": "markdown",
   "metadata": {},
   "source": [
    "<h3>Lagrange Multiplier</h3>"
   ]
  },
  {
   "cell_type": "markdown",
   "metadata": {},
   "source": [
    "<p>Convert constrained optimization to unconstrained</p>\n",
    "$$ arg \\quad min \\quad L = objective - coefficients x constraints $$"
   ]
  },
  {
   "cell_type": "markdown",
   "metadata": {},
   "source": [
    "$$ L = \\frac{1}{2} \\Vert\\omega\\Vert^2 - ( \\sum_{i} \\alpha_{i} ( y_{i} ( \\omega^{T} x_{i} + b ) - 1 ) ) $$"
   ]
  },
  {
   "cell_type": "markdown",
   "metadata": {},
   "source": [
    "<h4>Differentiation</h4>"
   ]
  },
  {
   "cell_type": "markdown",
   "metadata": {},
   "source": [
    "Differentiate to the support vector parameters w & b:\n",
    "$$ \\frac{\\delta L}{\\delta \\omega} = \\omega - \\sum_{i} \\alpha_{i} y_{i} x_{i} = 0 \\qquad \\longrightarrow \\qquad \\omega = \\sum_{i} \\alpha_{i} y_{i} x_{i} $$\n",
    "$$ \\frac{\\delta L}{\\delta b} = \\sum_{i} \\alpha_{i} y_{i} = 0 \\qquad \\longrightarrow \\qquad \\sum_{i} \\alpha_{i} y_{i} = 0 $$"
   ]
  },
  {
   "cell_type": "markdown",
   "metadata": {},
   "source": [
    "<h4>Substitution</h4>"
   ]
  },
  {
   "cell_type": "markdown",
   "metadata": {},
   "source": [
    "$$ L = \\frac{1}{2} \\sum_{i} \\alpha_{i} y_{i} x_{i} \\sum_{j} \\alpha_{j} y_{j} x_{j} - (\\sum_{i} \\alpha_{i} y_{i} x_{i} \\sum_{j} \\alpha_{j} y_{j} x_{j}) - \\sum_{i} \\alpha_{i} \\alpha_{i} y_{i} b + \\sum_{i} \\alpha_{i} $$\n",
    "$$ L = \\sum_{i} \\alpha_{i} - \\frac{1}{2} \\sum_{i} \\sum_{j} \\alpha_{i} \\alpha_{j} y_{i} y_{j} x_{i}^{T} x_{j} $$"
   ]
  },
  {
   "cell_type": "markdown",
   "metadata": {},
   "source": [
    "<h3>Quadratic Programming</h3>"
   ]
  },
  {
   "cell_type": "markdown",
   "metadata": {},
   "source": [
    "<img src=\"https://optimization.mccormick.northwestern.edu/images/0/07/QPPic.JPG\" />"
   ]
  },
  {
   "cell_type": "markdown",
   "metadata": {},
   "source": [
    "minimize $$ \\frac{1}{2} X^T Q X + c^{T} X $$\n",
    "subject to $$ AX \\leq b $$"
   ]
  },
  {
   "cell_type": "markdown",
   "metadata": {},
   "source": [
    "<h3>Objective Function Reformulation</h3>"
   ]
  },
  {
   "cell_type": "markdown",
   "metadata": {},
   "source": [
    "maximize $$ \\omega(\\alpha) = \\sum_{i} \\alpha_{i} - \\frac{1}{2} \\sum_{i,j} \\alpha_{i} \\alpha_{j} y_{i} y_{j} x^{T}_{i} x_{j} $$\n",
    "subject to $$ \\alpha_{i} \\geq \\phi \\quad, \\qquad \\sum_{i} \\alpha_{i} y_{i} > \\phi $$\n",
    "where $$ \\omega = \\sum_{i} \\alpha_{i} y_{i} x_{i} $$\n",
    "and $ \\alpha_{i} $ mostly equals zero which is equivalent to saying that only a few x samples matter to select the support vectors"
   ]
  },
  {
   "cell_type": "markdown",
   "metadata": {},
   "source": [
    "<b>Scipy Minimization</b> [<a href=\"https://docs.scipy.org/doc/scipy/reference/tutorial/optimize.html\">Reference</a>]\n"
   ]
  },
  {
   "cell_type": "code",
   "execution_count": null,
   "metadata": {},
   "outputs": [],
   "source": []
  }
 ],
 "metadata": {
  "kernelspec": {
   "display_name": "Python 3",
   "language": "python",
   "name": "python3"
  },
  "language_info": {
   "codemirror_mode": {
    "name": "ipython",
    "version": 3
   },
   "file_extension": ".py",
   "mimetype": "text/x-python",
   "name": "python",
   "nbconvert_exporter": "python",
   "pygments_lexer": "ipython3",
   "version": "3.6.4"
  }
 },
 "nbformat": 4,
 "nbformat_minor": 2
}
