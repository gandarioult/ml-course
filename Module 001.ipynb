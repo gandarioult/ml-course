{
 "cells": [
  {
   "cell_type": "markdown",
   "metadata": {},
   "source": [
    "## Python"
   ]
  },
  {
   "cell_type": "code",
   "execution_count": 1,
   "metadata": {},
   "outputs": [],
   "source": [
    "ls = [1, 2, 3, 4]"
   ]
  },
  {
   "cell_type": "code",
   "execution_count": 2,
   "metadata": {},
   "outputs": [
    {
     "name": "stdout",
     "output_type": "stream",
     "text": [
      "1\n",
      "2\n",
      "3\n",
      "4\n"
     ]
    }
   ],
   "source": [
    "for i in ls:\n",
    "    print(i)"
   ]
  },
  {
   "cell_type": "code",
   "execution_count": 3,
   "metadata": {},
   "outputs": [],
   "source": [
    "def odd_even(_ls):\n",
    "    for i in ls:\n",
    "        if i % 2 == 0:\n",
    "            print(\"{%d} is even\" % i)\n",
    "        else:\n",
    "            print(\"{%d} is odd\" % i)"
   ]
  },
  {
   "cell_type": "code",
   "execution_count": 4,
   "metadata": {},
   "outputs": [
    {
     "name": "stdout",
     "output_type": "stream",
     "text": [
      "{1} is odd\n",
      "{2} is even\n",
      "{3} is odd\n",
      "{4} is even\n"
     ]
    }
   ],
   "source": [
    "odd_even(ls)"
   ]
  },
  {
   "cell_type": "code",
   "execution_count": 5,
   "metadata": {},
   "outputs": [],
   "source": [
    "def square_it(x):\n",
    "    return x**2"
   ]
  },
  {
   "cell_type": "code",
   "execution_count": 6,
   "metadata": {},
   "outputs": [
    {
     "data": {
      "text/plain": [
       "[1, 4, 9, 16]"
      ]
     },
     "execution_count": 6,
     "metadata": {},
     "output_type": "execute_result"
    }
   ],
   "source": [
    "[square_it(i) for i in ls]"
   ]
  },
  {
   "cell_type": "code",
   "execution_count": 7,
   "metadata": {},
   "outputs": [],
   "source": [
    "class Math:\n",
    "    def __init__(self):\n",
    "        pass\n",
    "    \n",
    "    @staticmethod\n",
    "    def operation():\n",
    "        pass\n",
    "    \n",
    "    def __str__(self):\n",
    "        return \"Math Class\""
   ]
  },
  {
   "cell_type": "code",
   "execution_count": 8,
   "metadata": {},
   "outputs": [],
   "source": [
    "class Square(Math):\n",
    "    def __init__(self):\n",
    "        super(Square, self).__init__()\n",
    "        \n",
    "    @staticmethod\n",
    "    def operation(operand):\n",
    "        return operand ** 2\n",
    "    \n",
    "    def __str__(self):\n",
    "        ret = super(Square, self).__str__()\n",
    "        return ret + \"\\nSquare Operation\""
   ]
  },
  {
   "cell_type": "code",
   "execution_count": 9,
   "metadata": {},
   "outputs": [
    {
     "data": {
      "text/plain": [
       "<__main__.Square at 0x7f6baf746080>"
      ]
     },
     "execution_count": 9,
     "metadata": {},
     "output_type": "execute_result"
    }
   ],
   "source": [
    "Square()"
   ]
  },
  {
   "cell_type": "code",
   "execution_count": 10,
   "metadata": {},
   "outputs": [
    {
     "data": {
      "text/plain": [
       "9"
      ]
     },
     "execution_count": 10,
     "metadata": {},
     "output_type": "execute_result"
    }
   ],
   "source": [
    "obj = Square()\n",
    "obj.operation(3)"
   ]
  },
  {
   "cell_type": "code",
   "execution_count": 11,
   "metadata": {},
   "outputs": [
    {
     "data": {
      "text/plain": [
       "9"
      ]
     },
     "execution_count": 11,
     "metadata": {},
     "output_type": "execute_result"
    }
   ],
   "source": [
    "Square.operation(3)"
   ]
  },
  {
   "cell_type": "code",
   "execution_count": 12,
   "metadata": {},
   "outputs": [
    {
     "name": "stdout",
     "output_type": "stream",
     "text": [
      "Math Class\n"
     ]
    }
   ],
   "source": [
    "obj_math = Math()\n",
    "print(obj_math)"
   ]
  },
  {
   "cell_type": "code",
   "execution_count": 13,
   "metadata": {},
   "outputs": [
    {
     "name": "stdout",
     "output_type": "stream",
     "text": [
      "Math Class\n",
      "Square Operation\n"
     ]
    }
   ],
   "source": [
    "obj_sqrit = Square()\n",
    "print(obj_sqrit)"
   ]
  },
  {
   "cell_type": "markdown",
   "metadata": {},
   "source": [
    "## Zero in Python"
   ]
  },
  {
   "cell_type": "code",
   "execution_count": 14,
   "metadata": {},
   "outputs": [],
   "source": [
    "x = -0"
   ]
  },
  {
   "cell_type": "code",
   "execution_count": 15,
   "metadata": {},
   "outputs": [],
   "source": [
    "y = +0"
   ]
  },
  {
   "cell_type": "code",
   "execution_count": 16,
   "metadata": {},
   "outputs": [
    {
     "data": {
      "text/plain": [
       "True"
      ]
     },
     "execution_count": 16,
     "metadata": {},
     "output_type": "execute_result"
    }
   ],
   "source": [
    "x == y"
   ]
  },
  {
   "cell_type": "markdown",
   "metadata": {},
   "source": [
    "## Infinity in Python"
   ]
  },
  {
   "cell_type": "code",
   "execution_count": 17,
   "metadata": {},
   "outputs": [],
   "source": [
    "x = 1e10"
   ]
  },
  {
   "cell_type": "code",
   "execution_count": 18,
   "metadata": {},
   "outputs": [],
   "source": [
    "y = 1e20"
   ]
  },
  {
   "cell_type": "code",
   "execution_count": 19,
   "metadata": {},
   "outputs": [
    {
     "data": {
      "text/plain": [
       "1.0000000001e+20"
      ]
     },
     "execution_count": 19,
     "metadata": {},
     "output_type": "execute_result"
    }
   ],
   "source": [
    "x+y"
   ]
  },
  {
   "cell_type": "code",
   "execution_count": 20,
   "metadata": {},
   "outputs": [],
   "source": [
    "z = 1e1000"
   ]
  },
  {
   "cell_type": "code",
   "execution_count": 21,
   "metadata": {},
   "outputs": [
    {
     "data": {
      "text/plain": [
       "inf"
      ]
     },
     "execution_count": 21,
     "metadata": {},
     "output_type": "execute_result"
    }
   ],
   "source": [
    "x*y*z"
   ]
  },
  {
   "cell_type": "markdown",
   "metadata": {},
   "source": [
    "## Nan in Python"
   ]
  },
  {
   "cell_type": "code",
   "execution_count": 22,
   "metadata": {},
   "outputs": [
    {
     "ename": "NameError",
     "evalue": "name 'inf' is not defined",
     "output_type": "error",
     "traceback": [
      "\u001b[0;31m---------------------------------------------------------------------------\u001b[0m",
      "\u001b[0;31mNameError\u001b[0m                                 Traceback (most recent call last)",
      "\u001b[0;32m<ipython-input-22-dc0e8e901507>\u001b[0m in \u001b[0;36m<module>\u001b[0;34m()\u001b[0m\n\u001b[0;32m----> 1\u001b[0;31m \u001b[0mx\u001b[0m \u001b[0;34m=\u001b[0m \u001b[0minf\u001b[0m\u001b[0;34m\u001b[0m\u001b[0m\n\u001b[0m",
      "\u001b[0;31mNameError\u001b[0m: name 'inf' is not defined"
     ]
    }
   ],
   "source": [
    "x = inf"
   ]
  },
  {
   "cell_type": "code",
   "execution_count": 23,
   "metadata": {},
   "outputs": [],
   "source": [
    "from numpy import sqrt, inf, isnan, nan"
   ]
  },
  {
   "cell_type": "code",
   "execution_count": 24,
   "metadata": {},
   "outputs": [
    {
     "name": "stderr",
     "output_type": "stream",
     "text": [
      "/home/qamaruddin/anaconda3/lib/python3.6/site-packages/ipykernel_launcher.py:1: RuntimeWarning: invalid value encountered in sqrt\n",
      "  \"\"\"Entry point for launching an IPython kernel.\n"
     ]
    }
   ],
   "source": [
    "y = sqrt(-1)"
   ]
  },
  {
   "cell_type": "code",
   "execution_count": 25,
   "metadata": {},
   "outputs": [
    {
     "data": {
      "text/plain": [
       "nan"
      ]
     },
     "execution_count": 25,
     "metadata": {},
     "output_type": "execute_result"
    }
   ],
   "source": [
    "y"
   ]
  },
  {
   "cell_type": "code",
   "execution_count": 26,
   "metadata": {},
   "outputs": [
    {
     "data": {
      "text/plain": [
       "nan"
      ]
     },
     "execution_count": 26,
     "metadata": {},
     "output_type": "execute_result"
    }
   ],
   "source": [
    "x+y"
   ]
  },
  {
   "cell_type": "code",
   "execution_count": 27,
   "metadata": {},
   "outputs": [
    {
     "data": {
      "text/plain": [
       "False"
      ]
     },
     "execution_count": 27,
     "metadata": {},
     "output_type": "execute_result"
    }
   ],
   "source": [
    "x == y"
   ]
  },
  {
   "cell_type": "code",
   "execution_count": 28,
   "metadata": {},
   "outputs": [
    {
     "data": {
      "text/plain": [
       "True"
      ]
     },
     "execution_count": 28,
     "metadata": {},
     "output_type": "execute_result"
    }
   ],
   "source": [
    "isnan(x+y)"
   ]
  },
  {
   "cell_type": "markdown",
   "metadata": {},
   "source": [
    "## Catastrophic Cancellation"
   ]
  },
  {
   "cell_type": "code",
   "execution_count": 29,
   "metadata": {},
   "outputs": [],
   "source": [
    "epsilon = 1e-1000"
   ]
  },
  {
   "cell_type": "code",
   "execution_count": 30,
   "metadata": {},
   "outputs": [
    {
     "data": {
      "text/plain": [
       "0.0"
      ]
     },
     "execution_count": 30,
     "metadata": {},
     "output_type": "execute_result"
    }
   ],
   "source": [
    "epsilon"
   ]
  },
  {
   "cell_type": "code",
   "execution_count": 31,
   "metadata": {},
   "outputs": [],
   "source": [
    "x = 101"
   ]
  },
  {
   "cell_type": "code",
   "execution_count": 32,
   "metadata": {},
   "outputs": [],
   "source": [
    "y = x + epsilon"
   ]
  },
  {
   "cell_type": "code",
   "execution_count": 33,
   "metadata": {},
   "outputs": [
    {
     "data": {
      "text/plain": [
       "True"
      ]
     },
     "execution_count": 33,
     "metadata": {},
     "output_type": "execute_result"
    }
   ],
   "source": [
    "x == y"
   ]
  },
  {
   "cell_type": "markdown",
   "metadata": {},
   "source": [
    "* Avoid subtracting two nearly-equal numbers.\n",
    "\n",
    "* Especially in a loop!\n",
    "\n",
    "* Better-yet use a well-validated existing implementation in the form of a numerical library."
   ]
  },
  {
   "cell_type": "markdown",
   "metadata": {},
   "source": [
    "## Numpy"
   ]
  },
  {
   "cell_type": "code",
   "execution_count": 34,
   "metadata": {},
   "outputs": [],
   "source": [
    "import numpy as np"
   ]
  },
  {
   "cell_type": "code",
   "execution_count": 35,
   "metadata": {},
   "outputs": [
    {
     "data": {
      "text/plain": [
       "array([1, 2, 3, 4])"
      ]
     },
     "execution_count": 35,
     "metadata": {},
     "output_type": "execute_result"
    }
   ],
   "source": [
    "np.array([1, 2, 3, 4])"
   ]
  },
  {
   "cell_type": "code",
   "execution_count": 36,
   "metadata": {},
   "outputs": [
    {
     "data": {
      "text/plain": [
       "array([11, 12, 13, 14, 15, 16, 17, 18, 19, 20, 21, 22, 23, 24, 25, 26, 27,\n",
       "       28, 29, 30, 31, 32])"
      ]
     },
     "execution_count": 36,
     "metadata": {},
     "output_type": "execute_result"
    }
   ],
   "source": [
    "np.array(np.arange(11, 33))"
   ]
  },
  {
   "cell_type": "code",
   "execution_count": 37,
   "metadata": {},
   "outputs": [
    {
     "data": {
      "text/plain": [
       "array([11, 12, 13, 14, 15, 16, 17, 18, 19, 20, 21, 22, 23, 24, 25, 26, 27,\n",
       "       28, 29, 30, 31, 32])"
      ]
     },
     "execution_count": 37,
     "metadata": {},
     "output_type": "execute_result"
    }
   ],
   "source": [
    "np.arange(11, 33)"
   ]
  },
  {
   "cell_type": "code",
   "execution_count": 38,
   "metadata": {},
   "outputs": [
    {
     "data": {
      "text/plain": [
       "907"
      ]
     },
     "execution_count": 38,
     "metadata": {},
     "output_type": "execute_result"
    }
   ],
   "source": [
    "np.random.randint(low=0, high=1e3)"
   ]
  },
  {
   "cell_type": "code",
   "execution_count": 39,
   "metadata": {},
   "outputs": [
    {
     "data": {
      "text/plain": [
       "44"
      ]
     },
     "execution_count": 39,
     "metadata": {},
     "output_type": "execute_result"
    }
   ],
   "source": [
    "np.random.randint(low=0, high=1e3, size=None)"
   ]
  },
  {
   "cell_type": "code",
   "execution_count": 40,
   "metadata": {},
   "outputs": [],
   "source": [
    "np.random.seed(seed=101)"
   ]
  },
  {
   "cell_type": "code",
   "execution_count": 41,
   "metadata": {},
   "outputs": [
    {
     "data": {
      "text/plain": [
       "863"
      ]
     },
     "execution_count": 41,
     "metadata": {},
     "output_type": "execute_result"
    }
   ],
   "source": [
    "np.random.randint(low=0, high=1e3)"
   ]
  },
  {
   "cell_type": "code",
   "execution_count": 42,
   "metadata": {},
   "outputs": [
    {
     "data": {
      "text/plain": [
       "523"
      ]
     },
     "execution_count": 42,
     "metadata": {},
     "output_type": "execute_result"
    }
   ],
   "source": [
    "np.random.randint(low=0, high=1e3)"
   ]
  },
  {
   "cell_type": "code",
   "execution_count": 43,
   "metadata": {},
   "outputs": [
    {
     "data": {
      "text/plain": [
       "array([[337, 838, 575, 599],\n",
       "       [ 75, 393, 973, 552],\n",
       "       [644, 575, 936, 757]])"
      ]
     },
     "execution_count": 43,
     "metadata": {},
     "output_type": "execute_result"
    }
   ],
   "source": [
    "np.random.randint(low=0, high=1e3, size=(3,4))"
   ]
  },
  {
   "cell_type": "code",
   "execution_count": 44,
   "metadata": {},
   "outputs": [
    {
     "data": {
      "text/plain": [
       "-0.8480769834036315"
      ]
     },
     "execution_count": 44,
     "metadata": {},
     "output_type": "execute_result"
    }
   ],
   "source": [
    "np.random.normal()"
   ]
  },
  {
   "cell_type": "code",
   "execution_count": 45,
   "metadata": {},
   "outputs": [
    {
     "data": {
      "text/plain": [
       "0.5542275911247871"
      ]
     },
     "execution_count": 45,
     "metadata": {},
     "output_type": "execute_result"
    }
   ],
   "source": [
    "np.random.uniform()"
   ]
  },
  {
   "cell_type": "code",
   "execution_count": 46,
   "metadata": {},
   "outputs": [
    {
     "data": {
      "text/plain": [
       "-4.394034650505066"
      ]
     },
     "execution_count": 46,
     "metadata": {},
     "output_type": "execute_result"
    }
   ],
   "source": [
    "np.random.normal(loc=-5)"
   ]
  },
  {
   "cell_type": "code",
   "execution_count": 47,
   "metadata": {},
   "outputs": [
    {
     "data": {
      "text/plain": [
       "-3.9948622133625764"
      ]
     },
     "execution_count": 47,
     "metadata": {},
     "output_type": "execute_result"
    }
   ],
   "source": [
    "np.random.normal(scale=3.7)"
   ]
  },
  {
   "cell_type": "code",
   "execution_count": 48,
   "metadata": {},
   "outputs": [
    {
     "data": {
      "text/plain": [
       "-6.856958068158365"
      ]
     },
     "execution_count": 48,
     "metadata": {},
     "output_type": "execute_result"
    }
   ],
   "source": [
    "np.random.normal(loc=-5, scale=3.7)"
   ]
  },
  {
   "cell_type": "code",
   "execution_count": 49,
   "metadata": {},
   "outputs": [],
   "source": [
    "x = np.random.normal(size=(3,4))\n",
    "y = np.random.uniform(size=(4,2))\n",
    "\"\"\"\n",
    "df :\n",
    "    float or array_like of floats\n",
    "    Number of degrees of freedom, should be > 0.\n",
    "\"\"\"\n",
    "z = np.random.chisquare(df=1, size=(3,3))"
   ]
  },
  {
   "cell_type": "code",
   "execution_count": 50,
   "metadata": {},
   "outputs": [
    {
     "ename": "ValueError",
     "evalue": "operands could not be broadcast together with shapes (3,4) (4,2) ",
     "output_type": "error",
     "traceback": [
      "\u001b[0;31m---------------------------------------------------------------------------\u001b[0m",
      "\u001b[0;31mValueError\u001b[0m                                Traceback (most recent call last)",
      "\u001b[0;32m<ipython-input-50-cd60f97aa77f>\u001b[0m in \u001b[0;36m<module>\u001b[0;34m()\u001b[0m\n\u001b[0;32m----> 1\u001b[0;31m \u001b[0mx\u001b[0m \u001b[0;34m+\u001b[0m \u001b[0my\u001b[0m\u001b[0;34m\u001b[0m\u001b[0m\n\u001b[0m",
      "\u001b[0;31mValueError\u001b[0m: operands could not be broadcast together with shapes (3,4) (4,2) "
     ]
    }
   ],
   "source": [
    "x + y"
   ]
  },
  {
   "cell_type": "code",
   "execution_count": 51,
   "metadata": {},
   "outputs": [
    {
     "data": {
      "text/plain": [
       "array([[-0.16814492, -0.10806726,  1.51144365,  0.68346094],\n",
       "       [ 0.93991936, -1.1349718 , -0.63579197,  0.02515971],\n",
       "       [-0.27306951, -0.31589962,  0.00858304,  0.20530702]])"
      ]
     },
     "execution_count": 51,
     "metadata": {},
     "output_type": "execute_result"
    }
   ],
   "source": [
    "x"
   ]
  },
  {
   "cell_type": "code",
   "execution_count": 52,
   "metadata": {},
   "outputs": [
    {
     "data": {
      "text/plain": [
       "array([[0.57878954, 0.73481906],\n",
       "       [0.54196177, 0.91315356],\n",
       "       [0.80792015, 0.40299783],\n",
       "       [0.35722434, 0.95287671]])"
      ]
     },
     "execution_count": 52,
     "metadata": {},
     "output_type": "execute_result"
    }
   ],
   "source": [
    "y"
   ]
  },
  {
   "cell_type": "code",
   "execution_count": 53,
   "metadata": {},
   "outputs": [
    {
     "data": {
      "text/plain": [
       "array([[0.23616532, 2.16412486, 0.02115521],\n",
       "       [3.17142043, 0.15188046, 0.05399103],\n",
       "       [0.47557622, 0.1002952 , 0.02900853]])"
      ]
     },
     "execution_count": 53,
     "metadata": {},
     "output_type": "execute_result"
    }
   ],
   "source": [
    "z"
   ]
  },
  {
   "cell_type": "code",
   "execution_count": 54,
   "metadata": {},
   "outputs": [
    {
     "data": {
      "text/plain": [
       "array([[-0.33628985, -0.21613451,  3.0228873 ,  1.36692188],\n",
       "       [ 1.87983872, -2.26994359, -1.27158394,  0.05031941],\n",
       "       [-0.54613902, -0.63179924,  0.01716608,  0.41061404]])"
      ]
     },
     "execution_count": 54,
     "metadata": {},
     "output_type": "execute_result"
    }
   ],
   "source": [
    "x + x"
   ]
  },
  {
   "cell_type": "code",
   "execution_count": 55,
   "metadata": {},
   "outputs": [
    {
     "data": {
      "text/plain": [
       "array([[ 0.83185508,  0.89193274,  2.51144365,  1.68346094],\n",
       "       [ 1.93991936, -0.1349718 ,  0.36420803,  1.02515971],\n",
       "       [ 0.72693049,  0.68410038,  1.00858304,  1.20530702]])"
      ]
     },
     "execution_count": 55,
     "metadata": {},
     "output_type": "execute_result"
    }
   ],
   "source": [
    "x + 1"
   ]
  },
  {
   "cell_type": "code",
   "execution_count": 56,
   "metadata": {},
   "outputs": [
    {
     "data": {
      "text/plain": [
       "array([[-1.16814492, -1.10806726,  0.51144365, -0.31653906],\n",
       "       [-0.06008064, -2.1349718 , -1.63579197, -0.97484029],\n",
       "       [-1.27306951, -1.31589962, -0.99141696, -0.79469298]])"
      ]
     },
     "execution_count": 56,
     "metadata": {},
     "output_type": "execute_result"
    }
   ],
   "source": [
    "x - 1"
   ]
  },
  {
   "cell_type": "code",
   "execution_count": 57,
   "metadata": {},
   "outputs": [
    {
     "data": {
      "text/plain": [
       "array([[-0.33628985, -0.21613451,  3.0228873 ,  1.36692188],\n",
       "       [ 1.87983872, -2.26994359, -1.27158394,  0.05031941],\n",
       "       [-0.54613902, -0.63179924,  0.01716608,  0.41061404]])"
      ]
     },
     "execution_count": 57,
     "metadata": {},
     "output_type": "execute_result"
    }
   ],
   "source": [
    "x * 2"
   ]
  },
  {
   "cell_type": "code",
   "execution_count": 58,
   "metadata": {},
   "outputs": [
    {
     "data": {
      "text/plain": [
       "array([[2.82727151e-02, 1.16785317e-02, 2.28446191e+00, 4.67118858e-01],\n",
       "       [8.83448400e-01, 1.28816098e+00, 4.04231432e-01, 6.33010847e-04],\n",
       "       [7.45669581e-02, 9.97925684e-02, 7.36686006e-05, 4.21509730e-02]])"
      ]
     },
     "execution_count": 58,
     "metadata": {},
     "output_type": "execute_result"
    }
   ],
   "source": [
    "x ** 2"
   ]
  },
  {
   "cell_type": "code",
   "execution_count": 59,
   "metadata": {},
   "outputs": [
    {
     "data": {
      "text/plain": [
       "12"
      ]
     },
     "execution_count": 59,
     "metadata": {},
     "output_type": "execute_result"
    }
   ],
   "source": [
    "x.size"
   ]
  },
  {
   "cell_type": "code",
   "execution_count": 60,
   "metadata": {},
   "outputs": [
    {
     "data": {
      "text/plain": [
       "(3, 4)"
      ]
     },
     "execution_count": 60,
     "metadata": {},
     "output_type": "execute_result"
    }
   ],
   "source": [
    "x.shape"
   ]
  },
  {
   "cell_type": "code",
   "execution_count": 61,
   "metadata": {},
   "outputs": [
    {
     "name": "stderr",
     "output_type": "stream",
     "text": [
      "/home/qamaruddin/anaconda3/lib/python3.6/site-packages/ipykernel_launcher.py:1: RuntimeWarning: invalid value encountered in sqrt\n",
      "  \"\"\"Entry point for launching an IPython kernel.\n"
     ]
    },
    {
     "data": {
      "text/plain": [
       "array([[       nan,        nan, 1.22940785, 0.82671697],\n",
       "       [0.96949438,        nan,        nan, 0.15861812],\n",
       "       [       nan,        nan, 0.09264471, 0.45310818]])"
      ]
     },
     "execution_count": 61,
     "metadata": {},
     "output_type": "execute_result"
    }
   ],
   "source": [
    "np.sqrt(x)"
   ]
  },
  {
   "cell_type": "code",
   "execution_count": 62,
   "metadata": {},
   "outputs": [
    {
     "name": "stderr",
     "output_type": "stream",
     "text": [
      "/home/qamaruddin/anaconda3/lib/python3.6/site-packages/ipykernel_launcher.py:1: RuntimeWarning: invalid value encountered in sqrt\n",
      "  \"\"\"Entry point for launching an IPython kernel.\n"
     ]
    },
    {
     "data": {
      "text/plain": [
       "array([[0.        , 0.        , 1.22940785, 0.82671697],\n",
       "       [0.96949438, 0.        , 0.        , 0.15861812],\n",
       "       [0.        , 0.        , 0.09264471, 0.45310818]])"
      ]
     },
     "execution_count": 62,
     "metadata": {},
     "output_type": "execute_result"
    }
   ],
   "source": [
    "res = np.sqrt(x)\n",
    "np.nan_to_num(res)"
   ]
  },
  {
   "cell_type": "code",
   "execution_count": 63,
   "metadata": {},
   "outputs": [
    {
     "data": {
      "text/plain": [
       "array([[0.84523133, 0.89756723, 4.53327053, 1.98072104],\n",
       "       [2.55977499, 0.32143119, 0.52951596, 1.02547888],\n",
       "       [0.76103988, 0.72913264, 1.00861998, 1.227902  ]])"
      ]
     },
     "execution_count": 63,
     "metadata": {},
     "output_type": "execute_result"
    }
   ],
   "source": [
    "np.exp(x)"
   ]
  },
  {
   "cell_type": "code",
   "execution_count": 64,
   "metadata": {},
   "outputs": [
    {
     "data": {
      "text/plain": [
       "array([[1.80649842e-08, 2.17240712e-10, 6.22185097e+01, 2.22401136e-02],\n",
       "       [5.38153221e-01, 3.54691429e+00, 1.07932044e-02, 1.01637918e-16],\n",
       "       [2.30532486e-06, 9.89671358e-06, 2.16976201e-21, 1.33057090e-07]])"
      ]
     },
     "execution_count": 64,
     "metadata": {},
     "output_type": "execute_result"
    }
   ],
   "source": [
    "x ** 10"
   ]
  },
  {
   "cell_type": "code",
   "execution_count": 65,
   "metadata": {},
   "outputs": [
    {
     "data": {
      "text/plain": [
       "array([[ 1.30938582,  1.03812444],\n",
       "       [-0.57577732, -0.57798156],\n",
       "       [-0.24898021, -0.29003031]])"
      ]
     },
     "execution_count": 65,
     "metadata": {},
     "output_type": "execute_result"
    }
   ],
   "source": [
    "np.matmul(x, y)"
   ]
  },
  {
   "cell_type": "code",
   "execution_count": 66,
   "metadata": {},
   "outputs": [
    {
     "data": {
      "text/plain": [
       "array([[ 1.30938582,  1.03812444],\n",
       "       [-0.57577732, -0.57798156],\n",
       "       [-0.24898021, -0.29003031]])"
      ]
     },
     "execution_count": 66,
     "metadata": {},
     "output_type": "execute_result"
    }
   ],
   "source": [
    "np.dot(x, y)"
   ]
  },
  {
   "cell_type": "markdown",
   "metadata": {},
   "source": [
    "matmul differs from dot in two important ways.\n",
    "\n",
    "* Multiplication by scalars is not allowed.\n",
    "* Stacks of matrices are broadcast together as if the matrices were elements."
   ]
  },
  {
   "cell_type": "code",
   "execution_count": 67,
   "metadata": {},
   "outputs": [
    {
     "data": {
      "text/plain": [
       "array([ 1.        ,  1.47368421,  1.94736842,  2.42105263,  2.89473684,\n",
       "        3.36842105,  3.84210526,  4.31578947,  4.78947368,  5.26315789,\n",
       "        5.73684211,  6.21052632,  6.68421053,  7.15789474,  7.63157895,\n",
       "        8.10526316,  8.57894737,  9.05263158,  9.52631579, 10.        ])"
      ]
     },
     "execution_count": 67,
     "metadata": {},
     "output_type": "execute_result"
    }
   ],
   "source": [
    "np.linspace(1, 10, 20)"
   ]
  },
  {
   "cell_type": "markdown",
   "metadata": {},
   "source": [
    "## Matplotlib"
   ]
  },
  {
   "cell_type": "code",
   "execution_count": 68,
   "metadata": {},
   "outputs": [],
   "source": [
    "import matplotlib.pyplot as plt"
   ]
  },
  {
   "cell_type": "code",
   "execution_count": 69,
   "metadata": {},
   "outputs": [],
   "source": [
    "%matplotlib inline"
   ]
  },
  {
   "cell_type": "code",
   "execution_count": 70,
   "metadata": {},
   "outputs": [
    {
     "data": {
      "text/plain": [
       "array([-0.2299375 , -1.28359884, -2.71119174, -1.52241044, -1.41620705,\n",
       "        1.10854366,  1.13102858,  0.49860031,  1.17902193,  1.32268437,\n",
       "        1.85215451, -0.89217198,  0.61686071, -1.121822  ,  1.65207044,\n",
       "        0.19692527,  0.10321419, -0.14737026,  1.13128366,  1.08583909,\n",
       "        0.44948591, -0.00296292, -0.64817706, -0.95614981,  1.61046122,\n",
       "        1.31961786, -0.36370359,  1.08173118,  1.77565169,  0.43574312,\n",
       "        1.19499883,  1.07654708, -0.98177   , -1.765463  , -0.75843621,\n",
       "       -0.45469606,  1.29761741, -0.82537764,  0.25191495,  0.51876342,\n",
       "        0.58796761, -0.14819361, -0.87670184,  0.79275011,  0.53911754,\n",
       "        0.66977395, -1.27048376, -0.44618085,  0.77947505,  0.47989973,\n",
       "       -0.96069741, -2.0023987 , -1.26359946, -0.69623188, -1.14821996,\n",
       "        1.60743482, -1.22686962,  1.40553189, -1.13720133, -0.53547812,\n",
       "        2.14271732,  1.6914524 ,  0.27522457, -0.85205693,  0.29865904,\n",
       "       -0.56537013,  0.3583247 ,  0.69967642,  0.41736607, -0.23804927,\n",
       "       -1.85003782,  1.04977352, -0.43786985,  0.60833433, -0.34202133,\n",
       "        0.58901967,  0.82738787,  0.16304364,  0.03136322,  0.78310514,\n",
       "        0.06956025,  0.66013576,  0.8113491 , -1.29979434,  2.19524927,\n",
       "       -0.6202431 , -1.53176856,  0.06199649,  0.82312181,  0.6441213 ,\n",
       "       -0.37370039,  0.71307312, -0.75606407,  0.19907613,  0.97918106,\n",
       "       -0.56119837,  0.54383269,  0.24829089, -1.15203651, -0.31688706])"
      ]
     },
     "execution_count": 70,
     "metadata": {},
     "output_type": "execute_result"
    }
   ],
   "source": [
    "np.random.normal(size=(100,))"
   ]
  },
  {
   "cell_type": "code",
   "execution_count": 71,
   "metadata": {},
   "outputs": [],
   "source": [
    "data = np.random.normal(size=(100,))"
   ]
  },
  {
   "cell_type": "code",
   "execution_count": 72,
   "metadata": {},
   "outputs": [
    {
     "data": {
      "text/plain": [
       "[<matplotlib.lines.Line2D at 0x7f6b9fdcbdd8>]"
      ]
     },
     "execution_count": 72,
     "metadata": {},
     "output_type": "execute_result"
    },
    {
     "data": {
      "image/png": "[encoded data removed]",
      "text/plain": [
       "<matplotlib.figure.Figure at 0x7f6b9fe73780>"
      ]
     },
     "metadata": {},
     "output_type": "display_data"
    }
   ],
   "source": [
    "plt.plot(data)"
   ]
  },
  {
   "cell_type": "code",
   "execution_count": 73,
   "metadata": {},
   "outputs": [
    {
     "data": {
      "text/plain": [
       "[<matplotlib.lines.Line2D at 0x7f6b9fd5dc50>]"
      ]
     },
     "execution_count": 73,
     "metadata": {},
     "output_type": "execute_result"
    },
    {
     "data": {
      "image/png": "[encoded data removed]",
      "text/plain": [
       "<matplotlib.figure.Figure at 0x7f6b9fe22390>"
      ]
     },
     "metadata": {},
     "output_type": "display_data"
    }
   ],
   "source": [
    "x = np.arange(0, 100)\n",
    "y = data\n",
    "plt.plot(x, y)"
   ]
  },
  {
   "cell_type": "code",
   "execution_count": 74,
   "metadata": {},
   "outputs": [
    {
     "data": {
      "text/plain": [
       "[<matplotlib.lines.Line2D at 0x7f6b9fcc0ac8>]"
      ]
     },
     "execution_count": 74,
     "metadata": {},
     "output_type": "execute_result"
    },
    {
     "data": {
      "image/png": "[encoded data removed]",
      "text/plain": [
       "<matplotlib.figure.Figure at 0x7f6b9fd3a2e8>"
      ]
     },
     "metadata": {},
     "output_type": "display_data"
    }
   ],
   "source": [
    "x = np.arange(0, 100)\n",
    "y = data\n",
    "plt.plot(y, x)"
   ]
  },
  {
   "cell_type": "code",
   "execution_count": 75,
   "metadata": {},
   "outputs": [
    {
     "data": {
      "image/png": "[encoded data removed]",
      "text/plain": [
       "<matplotlib.figure.Figure at 0x7f6b9fcffac8>"
      ]
     },
     "metadata": {},
     "output_type": "display_data"
    }
   ],
   "source": [
    "plt.plot(y, x)\n",
    "plt.xlim(-5, 5)\n",
    "plt.xlabel('Range')\n",
    "plt.ylabel('Domain')\n",
    "plt.title('Normal Random')\n",
    "plt.grid(True)"
   ]
  },
  {
   "cell_type": "code",
   "execution_count": 76,
   "metadata": {},
   "outputs": [],
   "source": [
    "def gaussian_distribution(x, meu=0, sigma=1):\n",
    "    return np.exp((-1*((x-meu)**2)/(2*sigma**2)))/np.sqrt(2*np.pi*(sigma**2))"
   ]
  },
  {
   "cell_type": "code",
   "execution_count": 77,
   "metadata": {},
   "outputs": [
    {
     "data": {
      "text/plain": [
       "3.141592653589793"
      ]
     },
     "execution_count": 77,
     "metadata": {},
     "output_type": "execute_result"
    }
   ],
   "source": [
    "np.pi"
   ]
  },
  {
   "cell_type": "code",
   "execution_count": 78,
   "metadata": {},
   "outputs": [
    {
     "data": {
      "text/plain": [
       "7.69459862670642e-23"
      ]
     },
     "execution_count": 78,
     "metadata": {},
     "output_type": "execute_result"
    }
   ],
   "source": [
    "gaussian_distribution(10)"
   ]
  },
  {
   "cell_type": "code",
   "execution_count": 79,
   "metadata": {},
   "outputs": [],
   "source": [
    "x = np.arange(0, 10, 2)\n",
    "y = [gaussian_distribution(i) for i in x]"
   ]
  },
  {
   "cell_type": "code",
   "execution_count": 80,
   "metadata": {},
   "outputs": [
    {
     "data": {
      "text/plain": [
       "array([0, 2, 4, 6, 8])"
      ]
     },
     "execution_count": 80,
     "metadata": {},
     "output_type": "execute_result"
    }
   ],
   "source": [
    "x"
   ]
  },
  {
   "cell_type": "code",
   "execution_count": 81,
   "metadata": {},
   "outputs": [
    {
     "data": {
      "text/plain": [
       "[0.3989422804014327,\n",
       " 0.05399096651318806,\n",
       " 0.00013383022576488537,\n",
       " 6.075882849823286e-09,\n",
       " 5.052271083536893e-15]"
      ]
     },
     "execution_count": 81,
     "metadata": {},
     "output_type": "execute_result"
    }
   ],
   "source": [
    "y"
   ]
  },
  {
   "cell_type": "code",
   "execution_count": 82,
   "metadata": {},
   "outputs": [
    {
     "data": {
      "text/plain": [
       "array([3.98942280e-01, 5.39909665e-02, 1.33830226e-04, 6.07588285e-09,\n",
       "       5.05227108e-15])"
      ]
     },
     "execution_count": 82,
     "metadata": {},
     "output_type": "execute_result"
    }
   ],
   "source": [
    "meu = 0\n",
    "sigma = 1\n",
    "np.exp(-1*((x - meu)**2) / (2*sigma**2))/np.sqrt(2*np.pi*sigma**2)"
   ]
  },
  {
   "cell_type": "code",
   "execution_count": 83,
   "metadata": {},
   "outputs": [
    {
     "data": {
      "text/plain": [
       "[<matplotlib.lines.Line2D at 0x7f6b9fc047b8>]"
      ]
     },
     "execution_count": 83,
     "metadata": {},
     "output_type": "execute_result"
    },
    {
     "data": {
      "image/png": "[encoded data removed]",
      "text/plain": [
       "<matplotlib.figure.Figure at 0x7f6b9fcff128>"
      ]
     },
     "metadata": {},
     "output_type": "display_data"
    }
   ],
   "source": [
    "plt.plot(x, y)"
   ]
  },
  {
   "cell_type": "code",
   "execution_count": 84,
   "metadata": {},
   "outputs": [],
   "source": [
    "y = [gaussian_distribution(i, meu=4, sigma=1.3) for i in x]"
   ]
  },
  {
   "cell_type": "code",
   "execution_count": 85,
   "metadata": {},
   "outputs": [
    {
     "data": {
      "text/plain": [
       "[<matplotlib.lines.Line2D at 0x7f6b9fbf6080>]"
      ]
     },
     "execution_count": 85,
     "metadata": {},
     "output_type": "execute_result"
    },
    {
     "data": {
      "image/png": "[encoded data removed]",
      "text/plain": [
       "<matplotlib.figure.Figure at 0x7f6b9fc30470>"
      ]
     },
     "metadata": {},
     "output_type": "display_data"
    }
   ],
   "source": [
    "plt.plot(x, y)"
   ]
  },
  {
   "cell_type": "code",
   "execution_count": 86,
   "metadata": {},
   "outputs": [],
   "source": [
    "x = np.arange(0, 10.1, 0.1)\n",
    "y = [gaussian_distribution(i, meu=5, sigma=1.1) for i in x]"
   ]
  },
  {
   "cell_type": "code",
   "execution_count": 87,
   "metadata": {},
   "outputs": [
    {
     "data": {
      "image/png": "[encoded data removed]",
      "text/plain": [
       "<matplotlib.figure.Figure at 0x7f6b9fbcfd68>"
      ]
     },
     "metadata": {},
     "output_type": "display_data"
    }
   ],
   "source": [
    "plt.plot(x, y)\n",
    "plt.grid(True)"
   ]
  },
  {
   "cell_type": "code",
   "execution_count": 88,
   "metadata": {},
   "outputs": [
    {
     "data": {
      "text/plain": [
       "array([0.44399364, 0.63237388, 0.28581935, 0.60864697, 0.68533024,\n",
       "       0.82047921, 0.31259461, 0.28086754, 0.29738297, 0.44765589])"
      ]
     },
     "execution_count": 88,
     "metadata": {},
     "output_type": "execute_result"
    }
   ],
   "source": [
    "np.random.uniform(size=(10))"
   ]
  },
  {
   "cell_type": "markdown",
   "metadata": {},
   "source": [
    "plot takes an argument fmt of the following signature\n",
    "fmt = '[color][marker][line]'"
   ]
  },
  {
   "cell_type": "code",
   "execution_count": 89,
   "metadata": {},
   "outputs": [
    {
     "data": {
      "text/plain": [
       "[<matplotlib.lines.Line2D at 0x7f6b9fb6f048>]"
      ]
     },
     "execution_count": 89,
     "metadata": {},
     "output_type": "execute_result"
    },
    {
     "data": {
      "image/png": "[encoded data removed]",
      "text/plain": [
       "<matplotlib.figure.Figure at 0x7f6b9fba63c8>"
      ]
     },
     "metadata": {},
     "output_type": "display_data"
    }
   ],
   "source": [
    "data = np.random.uniform(low=0, high=10, size=(10))\n",
    "plt.plot(data, \"ro--\")"
   ]
  },
  {
   "cell_type": "code",
   "execution_count": 90,
   "metadata": {},
   "outputs": [
    {
     "data": {
      "text/plain": [
       "(array([2, 2, 0, 0, 2, 0, 2, 0, 0, 2]),\n",
       " array([1.22970899, 2.0813644 , 2.93301981, 3.78467522, 4.63633063,\n",
       "        5.48798604, 6.33964145, 7.19129686, 8.04295227, 8.89460768,\n",
       "        9.74626309]))"
      ]
     },
     "execution_count": 90,
     "metadata": {},
     "output_type": "execute_result"
    }
   ],
   "source": [
    "np.histogram(np.random.uniform(low=0, high=10, size=(10)))"
   ]
  },
  {
   "cell_type": "code",
   "execution_count": 91,
   "metadata": {},
   "outputs": [
    {
     "data": {
      "text/plain": [
       "array([1, 1, 0, 1, 1, 1, 0, 1, 0, 4])"
      ]
     },
     "execution_count": 91,
     "metadata": {},
     "output_type": "execute_result"
    }
   ],
   "source": [
    "data = np.random.uniform(low=0, high=10, size=(10))\n",
    "hist, bins = np.histogram(data)\n",
    "hist"
   ]
  },
  {
   "cell_type": "code",
   "execution_count": 92,
   "metadata": {},
   "outputs": [
    {
     "data": {
      "text/plain": [
       "array([1.26691995, 2.07922852, 2.8915371 , 3.70384568, 4.51615426,\n",
       "       5.32846284, 6.14077142, 6.95308   , 7.76538857, 8.57769715,\n",
       "       9.39000573])"
      ]
     },
     "execution_count": 92,
     "metadata": {},
     "output_type": "execute_result"
    }
   ],
   "source": [
    "bins"
   ]
  },
  {
   "cell_type": "code",
   "execution_count": 93,
   "metadata": {},
   "outputs": [
    {
     "data": {
      "text/plain": [
       "[<matplotlib.lines.Line2D at 0x7f6b9fcb61d0>]"
      ]
     },
     "execution_count": 93,
     "metadata": {},
     "output_type": "execute_result"
    },
    {
     "data": {
      "image/png": "[encoded data removed]",
      "text/plain": [
       "<matplotlib.figure.Figure at 0x7f6b9faff780>"
      ]
     },
     "metadata": {},
     "output_type": "display_data"
    }
   ],
   "source": [
    "plt.plot(hist)"
   ]
  },
  {
   "cell_type": "code",
   "execution_count": 94,
   "metadata": {},
   "outputs": [],
   "source": [
    "hist, bins = np.histogram(data, bins=10)"
   ]
  },
  {
   "cell_type": "code",
   "execution_count": 95,
   "metadata": {},
   "outputs": [
    {
     "data": {
      "text/plain": [
       "[<matplotlib.lines.Line2D at 0x7f6b9fabf160>]"
      ]
     },
     "execution_count": 95,
     "metadata": {},
     "output_type": "execute_result"
    },
    {
     "data": {
      "image/png": "[encoded data removed]",
      "text/plain": [
       "<matplotlib.figure.Figure at 0x7f6b9fc8c0b8>"
      ]
     },
     "metadata": {},
     "output_type": "display_data"
    }
   ],
   "source": [
    "plt.plot(hist)"
   ]
  },
  {
   "cell_type": "code",
   "execution_count": 96,
   "metadata": {},
   "outputs": [
    {
     "data": {
      "text/plain": [
       "<Container object of 10 artists>"
      ]
     },
     "execution_count": 96,
     "metadata": {},
     "output_type": "execute_result"
    },
    {
     "data": {
      "image/png": "[encoded data removed]",
      "text/plain": [
       "<matplotlib.figure.Figure at 0x7f6b9fb782e8>"
      ]
     },
     "metadata": {},
     "output_type": "display_data"
    }
   ],
   "source": [
    "plt.bar(hist, height=10)"
   ]
  },
  {
   "cell_type": "code",
   "execution_count": 97,
   "metadata": {},
   "outputs": [
    {
     "data": {
      "image/png": "[encoded data removed]",
      "text/plain": [
       "<matplotlib.figure.Figure at 0x7f6b9fad6da0>"
      ]
     },
     "metadata": {},
     "output_type": "display_data"
    }
   ],
   "source": [
    "n, bins, patches = plt.hist(data, bins=10, normed=1)"
   ]
  },
  {
   "cell_type": "code",
   "execution_count": 98,
   "metadata": {},
   "outputs": [
    {
     "data": {
      "text/plain": [
       "<matplotlib.collections.PathCollection at 0x7f6b9f98b9b0>"
      ]
     },
     "execution_count": 98,
     "metadata": {},
     "output_type": "execute_result"
    },
    {
     "data": {
      "image/png": "[encoded data removed]",
      "text/plain": [
       "<matplotlib.figure.Figure at 0x7f6b9fa20ac8>"
      ]
     },
     "metadata": {},
     "output_type": "display_data"
    }
   ],
   "source": [
    "import numpy as np\n",
    "import matplotlib.pyplot as plt\n",
    "import time\n",
    "%matplotlib inline\n",
    "\n",
    "np.random.seed(seed=int(time.time()))\n",
    "x = np.random.normal(size=(10, 10))\n",
    "y = np.random.normal(size=(10, 10))\n",
    "z = np.random.randint(0, 2, size=(10, 10))\n",
    "plt.scatter(x, y, c=z, label=z, cmap=\"cool\")"
   ]
  },
  {
   "cell_type": "markdown",
   "metadata": {},
   "source": [
    "## Scipy Stats"
   ]
  },
  {
   "cell_type": "markdown",
   "metadata": {},
   "source": [
    "* See Lecture Notes:\n",
    "    * probability mass function\n",
    "    * probability density function\n",
    "    * cumulative distribution function\n",
    "    * percntile point function\n",
    "    * degrees of freedom, moments, skew, kurtosis\n",
    "    * genrating functions\n",
    "    * correlation\n",
    "    * variance"
   ]
  },
  {
   "cell_type": "code",
   "execution_count": 99,
   "metadata": {},
   "outputs": [],
   "source": [
    "from scipy import stats"
   ]
  },
  {
   "cell_type": "code",
   "execution_count": 100,
   "metadata": {},
   "outputs": [
    {
     "data": {
      "text/plain": [
       "-2.3263478740408408"
      ]
     },
     "execution_count": 100,
     "metadata": {},
     "output_type": "execute_result"
    }
   ],
   "source": [
    "stats.norm.ppf(0.01)"
   ]
  },
  {
   "cell_type": "code",
   "execution_count": 101,
   "metadata": {},
   "outputs": [
    {
     "data": {
      "text/plain": [
       "2.3263478740408408"
      ]
     },
     "execution_count": 101,
     "metadata": {},
     "output_type": "execute_result"
    }
   ],
   "source": [
    "stats.norm.ppf(0.99)"
   ]
  },
  {
   "cell_type": "code",
   "execution_count": 102,
   "metadata": {},
   "outputs": [
    {
     "data": {
      "text/plain": [
       "array([-2.32634787,  2.32634787])"
      ]
     },
     "execution_count": 102,
     "metadata": {},
     "output_type": "execute_result"
    }
   ],
   "source": [
    "stats.norm.ppf([0.01, 0.99])"
   ]
  },
  {
   "cell_type": "code",
   "execution_count": 103,
   "metadata": {},
   "outputs": [
    {
     "data": {
      "text/plain": [
       "array([-2.32634787,  0.        ,  2.32634787])"
      ]
     },
     "execution_count": 103,
     "metadata": {},
     "output_type": "execute_result"
    }
   ],
   "source": [
    "stats.norm.ppf([0.01, 0.5, 0.99])"
   ]
  },
  {
   "cell_type": "code",
   "execution_count": 104,
   "metadata": {},
   "outputs": [
    {
     "data": {
      "text/plain": [
       "array([-2.32634787, -2.27935095, -2.23235402, -2.18535709, -2.13836017,\n",
       "       -2.09136324, -2.04436631, -1.99736939, -1.95037246, -1.90337553,\n",
       "       -1.85637861, -1.80938168, -1.76238475, -1.71538783, -1.6683909 ,\n",
       "       -1.62139397, -1.57439705, -1.52740012, -1.48040319, -1.43340627,\n",
       "       -1.38640934, -1.33941241, -1.29241549, -1.24541856, -1.19842163,\n",
       "       -1.15142471, -1.10442778, -1.05743085, -1.01043393, -0.963437  ,\n",
       "       -0.91644007, -0.86944314, -0.82244622, -0.77544929, -0.72845236,\n",
       "       -0.68145544, -0.63445851, -0.58746158, -0.54046466, -0.49346773,\n",
       "       -0.4464708 , -0.39947388, -0.35247695, -0.30548002, -0.2584831 ,\n",
       "       -0.21148617, -0.16448924, -0.11749232, -0.07049539, -0.02349846,\n",
       "        0.02349846,  0.07049539,  0.11749232,  0.16448924,  0.21148617,\n",
       "        0.2584831 ,  0.30548002,  0.35247695,  0.39947388,  0.4464708 ,\n",
       "        0.49346773,  0.54046466,  0.58746158,  0.63445851,  0.68145544,\n",
       "        0.72845236,  0.77544929,  0.82244622,  0.86944314,  0.91644007,\n",
       "        0.963437  ,  1.01043393,  1.05743085,  1.10442778,  1.15142471,\n",
       "        1.19842163,  1.24541856,  1.29241549,  1.33941241,  1.38640934,\n",
       "        1.43340627,  1.48040319,  1.52740012,  1.57439705,  1.62139397,\n",
       "        1.6683909 ,  1.71538783,  1.76238475,  1.80938168,  1.85637861,\n",
       "        1.90337553,  1.95037246,  1.99736939,  2.04436631,  2.09136324,\n",
       "        2.13836017,  2.18535709,  2.23235402,  2.27935095,  2.32634787])"
      ]
     },
     "execution_count": 104,
     "metadata": {},
     "output_type": "execute_result"
    }
   ],
   "source": [
    "np.linspace(stats.norm.ppf(0.01), stats.norm.ppf(0.99), 100)"
   ]
  },
  {
   "cell_type": "code",
   "execution_count": 105,
   "metadata": {},
   "outputs": [
    {
     "data": {
      "text/plain": [
       "<scipy.stats._distn_infrastructure.rv_frozen at 0x7f6b97f81828>"
      ]
     },
     "execution_count": 105,
     "metadata": {},
     "output_type": "execute_result"
    }
   ],
   "source": [
    "stats.norm()"
   ]
  },
  {
   "cell_type": "code",
   "execution_count": 106,
   "metadata": {},
   "outputs": [
    {
     "data": {
      "text/plain": [
       "array([0.02665214, 0.0296985 , 0.03302004, 0.03663206, 0.04054955,\n",
       "       0.04478694, 0.049358  , 0.05427559, 0.05955143, 0.06519596,\n",
       "       0.07121803, 0.0776247 , 0.08442105, 0.09160987, 0.09919153,\n",
       "       0.1071637 , 0.11552116, 0.12425566, 0.13335569, 0.14280642,\n",
       "       0.1525895 , 0.16268307, 0.17306164, 0.18369615, 0.19455396,\n",
       "       0.20559893, 0.21679157, 0.22808919, 0.23944611, 0.25081392,\n",
       "       0.26214179, 0.2733768 , 0.28446433, 0.29534848, 0.30597253,\n",
       "       0.3162794 , 0.32621215, 0.33571453, 0.34473146, 0.35320956,\n",
       "       0.36109774, 0.3683476 , 0.37491403, 0.38075561, 0.38583507,\n",
       "       0.39011967, 0.39358159, 0.39619817, 0.39795222, 0.39883215,\n",
       "       0.39883215, 0.39795222, 0.39619817, 0.39358159, 0.39011967,\n",
       "       0.38583507, 0.38075561, 0.37491403, 0.3683476 , 0.36109774,\n",
       "       0.35320956, 0.34473146, 0.33571453, 0.32621215, 0.3162794 ,\n",
       "       0.30597253, 0.29534848, 0.28446433, 0.2733768 , 0.26214179,\n",
       "       0.25081392, 0.23944611, 0.22808919, 0.21679157, 0.20559893,\n",
       "       0.19455396, 0.18369615, 0.17306164, 0.16268307, 0.1525895 ,\n",
       "       0.14280642, 0.13335569, 0.12425566, 0.11552116, 0.1071637 ,\n",
       "       0.09919153, 0.09160987, 0.08442105, 0.0776247 , 0.07121803,\n",
       "       0.06519596, 0.05955143, 0.05427559, 0.049358  , 0.04478694,\n",
       "       0.04054955, 0.03663206, 0.03302004, 0.0296985 , 0.02665214])"
      ]
     },
     "execution_count": 106,
     "metadata": {},
     "output_type": "execute_result"
    }
   ],
   "source": [
    "x = np.linspace(stats.norm.ppf(0.01), stats.norm.ppf(0.99), 100)\n",
    "frozen_norm = stats.norm()\n",
    "frozen_norm.pdf(x)"
   ]
  },
  {
   "cell_type": "code",
   "execution_count": 107,
   "metadata": {},
   "outputs": [
    {
     "data": {
      "text/plain": [
       "Text(0.5,1,'Normal Distribution')"
      ]
     },
     "execution_count": 107,
     "metadata": {},
     "output_type": "execute_result"
    },
    {
     "data": {
      "image/png": "[encoded data removed]",
      "text/plain": [
       "<matplotlib.figure.Figure at 0x7f6b97fa4e48>"
      ]
     },
     "metadata": {},
     "output_type": "display_data"
    }
   ],
   "source": [
    "plt.plot(x, frozen_norm.pdf(x))\n",
    "plt.title(\"Normal Distribution\")"
   ]
  },
  {
   "cell_type": "code",
   "execution_count": 108,
   "metadata": {},
   "outputs": [
    {
     "data": {
      "text/plain": [
       "(array(0.), array(1.), array(0.), array(0.))"
      ]
     },
     "execution_count": 108,
     "metadata": {},
     "output_type": "execute_result"
    }
   ],
   "source": [
    "mean, var, skew, kurt = stats.norm.stats(moments='mvsk')\n",
    "mean, var, skew, kurt"
   ]
  },
  {
   "cell_type": "code",
   "execution_count": 109,
   "metadata": {},
   "outputs": [
    {
     "data": {
      "text/plain": [
       "array([-2.80828356,  0.34944895, -0.30748255, -1.32152462, -2.12881871,\n",
       "       -0.26429612,  0.9235659 ,  0.7102103 ,  1.01960184, -0.29352855])"
      ]
     },
     "execution_count": 109,
     "metadata": {},
     "output_type": "execute_result"
    }
   ],
   "source": [
    "# Random variates\n",
    "# scipy.stats.norm.rvs(loc=0, scale=1, size=1, random_state=None)\n",
    "stats.norm.rvs(size=10)"
   ]
  },
  {
   "cell_type": "code",
   "execution_count": 110,
   "metadata": {},
   "outputs": [
    {
     "data": {
      "text/plain": [
       "<matplotlib.legend.Legend at 0x7f6b97b41be0>"
      ]
     },
     "execution_count": 110,
     "metadata": {},
     "output_type": "execute_result"
    },
    {
     "data": {
      "image/png": "[encoded data removed]",
      "text/plain": [
       "<matplotlib.figure.Figure at 0x7f6b97c08cc0>"
      ]
     },
     "metadata": {},
     "output_type": "display_data"
    }
   ],
   "source": [
    "fig, axes = plt.subplots(1, 3, figsize=(20, 5))\n",
    "x = np.linspace(stats.norm.ppf(0.01), stats.norm.ppf(0.99), 100)\n",
    "axes[0].plot(x, stats.norm.pdf(x), 'r-', lw=5, alpha=0.5, label='norm pdf')\n",
    "axes[0].legend(loc='best', frameon=True)\n",
    "\n",
    "rv = stats.norm()\n",
    "axes[1].plot(x, rv.pdf(x), 'g-', lw=5, label='frozen pdf')\n",
    "axes[1].legend(loc='best', frameon=True)\n",
    "\n",
    "r = stats.norm.rvs(size=1000)\n",
    "axes[2].hist(r, normed=True, histtype='stepfilled', alpha=0.7, label='histogram')\n",
    "axes[2].legend(loc='best', frameon=True)"
   ]
  },
  {
   "cell_type": "code",
   "execution_count": 111,
   "metadata": {},
   "outputs": [],
   "source": [
    "vals = stats.norm.ppf([0.001, 0.5, 0.999])"
   ]
  },
  {
   "cell_type": "code",
   "execution_count": 112,
   "metadata": {},
   "outputs": [
    {
     "data": {
      "text/plain": [
       "array([-3.09023231,  0.        ,  3.09023231])"
      ]
     },
     "execution_count": 112,
     "metadata": {},
     "output_type": "execute_result"
    }
   ],
   "source": [
    "vals"
   ]
  },
  {
   "cell_type": "code",
   "execution_count": 113,
   "metadata": {},
   "outputs": [
    {
     "data": {
      "text/plain": [
       "array([0.001, 0.5  , 0.999])"
      ]
     },
     "execution_count": 113,
     "metadata": {},
     "output_type": "execute_result"
    }
   ],
   "source": [
    "stats.norm.cdf(vals)"
   ]
  },
  {
   "cell_type": "code",
   "execution_count": 114,
   "metadata": {},
   "outputs": [
    {
     "data": {
      "text/plain": [
       "True"
      ]
     },
     "execution_count": 114,
     "metadata": {},
     "output_type": "execute_result"
    }
   ],
   "source": [
    "\"\"\"\n",
    "Returns True if two arrays are element-wise equal within a tolerance.\n",
    "\"\"\"\n",
    "np.allclose([0.001, 0.5, 0.999], stats.norm.cdf(vals))"
   ]
  },
  {
   "cell_type": "code",
   "execution_count": 115,
   "metadata": {},
   "outputs": [],
   "source": [
    "my_data = np.random.uniform(-3, 3, (3, 5))"
   ]
  },
  {
   "cell_type": "code",
   "execution_count": 116,
   "metadata": {},
   "outputs": [
    {
     "data": {
      "text/plain": [
       "-0.9673439933883938"
      ]
     },
     "execution_count": 116,
     "metadata": {},
     "output_type": "execute_result"
    }
   ],
   "source": [
    "my_data.mean()"
   ]
  },
  {
   "cell_type": "code",
   "execution_count": 117,
   "metadata": {},
   "outputs": [
    {
     "data": {
      "text/plain": [
       "1.0721042952052813"
      ]
     },
     "execution_count": 117,
     "metadata": {},
     "output_type": "execute_result"
    }
   ],
   "source": [
    "my_data.var()"
   ]
  },
  {
   "cell_type": "markdown",
   "metadata": {},
   "source": [
    "Numpy is restricted to fairly basic array operations, you need to reach out to it's more educated brother, Scipy, to get more advanced stats functions."
   ]
  },
  {
   "cell_type": "code",
   "execution_count": 118,
   "metadata": {},
   "outputs": [],
   "source": [
    "import scipy as sp"
   ]
  },
  {
   "cell_type": "code",
   "execution_count": 119,
   "metadata": {},
   "outputs": [
    {
     "data": {
      "text/plain": [
       "-0.9673439933883938"
      ]
     },
     "execution_count": 119,
     "metadata": {},
     "output_type": "execute_result"
    }
   ],
   "source": [
    "sp.mean(my_data)"
   ]
  },
  {
   "cell_type": "code",
   "execution_count": 120,
   "metadata": {},
   "outputs": [
    {
     "data": {
      "text/plain": [
       "1.0721042952052813"
      ]
     },
     "execution_count": 120,
     "metadata": {},
     "output_type": "execute_result"
    }
   ],
   "source": [
    "sp.var(my_data)"
   ]
  },
  {
   "cell_type": "code",
   "execution_count": 121,
   "metadata": {},
   "outputs": [
    {
     "data": {
      "text/plain": [
       "1.035424693159904"
      ]
     },
     "execution_count": 121,
     "metadata": {},
     "output_type": "execute_result"
    }
   ],
   "source": [
    "sp.std(my_data)"
   ]
  },
  {
   "cell_type": "markdown",
   "metadata": {},
   "source": [
    "### Skew & Kurtosis\n",
    "\n",
    "A fundamental task in many statistical analyses is to characterize the location and variability of a data set. \n",
    "A further characterization of the data includes skewness and kurtosis. Skewness is a measure of symmetry, or \n",
    "more precisely, the lack of symmetry. A distribution, or data set, is symmetric if it looks the same to the \n",
    "left and right of the center point.\n",
    "\n",
    "Kurtosis is a measure of whether the data are heavy-tailed or light-tailed relative to a normal distribution.\n",
    "That is, data sets with high kurtosis tend to have heavy tails, or outliers. Data sets with low kurtosis tend \n",
    "to have light tails, or lack of outliers. A uniform distribution would be the extreme case.\n",
    "\n",
    "The histogram is an effective graphical technique for showing both the skewness and kurtosis of data set."
   ]
  },
  {
   "cell_type": "markdown",
   "metadata": {},
   "source": [
    "<dl class=\"function\">\n",
    "<dt id=\"scipy.stats.kurtosis\">\n",
    "<!--[scipy.stats.kurtosis]--><tt class=\"descclassname\">scipy.stats.</tt><tt class=\"descname\">kurtosis</tt><big>(</big><em>a</em>, <em>axis=0</em>, <em>fisher=True</em>, <em>bias=True</em><big>)</big><a class=\"headerlink\" href=\"#scipy.stats.kurtosis\" title=\"Permalink to this definition\">¶</a></dt>\n",
    "<dd><p>Computes the kurtosis (Fisher or Pearson) of a dataset.</p>\n",
    "<p>Kurtosis is the fourth central moment divided by the square of the variance.\n",
    "If Fisher’s definition is used, then 3.0 is subtracted from the result to\n",
    "give 0.0 for a normal distribution.</p>\n",
    "<p>If bias is False then the kurtosis is calculated using k statistics to\n",
    "eliminate bias comming from biased moment estimators</p>\n",
    "<p>Use kurtosistest() to see if result is close enough to normal.</p>\n",
    "<table class=\"docutils field-list\" frame=\"void\" rules=\"none\">\n",
    "<colgroup><col class=\"field-name\">\n",
    "<col class=\"field-body\">\n",
    "</colgroup><tbody valign=\"top\">\n",
    "<tr class=\"field\"><th class=\"field-name\">Parameters:</th><td class=\"field-body\"><p class=\"first\"><strong>a</strong> : array</p>\n",
    "<p><strong>axis</strong> : int or None</p>\n",
    "<p><strong>fisher</strong> : bool</p>\n",
    "<blockquote>\n",
    "<p>If True, Fisher’s definition is used (normal ==&gt; 0.0). If False,\n",
    "Pearson’s definition is used (normal ==&gt; 3.0).</p>\n",
    "</blockquote>\n",
    "<p><strong>bias</strong> : bool</p>\n",
    "<blockquote>\n",
    "<p>If False, then the calculations are corrected for statistical bias.</p>\n",
    "</blockquote>\n",
    "</td>\n",
    "</tr>\n",
    "<tr class=\"field\"><th class=\"field-name\">Returns:</th><td class=\"field-body\"><p class=\"first\"><strong>The kurtosis of values along an axis. If all values are equal, return -3 for Fisher’s</strong> :</p>\n",
    "<p class=\"last\"><strong>definition and 0 for Pearson’s definition.</strong> :</p>\n",
    "</td>\n",
    "</tr>\n",
    "</tbody>\n",
    "</table>\n",
    "<p class=\"rubric\">References</p>\n",
    "<p>[CRCProbStat2000] section 2.2.25</p>\n",
    "</dd></dl>"
   ]
  },
  {
   "cell_type": "markdown",
   "metadata": {},
   "source": [
    "In statistics, the bias (or bias function) of an estimator is the difference between this estimator's expected value and the true value of the parameter being estimated. An estimator or decision rule with zero bias is called unbiased. Otherwise the estimator is said to be biased."
   ]
  },
  {
   "cell_type": "code",
   "execution_count": 122,
   "metadata": {},
   "outputs": [
    {
     "data": {
      "text/plain": [
       "array([1.66452636, 4.61807115, 4.1339752 ])"
      ]
     },
     "execution_count": 122,
     "metadata": {},
     "output_type": "execute_result"
    }
   ],
   "source": [
    "sp.stats.kurtosis(my_data, axis=1, fisher=False, bias=False)"
   ]
  },
  {
   "cell_type": "markdown",
   "metadata": {},
   "source": [
    "A symmetrical dataset will have a skewness equal to 0. So, a normal distribution will have \n",
    "a skewness of 0. ... The value is often compared to the kurtosis of the normal distribution,\n",
    "which is equal to 3. If the kurtosis is greater than 3, then the dataset has heavier tails than\n",
    "a normal distribution (more in the tails).\n"
   ]
  },
  {
   "cell_type": "code",
   "execution_count": 123,
   "metadata": {},
   "outputs": [
    {
     "data": {
      "text/plain": [
       "array([ 0.66582843, -0.37462782,  0.08368999,  0.4245724 ,  0.30483592])"
      ]
     },
     "execution_count": 123,
     "metadata": {},
     "output_type": "execute_result"
    }
   ],
   "source": [
    "sp.stats.skew(my_data)"
   ]
  },
  {
   "cell_type": "code",
   "execution_count": 124,
   "metadata": {},
   "outputs": [
    {
     "data": {
      "text/plain": [
       "DescribeResult(nobs=3, minmax=(array([-2.86072336, -0.73948857, -2.03890582, -0.86232183, -1.59043236]), array([ 1.10665294, -0.38721087, -1.47450926,  0.43451477,  0.00818815])), mean=array([-1.37364067, -0.54420052, -1.76315378, -0.29553077, -0.86019422]), variance=array([4.67486962, 0.03212497, 0.07976053, 0.44043531, 0.65320975]), skewness=array([ 0.66582843, -0.37462782,  0.08368999,  0.4245724 ,  0.30483592]), kurtosis=array([-1.5, -1.5, -1.5, -1.5, -1.5]))"
      ]
     },
     "execution_count": 124,
     "metadata": {},
     "output_type": "execute_result"
    }
   ],
   "source": [
    "sp.stats.describe(my_data)"
   ]
  },
  {
   "cell_type": "markdown",
   "metadata": {},
   "source": [
    "#### Kurtosis is helpful to find outliers"
   ]
  },
  {
   "cell_type": "markdown",
   "metadata": {},
   "source": [
    "<h3>Probability distributions</h3>\n",
    "\n",
    "<p>\n",
    "Scipy has functions that deal with several common probability distributions. Currently there are 81 continuous probability distributions and 10 discrete distributions. These are defined in the scipy.stats sub-package. This package also defines several statistical functions.\n",
    "</p>\n",
    "\n",
    "<h4>\n",
    "Examples of continuous probability distributions are:\n",
    "</h4>\n",
    "\n",
    "<table>\n",
    "    <tr>\n",
    "        <td>norm :</td><td> Normal or Gaussian</td>\n",
    "    </tr><tr><td>chi2 :</td><td> Chi-squared</td>\n",
    "    </tr><tr><td>uniform :</td><td> Uniform</td>\n",
    "    </tr>\n",
    "</table>\n",
    "    \n",
    "<h4>Examples of discrete probability distributions are:</h4>\n",
    "\n",
    "<table><tr>\n",
    "    <td>binom :</td><td> Binomial</td>\n",
    "    </tr><tr><td>poisson :</td><td> Poisson</td>\n",
    "    </tr></table>"
   ]
  },
  {
   "cell_type": "markdown",
   "metadata": {},
   "source": [
    "### There are two ways of using probability distribution functions.\n",
    "\n",
    "1 - Generate a “frozen” distribution object and then work with the methods of this object. A “frozen” distribution is one with its parameters set to specific values. For example a Gaussian with mean = 3.5 and standard deviation = 2.0."
   ]
  },
  {
   "cell_type": "code",
   "execution_count": 128,
   "metadata": {},
   "outputs": [],
   "source": [
    " n = sp.stats.norm(loc=3.5, scale=2.0)"
   ]
  },
  {
   "cell_type": "code",
   "execution_count": 132,
   "metadata": {},
   "outputs": [
    {
     "data": {
      "text/plain": [
       "0.632776013190175"
      ]
     },
     "execution_count": 132,
     "metadata": {},
     "output_type": "execute_result"
    }
   ],
   "source": [
    "n.rvs()"
   ]
  },
  {
   "cell_type": "markdown",
   "metadata": {},
   "source": [
    "2 - Use functions in the appropriate class by always passing the parameters that define the distribution, when calling functions associated with the distribution."
   ]
  },
  {
   "cell_type": "code",
   "execution_count": 133,
   "metadata": {},
   "outputs": [
    {
     "data": {
      "text/plain": [
       "5.392965245461745"
      ]
     },
     "execution_count": 133,
     "metadata": {},
     "output_type": "execute_result"
    }
   ],
   "source": [
    "sp.stats.norm.rvs(3.5, 2.0)"
   ]
  },
  {
   "cell_type": "markdown",
   "metadata": {},
   "source": [
    "### CDF, PDF, PMF, PPF"
   ]
  },
  {
   "cell_type": "code",
   "execution_count": 145,
   "metadata": {},
   "outputs": [
    {
     "data": {
      "text/plain": [
       "array([[0.00897006, 0.22980519, 0.03786265, 0.32319419, 0.15905764],\n",
       "       [0.86577799, 0.34930005, 0.02072971, 0.66804266, 0.50326656],\n",
       "       [0.00211338, 0.30646268, 0.07017226, 0.19425522, 0.05586869]])"
      ]
     },
     "execution_count": 145,
     "metadata": {},
     "output_type": "execute_result"
    }
   ],
   "source": [
    "sp.stats.norm.cdf(my_data)"
   ]
  },
  {
   "cell_type": "code",
   "execution_count": 156,
   "metadata": {},
   "outputs": [
    {
     "data": {
      "text/plain": [
       "[<matplotlib.lines.Line2D at 0x7f6b9756e898>]"
      ]
     },
     "execution_count": 156,
     "metadata": {},
     "output_type": "execute_result"
    },
    {
     "data": {
      "image/png": "[encoded data removed]",
      "text/plain": [
       "<matplotlib.figure.Figure at 0x7f6b978cbcf8>"
      ]
     },
     "metadata": {},
     "output_type": "display_data"
    }
   ],
   "source": [
    "plt.plot(sp.stats.norm.cdf(np.linspace(-3, 3, 50)))"
   ]
  },
  {
   "cell_type": "code",
   "execution_count": 157,
   "metadata": {},
   "outputs": [
    {
     "data": {
      "text/plain": [
       "[<matplotlib.lines.Line2D at 0x7f6b974d1668>]"
      ]
     },
     "execution_count": 157,
     "metadata": {},
     "output_type": "execute_result"
    },
    {
     "data": {
      "image/png": "[encoded data removed]",
      "text/plain": [
       "<matplotlib.figure.Figure at 0x7f6b97a5b048>"
      ]
     },
     "metadata": {},
     "output_type": "display_data"
    }
   ],
   "source": [
    "plt.plot(sp.stats.norm.pdf(np.linspace(-3, 3, 50)))"
   ]
  },
  {
   "cell_type": "markdown",
   "metadata": {},
   "source": [
    "PPF is the inverse of the CDF. That is, PPF gives the value of the variate for which \n",
    "the cumulative probability has the given value."
   ]
  },
  {
   "cell_type": "code",
   "execution_count": 160,
   "metadata": {},
   "outputs": [
    {
     "data": {
      "text/plain": [
       "0.0"
      ]
     },
     "execution_count": 160,
     "metadata": {},
     "output_type": "execute_result"
    }
   ],
   "source": [
    "sp.stats.norm.ppf(0.5)"
   ]
  },
  {
   "cell_type": "code",
   "execution_count": 174,
   "metadata": {},
   "outputs": [],
   "source": [
    "n = 5.0\n",
    "p = 0.4\n",
    "lw = sp.stats.binom.ppf(0.01, n, p)\n",
    "up = sp.stats.binom.ppf(0.99, n, p)\n",
    "x = np.arange(lw, up)"
   ]
  },
  {
   "cell_type": "code",
   "execution_count": 175,
   "metadata": {},
   "outputs": [
    {
     "data": {
      "image/png": "[encoded data removed]",
      "text/plain": [
       "<matplotlib.figure.Figure at 0x7f6b97326ac8>"
      ]
     },
     "metadata": {},
     "output_type": "display_data"
    }
   ],
   "source": [
    "rv = sp.stats.binom(n, p)\n",
    "plt.vlines(x, 0, rv.pmf(x), colors='k', linestyles='-', lw=1, label='frozen pmf')\n",
    "plt.legend(loc='best', frameon=False)\n",
    "plt.show()"
   ]
  },
  {
   "cell_type": "code",
   "execution_count": 195,
   "metadata": {},
   "outputs": [
    {
     "data": {
      "text/plain": [
       "{'boxes': [<matplotlib.lines.Line2D at 0x7f6b96cfa240>],\n",
       " 'caps': [<matplotlib.lines.Line2D at 0x7f6b96cfac50>,\n",
       "  <matplotlib.lines.Line2D at 0x7f6b96d070b8>],\n",
       " 'fliers': [<matplotlib.lines.Line2D at 0x7f6b96d07908>],\n",
       " 'means': [],\n",
       " 'medians': [<matplotlib.lines.Line2D at 0x7f6b96d074e0>],\n",
       " 'whiskers': [<matplotlib.lines.Line2D at 0x7f6b96cfa390>,\n",
       "  <matplotlib.lines.Line2D at 0x7f6b96cfa828>]}"
      ]
     },
     "execution_count": 195,
     "metadata": {},
     "output_type": "execute_result"
    },
    {
     "data": {
      "image/png": "[encoded data removed]",
      "text/plain": [
       "<matplotlib.figure.Figure at 0x7f6b970916a0>"
      ]
     },
     "metadata": {},
     "output_type": "display_data"
    }
   ],
   "source": [
    "plt.boxplot(np.random.normal(0, 5, 10), vert=0)"
   ]
  }
 ],
 "metadata": {
  "kernelspec": {
   "display_name": "Python 3",
   "language": "python",
   "name": "python3"
  },
  "language_info": {
   "codemirror_mode": {
    "name": "ipython",
    "version": 3
   },
   "file_extension": ".py",
   "mimetype": "text/x-python",
   "name": "python",
   "nbconvert_exporter": "python",
   "pygments_lexer": "ipython3",
   "version": "3.6.4"
  }
 },
 "nbformat": 4,
 "nbformat_minor": 2
}
