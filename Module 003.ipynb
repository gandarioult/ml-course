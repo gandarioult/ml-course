{
 "cells": [
  {
   "cell_type": "markdown",
   "metadata": {},
   "source": [
    "# Regression Analysis"
   ]
  },
  {
   "cell_type": "markdown",
   "metadata": {},
   "source": [
    "## Linear Regression"
   ]
  },
  {
   "cell_type": "markdown",
   "metadata": {},
   "source": [
    "<p style=\"text-align: justify;\">It is one of the most widely known modeling technique. Linear regression is usually among the first few topics which people pick while learning predictive modeling.&nbsp;In this technique,&nbsp;the dependent variable is continuous, independent variable(s) can be <a href=\"https://en.wikipedia.org/wiki/Continuous_and_discrete_variables\" target=\"_blank\" rel=\"nofollow noopener noreferrer\">continuous or discrete</a>,&nbsp;and nature of regression line is linear.</p>"
   ]
  },
  {
   "cell_type": "markdown",
   "metadata": {},
   "source": [
    "<p style=\"text-align: justify;\">Linear Regression&nbsp;establishes a&nbsp;relationship between <strong>dependent variable (Y)</strong> and one or more <strong>independent&nbsp;variables (X)</strong> using a <strong>best fit straight line</strong> (also known as regression line).</p>"
   ]
  },
  {
   "cell_type": "markdown",
   "metadata": {},
   "source": [
    "<p style=\"text-align: justify;\">It is&nbsp;represented by an equation <strong>Y=a+b*X + e</strong>, where a is intercept, b is slope of the line&nbsp;and&nbsp;e is error term. This equation can be used to predict the value of target variable based on given predictor&nbsp;variable(s).</p>"
   ]
  },
  {
   "cell_type": "markdown",
   "metadata": {},
   "source": [
    "<img class=\"aligncenter wp-image-18912 \" src=\"https://www.analyticsvidhya.com/wp-content/uploads/2015/08/Linear_Regression1.png\" alt=\"Linear_Regression\" width=\"378\" height=\"225\" srcset=\"https://www.analyticsvidhya.com/wp-content/uploads/2015/08/Linear_Regression1.png 476w, https://www.analyticsvidhya.com/wp-content/uploads/2015/08/Linear_Regression1-300x178.png 300w\" sizes=\"(max-width: 378px) 100vw, 378px\">"
   ]
  },
  {
   "cell_type": "markdown",
   "metadata": {},
   "source": [
    "<p>The difference between simple linear regression and multiple linear regression is that, multiple linear regression has (&gt;1) independent variables, whereas simple linear regression has only 1 independent variable. &nbsp;Now, the question is “How do we obtain&nbsp;best fit line?”.</p>"
   ]
  },
  {
   "cell_type": "markdown",
   "metadata": {},
   "source": [
    "<h4>How to&nbsp;obtain best fit line (Value of a and b)?</h4>"
   ]
  },
  {
   "cell_type": "markdown",
   "metadata": {},
   "source": [
    "<p style=\"text-align: justify;\">This task can be easily accomplished by Least Square Method.&nbsp;It is&nbsp;the most common method used for fitting a regression line. It&nbsp;calculates the best-fit line for the observed data by minimizing the sum of the squares of the vertical deviations from each data point to the line. Because the deviations are first squared, when added, there&nbsp;is&nbsp;no cancelling out between positive and negative values.</p>"
   ]
  },
  {
   "cell_type": "markdown",
   "metadata": {},
   "source": [
    "<div class=\"text_cell_render border-box-sizing rendered_html\">\n",
    "<h2 id=\"Form-of-linear-regression\">Form of linear regression<a class=\"anchor-link\" href=\"#Form-of-linear-regression\">¶</a></h2><p><span class=\"MathJax_Preview\" style=\"color: inherit; display: none;\"></span><span class=\"MathJax\" id=\"MathJax-Element-1-Frame\" tabindex=\"0\" data-mathml=\"<math xmlns=&quot;http://www.w3.org/1998/Math/MathML&quot;><mi>y</mi><mo>=</mo><msub><mi>&amp;#x03B2;</mi><mn>0</mn></msub><mo>+</mo><msub><mi>&amp;#x03B2;</mi><mn>1</mn></msub><msub><mi>x</mi><mn>1</mn></msub><mo>+</mo><msub><mi>&amp;#x03B2;</mi><mn>2</mn></msub><msub><mi>x</mi><mn>2</mn></msub><mo>+</mo><mo>.</mo><mo>.</mo><mo>.</mo><mo>+</mo><msub><mi>&amp;#x03B2;</mi><mi>n</mi></msub><msub><mi>x</mi><mi>n</mi></msub></math>\" role=\"presentation\" style=\"position: relative;\"><nobr aria-hidden=\"true\"><span class=\"math\" id=\"MathJax-Span-1\" style=\"width: 15.928em; display: inline-block;\"><span style=\"display: inline-block; position: relative; width: 13.059em; height: 0px; font-size: 122%;\"><span style=\"position: absolute; clip: rect(1.642em, 1013.06em, 2.93em, -999.997em); top: -2.515em; left: 0em;\"><span class=\"mrow\" id=\"MathJax-Span-2\"><span class=\"mi\" id=\"MathJax-Span-3\" style=\"font-family: STIXGeneral; font-style: italic;\">y</span><span class=\"mo\" id=\"MathJax-Span-4\" style=\"font-family: STIXGeneral; padding-left: 0.296em;\">=</span><span class=\"msubsup\" id=\"MathJax-Span-5\" style=\"padding-left: 0.296em;\"><span style=\"display: inline-block; position: relative; width: 0.94em; height: 0px;\"><span style=\"position: absolute; clip: rect(3.106em, 1000.53em, 4.394em, -999.997em); top: -3.978em; left: 0em;\"><span class=\"mi\" id=\"MathJax-Span-6\" style=\"font-family: STIXGeneral; font-style: italic;\">β<span style=\"display: inline-block; overflow: hidden; height: 1px; width: 0.003em;\"></span></span><span style=\"display: inline-block; width: 0px; height: 3.984em;\"></span></span><span style=\"position: absolute; top: -3.803em; left: 0.53em;\"><span class=\"mn\" id=\"MathJax-Span-7\" style=\"font-size: 70.7%; font-family: STIXGeneral;\">0</span><span style=\"display: inline-block; width: 0px; height: 3.984em;\"></span></span></span></span><span class=\"mo\" id=\"MathJax-Span-8\" style=\"font-family: STIXGeneral; padding-left: 0.237em;\">+</span><span class=\"msubsup\" id=\"MathJax-Span-9\" style=\"padding-left: 0.237em;\"><span style=\"display: inline-block; position: relative; width: 0.94em; height: 0px;\"><span style=\"position: absolute; clip: rect(3.106em, 1000.53em, 4.394em, -999.997em); top: -3.978em; left: 0em;\"><span class=\"mi\" id=\"MathJax-Span-10\" style=\"font-family: STIXGeneral; font-style: italic;\">β<span style=\"display: inline-block; overflow: hidden; height: 1px; width: 0.003em;\"></span></span><span style=\"display: inline-block; width: 0px; height: 3.984em;\"></span></span><span style=\"position: absolute; top: -3.803em; left: 0.53em;\"><span class=\"mn\" id=\"MathJax-Span-11\" style=\"font-size: 70.7%; font-family: STIXGeneral;\">1</span><span style=\"display: inline-block; width: 0px; height: 3.984em;\"></span></span></span></span><span class=\"msubsup\" id=\"MathJax-Span-12\"><span style=\"display: inline-block; position: relative; width: 0.881em; height: 0px;\"><span style=\"position: absolute; clip: rect(3.34em, 1000.47em, 4.16em, -999.997em); top: -3.978em; left: 0em;\"><span class=\"mi\" id=\"MathJax-Span-13\" style=\"font-family: STIXGeneral; font-style: italic;\">x<span style=\"display: inline-block; overflow: hidden; height: 1px; width: 0.003em;\"></span></span><span style=\"display: inline-block; width: 0px; height: 3.984em;\"></span></span><span style=\"position: absolute; top: -3.803em; left: 0.471em;\"><span class=\"mn\" id=\"MathJax-Span-14\" style=\"font-size: 70.7%; font-family: STIXGeneral;\">1</span><span style=\"display: inline-block; width: 0px; height: 3.984em;\"></span></span></span></span><span class=\"mo\" id=\"MathJax-Span-15\" style=\"font-family: STIXGeneral; padding-left: 0.237em;\">+</span><span class=\"msubsup\" id=\"MathJax-Span-16\" style=\"padding-left: 0.237em;\"><span style=\"display: inline-block; position: relative; width: 0.94em; height: 0px;\"><span style=\"position: absolute; clip: rect(3.106em, 1000.53em, 4.394em, -999.997em); top: -3.978em; left: 0em;\"><span class=\"mi\" id=\"MathJax-Span-17\" style=\"font-family: STIXGeneral; font-style: italic;\">β<span style=\"display: inline-block; overflow: hidden; height: 1px; width: 0.003em;\"></span></span><span style=\"display: inline-block; width: 0px; height: 3.984em;\"></span></span><span style=\"position: absolute; top: -3.803em; left: 0.53em;\"><span class=\"mn\" id=\"MathJax-Span-18\" style=\"font-size: 70.7%; font-family: STIXGeneral;\">2</span><span style=\"display: inline-block; width: 0px; height: 3.984em;\"></span></span></span></span><span class=\"msubsup\" id=\"MathJax-Span-19\"><span style=\"display: inline-block; position: relative; width: 0.881em; height: 0px;\"><span style=\"position: absolute; clip: rect(3.34em, 1000.47em, 4.16em, -999.997em); top: -3.978em; left: 0em;\"><span class=\"mi\" id=\"MathJax-Span-20\" style=\"font-family: STIXGeneral; font-style: italic;\">x<span style=\"display: inline-block; overflow: hidden; height: 1px; width: 0.003em;\"></span></span><span style=\"display: inline-block; width: 0px; height: 3.984em;\"></span></span><span style=\"position: absolute; top: -3.803em; left: 0.471em;\"><span class=\"mn\" id=\"MathJax-Span-21\" style=\"font-size: 70.7%; font-family: STIXGeneral;\">2</span><span style=\"display: inline-block; width: 0px; height: 3.984em;\"></span></span></span></span><span class=\"mo\" id=\"MathJax-Span-22\" style=\"font-family: STIXGeneral;\">+</span><span class=\"mo\" id=\"MathJax-Span-23\" style=\"font-family: STIXGeneral;\">.</span><span class=\"mo\" id=\"MathJax-Span-24\" style=\"font-family: STIXGeneral; padding-left: 0.179em;\">.</span><span class=\"mo\" id=\"MathJax-Span-25\" style=\"font-family: STIXGeneral; padding-left: 0.179em;\">.</span><span class=\"mo\" id=\"MathJax-Span-26\" style=\"font-family: STIXGeneral; padding-left: 0.179em;\">+</span><span class=\"msubsup\" id=\"MathJax-Span-27\"><span style=\"display: inline-block; position: relative; width: 0.94em; height: 0px;\"><span style=\"position: absolute; clip: rect(3.106em, 1000.53em, 4.394em, -999.997em); top: -3.978em; left: 0em;\"><span class=\"mi\" id=\"MathJax-Span-28\" style=\"font-family: STIXGeneral; font-style: italic;\">β<span style=\"display: inline-block; overflow: hidden; height: 1px; width: 0.003em;\"></span></span><span style=\"display: inline-block; width: 0px; height: 3.984em;\"></span></span><span style=\"position: absolute; top: -3.803em; left: 0.53em;\"><span class=\"mi\" id=\"MathJax-Span-29\" style=\"font-size: 70.7%; font-family: STIXGeneral; font-style: italic;\">n</span><span style=\"display: inline-block; width: 0px; height: 3.984em;\"></span></span></span></span><span class=\"msubsup\" id=\"MathJax-Span-30\"><span style=\"display: inline-block; position: relative; width: 0.881em; height: 0px;\"><span style=\"position: absolute; clip: rect(3.34em, 1000.47em, 4.16em, -999.997em); top: -3.978em; left: 0em;\"><span class=\"mi\" id=\"MathJax-Span-31\" style=\"font-family: STIXGeneral; font-style: italic;\">x<span style=\"display: inline-block; overflow: hidden; height: 1px; width: 0.003em;\"></span></span><span style=\"display: inline-block; width: 0px; height: 3.984em;\"></span></span><span style=\"position: absolute; top: -3.803em; left: 0.471em;\"><span class=\"mi\" id=\"MathJax-Span-32\" style=\"font-size: 70.7%; font-family: STIXGeneral; font-style: italic;\">n</span><span style=\"display: inline-block; width: 0px; height: 3.984em;\"></span></span></span></span></span><span style=\"display: inline-block; width: 0px; height: 2.52em;\"></span></span></span><span style=\"display: inline-block; overflow: hidden; vertical-align: -0.354em; border-left: 0px solid; width: 0px; height: 1.218em;\"></span></span></nobr><span class=\"MJX_Assistive_MathML\" role=\"presentation\"><math xmlns=\"http://www.w3.org/1998/Math/MathML\"><mi>y</mi><mo>=</mo><msub><mi>β</mi><mn>0</mn></msub><mo>+</mo><msub><mi>β</mi><mn>1</mn></msub><msub><mi>x</mi><mn>1</mn></msub><mo>+</mo><msub><mi>β</mi><mn>2</mn></msub><msub><mi>x</mi><mn>2</mn></msub><mo>+</mo><mo>.</mo><mo>.</mo><mo>.</mo><mo>+</mo><msub><mi>β</mi><mi>n</mi></msub><msub><mi>x</mi><mi>n</mi></msub></math></span></span><script type=\"math/tex\" id=\"MathJax-Element-1\">y = \\beta_0 + \\beta_1x_1 + \\beta_2x_2 + ... + \\beta_nx_n</script></p>\n",
    "<ul>\n",
    "<li><span class=\"MathJax_Preview\" style=\"color: inherit; display: none;\"></span><span class=\"MathJax\" id=\"MathJax-Element-2-Frame\" tabindex=\"0\" data-mathml=\"<math xmlns=&quot;http://www.w3.org/1998/Math/MathML&quot;><mi>y</mi></math>\" role=\"presentation\" style=\"position: relative;\"><nobr aria-hidden=\"true\"><span class=\"math\" id=\"MathJax-Span-33\" style=\"width: 0.588em; display: inline-block;\"><span style=\"display: inline-block; position: relative; width: 0.471em; height: 0px; font-size: 122%;\"><span style=\"position: absolute; clip: rect(1.876em, 1000.47em, 2.93em, -999.997em); top: -2.515em; left: 0em;\"><span class=\"mrow\" id=\"MathJax-Span-34\"><span class=\"mi\" id=\"MathJax-Span-35\" style=\"font-family: STIXGeneral; font-style: italic;\">y</span></span><span style=\"display: inline-block; width: 0px; height: 2.52em;\"></span></span></span><span style=\"display: inline-block; overflow: hidden; vertical-align: -0.354em; border-left: 0px solid; width: 0px; height: 0.932em;\"></span></span></nobr><span class=\"MJX_Assistive_MathML\" role=\"presentation\"><math xmlns=\"http://www.w3.org/1998/Math/MathML\"><mi>y</mi></math></span></span><script type=\"math/tex\" id=\"MathJax-Element-2\">y</script> is the response</li>\n",
    "<li><span class=\"MathJax_Preview\" style=\"color: inherit; display: none;\"></span><span class=\"MathJax\" id=\"MathJax-Element-3-Frame\" tabindex=\"0\" data-mathml=\"<math xmlns=&quot;http://www.w3.org/1998/Math/MathML&quot;><msub><mi>&amp;#x03B2;</mi><mn>0</mn></msub></math>\" role=\"presentation\" style=\"position: relative;\"><nobr aria-hidden=\"true\"><span class=\"math\" id=\"MathJax-Span-36\" style=\"width: 1.174em; display: inline-block;\"><span style=\"display: inline-block; position: relative; width: 0.94em; height: 0px; font-size: 122%;\"><span style=\"position: absolute; clip: rect(1.291em, 1000.94em, 2.579em, -999.997em); top: -2.163em; left: 0em;\"><span class=\"mrow\" id=\"MathJax-Span-37\"><span class=\"msubsup\" id=\"MathJax-Span-38\"><span style=\"display: inline-block; position: relative; width: 0.94em; height: 0px;\"><span style=\"position: absolute; clip: rect(3.106em, 1000.53em, 4.394em, -999.997em); top: -3.978em; left: 0em;\"><span class=\"mi\" id=\"MathJax-Span-39\" style=\"font-family: STIXGeneral; font-style: italic;\">β<span style=\"display: inline-block; overflow: hidden; height: 1px; width: 0.003em;\"></span></span><span style=\"display: inline-block; width: 0px; height: 3.984em;\"></span></span><span style=\"position: absolute; top: -3.803em; left: 0.53em;\"><span class=\"mn\" id=\"MathJax-Span-40\" style=\"font-size: 70.7%; font-family: STIXGeneral;\">0</span><span style=\"display: inline-block; width: 0px; height: 3.984em;\"></span></span></span></span></span><span style=\"display: inline-block; width: 0px; height: 2.169em;\"></span></span></span><span style=\"display: inline-block; overflow: hidden; vertical-align: -0.354em; border-left: 0px solid; width: 0px; height: 1.218em;\"></span></span></nobr><span class=\"MJX_Assistive_MathML\" role=\"presentation\"><math xmlns=\"http://www.w3.org/1998/Math/MathML\"><msub><mi>β</mi><mn>0</mn></msub></math></span></span><script type=\"math/tex\" id=\"MathJax-Element-3\">\\beta_0</script> is the intercept</li>\n",
    "<li><span class=\"MathJax_Preview\" style=\"color: inherit; display: none;\"></span><span class=\"MathJax\" id=\"MathJax-Element-4-Frame\" tabindex=\"0\" data-mathml=\"<math xmlns=&quot;http://www.w3.org/1998/Math/MathML&quot;><msub><mi>&amp;#x03B2;</mi><mn>1</mn></msub></math>\" role=\"presentation\" style=\"position: relative;\"><nobr aria-hidden=\"true\"><span class=\"math\" id=\"MathJax-Span-41\" style=\"width: 1.174em; display: inline-block;\"><span style=\"display: inline-block; position: relative; width: 0.94em; height: 0px; font-size: 122%;\"><span style=\"position: absolute; clip: rect(1.291em, 1000.94em, 2.579em, -999.997em); top: -2.163em; left: 0em;\"><span class=\"mrow\" id=\"MathJax-Span-42\"><span class=\"msubsup\" id=\"MathJax-Span-43\"><span style=\"display: inline-block; position: relative; width: 0.94em; height: 0px;\"><span style=\"position: absolute; clip: rect(3.106em, 1000.53em, 4.394em, -999.997em); top: -3.978em; left: 0em;\"><span class=\"mi\" id=\"MathJax-Span-44\" style=\"font-family: STIXGeneral; font-style: italic;\">β<span style=\"display: inline-block; overflow: hidden; height: 1px; width: 0.003em;\"></span></span><span style=\"display: inline-block; width: 0px; height: 3.984em;\"></span></span><span style=\"position: absolute; top: -3.803em; left: 0.53em;\"><span class=\"mn\" id=\"MathJax-Span-45\" style=\"font-size: 70.7%; font-family: STIXGeneral;\">1</span><span style=\"display: inline-block; width: 0px; height: 3.984em;\"></span></span></span></span></span><span style=\"display: inline-block; width: 0px; height: 2.169em;\"></span></span></span><span style=\"display: inline-block; overflow: hidden; vertical-align: -0.354em; border-left: 0px solid; width: 0px; height: 1.218em;\"></span></span></nobr><span class=\"MJX_Assistive_MathML\" role=\"presentation\"><math xmlns=\"http://www.w3.org/1998/Math/MathML\"><msub><mi>β</mi><mn>1</mn></msub></math></span></span><script type=\"math/tex\" id=\"MathJax-Element-4\">\\beta_1</script> is the coefficient for <span class=\"MathJax_Preview\" style=\"color: inherit; display: none;\"></span><span class=\"MathJax\" id=\"MathJax-Element-5-Frame\" tabindex=\"0\" data-mathml=\"<math xmlns=&quot;http://www.w3.org/1998/Math/MathML&quot;><msub><mi>x</mi><mn>1</mn></msub></math>\" role=\"presentation\" style=\"position: relative;\"><nobr aria-hidden=\"true\"><span class=\"math\" id=\"MathJax-Span-46\" style=\"width: 1.115em; display: inline-block;\"><span style=\"display: inline-block; position: relative; width: 0.881em; height: 0px; font-size: 122%;\"><span style=\"position: absolute; clip: rect(1.525em, 1000.88em, 2.52em, -999.997em); top: -2.163em; left: 0em;\"><span class=\"mrow\" id=\"MathJax-Span-47\"><span class=\"msubsup\" id=\"MathJax-Span-48\"><span style=\"display: inline-block; position: relative; width: 0.881em; height: 0px;\"><span style=\"position: absolute; clip: rect(3.34em, 1000.47em, 4.16em, -999.997em); top: -3.978em; left: 0em;\"><span class=\"mi\" id=\"MathJax-Span-49\" style=\"font-family: STIXGeneral; font-style: italic;\">x<span style=\"display: inline-block; overflow: hidden; height: 1px; width: 0.003em;\"></span></span><span style=\"display: inline-block; width: 0px; height: 3.984em;\"></span></span><span style=\"position: absolute; top: -3.803em; left: 0.471em;\"><span class=\"mn\" id=\"MathJax-Span-50\" style=\"font-size: 70.7%; font-family: STIXGeneral;\">1</span><span style=\"display: inline-block; width: 0px; height: 3.984em;\"></span></span></span></span></span><span style=\"display: inline-block; width: 0px; height: 2.169em;\"></span></span></span><span style=\"display: inline-block; overflow: hidden; vertical-align: -0.282em; border-left: 0px solid; width: 0px; height: 0.861em;\"></span></span></nobr><span class=\"MJX_Assistive_MathML\" role=\"presentation\"><math xmlns=\"http://www.w3.org/1998/Math/MathML\"><msub><mi>x</mi><mn>1</mn></msub></math></span></span><script type=\"math/tex\" id=\"MathJax-Element-5\">x_1</script> (the first feature)</li>\n",
    "<li><span class=\"MathJax_Preview\" style=\"color: inherit; display: none;\"></span><span class=\"MathJax\" id=\"MathJax-Element-6-Frame\" tabindex=\"0\" data-mathml=\"<math xmlns=&quot;http://www.w3.org/1998/Math/MathML&quot;><msub><mi>&amp;#x03B2;</mi><mi>n</mi></msub></math>\" role=\"presentation\" style=\"position: relative;\"><nobr aria-hidden=\"true\"><span class=\"math\" id=\"MathJax-Span-51\" style=\"width: 1.174em; display: inline-block;\"><span style=\"display: inline-block; position: relative; width: 0.94em; height: 0px; font-size: 122%;\"><span style=\"position: absolute; clip: rect(1.291em, 1000.94em, 2.579em, -999.997em); top: -2.163em; left: 0em;\"><span class=\"mrow\" id=\"MathJax-Span-52\"><span class=\"msubsup\" id=\"MathJax-Span-53\"><span style=\"display: inline-block; position: relative; width: 0.94em; height: 0px;\"><span style=\"position: absolute; clip: rect(3.106em, 1000.53em, 4.394em, -999.997em); top: -3.978em; left: 0em;\"><span class=\"mi\" id=\"MathJax-Span-54\" style=\"font-family: STIXGeneral; font-style: italic;\">β<span style=\"display: inline-block; overflow: hidden; height: 1px; width: 0.003em;\"></span></span><span style=\"display: inline-block; width: 0px; height: 3.984em;\"></span></span><span style=\"position: absolute; top: -3.803em; left: 0.53em;\"><span class=\"mi\" id=\"MathJax-Span-55\" style=\"font-size: 70.7%; font-family: STIXGeneral; font-style: italic;\">n</span><span style=\"display: inline-block; width: 0px; height: 3.984em;\"></span></span></span></span></span><span style=\"display: inline-block; width: 0px; height: 2.169em;\"></span></span></span><span style=\"display: inline-block; overflow: hidden; vertical-align: -0.354em; border-left: 0px solid; width: 0px; height: 1.218em;\"></span></span></nobr><span class=\"MJX_Assistive_MathML\" role=\"presentation\"><math xmlns=\"http://www.w3.org/1998/Math/MathML\"><msub><mi>β</mi><mi>n</mi></msub></math></span></span><script type=\"math/tex\" id=\"MathJax-Element-6\">\\beta_n</script> is the coefficient for <span class=\"MathJax_Preview\" style=\"color: inherit; display: none;\"></span><span class=\"MathJax\" id=\"MathJax-Element-7-Frame\" tabindex=\"0\" data-mathml=\"<math xmlns=&quot;http://www.w3.org/1998/Math/MathML&quot;><msub><mi>x</mi><mi>n</mi></msub></math>\" role=\"presentation\" style=\"position: relative;\"><nobr aria-hidden=\"true\"><span class=\"math\" id=\"MathJax-Span-56\" style=\"width: 1.115em; display: inline-block;\"><span style=\"display: inline-block; position: relative; width: 0.881em; height: 0px; font-size: 122%;\"><span style=\"position: absolute; clip: rect(1.525em, 1000.88em, 2.52em, -999.997em); top: -2.163em; left: 0em;\"><span class=\"mrow\" id=\"MathJax-Span-57\"><span class=\"msubsup\" id=\"MathJax-Span-58\"><span style=\"display: inline-block; position: relative; width: 0.881em; height: 0px;\"><span style=\"position: absolute; clip: rect(3.34em, 1000.47em, 4.16em, -999.997em); top: -3.978em; left: 0em;\"><span class=\"mi\" id=\"MathJax-Span-59\" style=\"font-family: STIXGeneral; font-style: italic;\">x<span style=\"display: inline-block; overflow: hidden; height: 1px; width: 0.003em;\"></span></span><span style=\"display: inline-block; width: 0px; height: 3.984em;\"></span></span><span style=\"position: absolute; top: -3.803em; left: 0.471em;\"><span class=\"mi\" id=\"MathJax-Span-60\" style=\"font-size: 70.7%; font-family: STIXGeneral; font-style: italic;\">n</span><span style=\"display: inline-block; width: 0px; height: 3.984em;\"></span></span></span></span></span><span style=\"display: inline-block; width: 0px; height: 2.169em;\"></span></span></span><span style=\"display: inline-block; overflow: hidden; vertical-align: -0.282em; border-left: 0px solid; width: 0px; height: 0.861em;\"></span></span></nobr><span class=\"MJX_Assistive_MathML\" role=\"presentation\"><math xmlns=\"http://www.w3.org/1998/Math/MathML\"><msub><mi>x</mi><mi>n</mi></msub></math></span></span><script type=\"math/tex\" id=\"MathJax-Element-7\">x_n</script> (the nth feature)</li>\n",
    "</ul>\n",
    "<p>The <span class=\"MathJax_Preview\" style=\"color: inherit; display: none;\"></span><span class=\"MathJax\" id=\"MathJax-Element-8-Frame\" tabindex=\"0\" data-mathml=\"<math xmlns=&quot;http://www.w3.org/1998/Math/MathML&quot;><mi>&amp;#x03B2;</mi></math>\" role=\"presentation\" style=\"position: relative;\"><nobr aria-hidden=\"true\"><span class=\"math\" id=\"MathJax-Span-61\" style=\"width: 0.647em; display: inline-block;\"><span style=\"display: inline-block; position: relative; width: 0.53em; height: 0px; font-size: 122%;\"><span style=\"position: absolute; clip: rect(1.642em, 1000.53em, 2.93em, -999.997em); top: -2.515em; left: 0em;\"><span class=\"mrow\" id=\"MathJax-Span-62\"><span class=\"mi\" id=\"MathJax-Span-63\" style=\"font-family: STIXGeneral; font-style: italic;\">β<span style=\"display: inline-block; overflow: hidden; height: 1px; width: 0.003em;\"></span></span></span><span style=\"display: inline-block; width: 0px; height: 2.52em;\"></span></span></span><span style=\"display: inline-block; overflow: hidden; vertical-align: -0.354em; border-left: 0px solid; width: 0px; height: 1.218em;\"></span></span></nobr><span class=\"MJX_Assistive_MathML\" role=\"presentation\"><math xmlns=\"http://www.w3.org/1998/Math/MathML\"><mi>β</mi></math></span></span><script type=\"math/tex\" id=\"MathJax-Element-8\">\\beta</script> values are called the <strong>model coefficients</strong>:</p>\n",
    "<ul>\n",
    "<li>These values are estimated (or \"learned\") during the model fitting process using the <strong>least squares criterion</strong>.</li>\n",
    "<li>Specifically, we are find the line (mathematically) which minimizes the <strong>sum of squared residuals</strong> (or \"sum of squared errors\").</li>\n",
    "<li>And once we've learned these coefficients, we can use the model to predict the response.</li>\n",
    "</ul>\n",
    "<p><img src=\"http://nbviewer.jupyter.org/github/justmarkham/DAT8/blob/master/notebooks/images/estimating_coefficients.png\" alt=\"Estimating coefficients\"></p>\n",
    "<p style=\"text-align: justify;\"><img class=\" size-full wp-image-18938 aligncenter\" src=\"https://www.analyticsvidhya.com/wp-content/uploads/2015/08/Least_Square.png\" alt=\"Least_Square\" width=\"191\" height=\"57\"></p>\n",
    "<p>In the diagram above:</p>\n",
    "<ul>\n",
    "<li>The black dots are the <strong>observed values</strong> of x and y.</li>\n",
    "<li>The blue line is our <strong>least squares line</strong>.</li>\n",
    "<li>The red lines are the <strong>residuals</strong>, which are the vertical distances between the observed values and the least squares line.</li>\n",
    "</ul>\n",
    "\n",
    "</div>"
   ]
  },
  {
   "cell_type": "markdown",
   "metadata": {},
   "source": [
    "<p style=\"text-align: justify;\">We can evaluate&nbsp;the model performance using the metric&nbsp;<strong>R-square</strong></p>"
   ]
  },
  {
   "cell_type": "markdown",
   "metadata": {},
   "source": [
    "<p>RMSE is the most popular evaluation metric used in regression problems. It follows an assumption that error are unbiased and follow a normal distribution. Here are the key points to consider on RMSE:</p>"
   ]
  },
  {
   "cell_type": "markdown",
   "metadata": {},
   "source": [
    "<ol>\n",
    "<li>The power of ‘square root’&nbsp; empowers&nbsp;this metric to&nbsp;show large number deviations.</li>\n",
    "<li>The ‘squared’ nature of this metric helps to deliver more robust results which prevents&nbsp;cancelling the positive and negative error values. In other words, this metric aptly displays the plausible magnitude of error term.</li>\n",
    "<li>It avoids the use of absolute error values which is highly undesirable in mathematical calculations.</li>\n",
    "<li>When we have more samples, reconstructing the error distribution using RMSE is considered to be more reliable.</li>\n",
    "<li>RMSE is highly affected by outlier values. Hence, make sure you’ve removed outliers from your data set prior to using this metric.</li>\n",
    "<li>As compared to mean absolute error, RMSE gives higher weightage and punishes large errors.</li>\n",
    "</ol>"
   ]
  },
  {
   "cell_type": "markdown",
   "metadata": {},
   "source": [
    "<p>RMSE metric is given by:</p>\n",
    "<p><img class=\"size-full wp-image-23473 aligncenter\" src=\"https://www.analyticsvidhya.com/wp-content/uploads/2016/02/rmse.png\" alt=\"rmse\" width=\"358\" height=\"104\" srcset=\"https://www.analyticsvidhya.com/wp-content/uploads/2016/02/rmse.png 358w, https://www.analyticsvidhya.com/wp-content/uploads/2016/02/rmse-300x87.png 300w\" sizes=\"(max-width: 358px) 100vw, 358px\"></p>\n",
    "<p>where, N is Total Number of Observations.</p>"
   ]
  },
  {
   "cell_type": "markdown",
   "metadata": {},
   "source": [
    "<h4>Important Points:</h4>"
   ]
  },
  {
   "cell_type": "markdown",
   "metadata": {},
   "source": [
    "<ul>\n",
    "<li style=\"text-align: justify;\">There must be <strong>linear relationship</strong> between independent and dependent variables</li>\n",
    "<li style=\"text-align: justify;\">Multiple regression suffers from <strong>multicollinearity, autocorrelation, heteroskedasticity</strong>.</li>\n",
    "<li style=\"text-align: justify;\">Linear Regression is very sensitive to <strong>Outliers</strong>. It can terribly affect the regression line and&nbsp;eventually the forecasted values.</li>\n",
    "<li style=\"text-align: justify;\">Multicollinearity can increase the variance of the coefficient estimates and make the estimates very sensitive to minor changes in the model. The result is that the coefficient estimates are unstable</li>\n",
    "<li style=\"text-align: justify;\">In case of multiple independent variables, we can go with <strong>forward selection</strong>, <strong>backward elimination</strong> and <strong>step wise approach</strong> for selection of most significant independent variables.</li>\n",
    "</ul>"
   ]
  },
  {
   "cell_type": "code",
   "execution_count": 1,
   "metadata": {},
   "outputs": [
    {
     "data": {
      "text/html": [
       "<div>\n",
       "<style scoped>\n",
       "    .dataframe tbody tr th:only-of-type {\n",
       "        vertical-align: middle;\n",
       "    }\n",
       "\n",
       "    .dataframe tbody tr th {\n",
       "        vertical-align: top;\n",
       "    }\n",
       "\n",
       "    .dataframe thead th {\n",
       "        text-align: right;\n",
       "    }\n",
       "</style>\n",
       "<table border=\"1\" class=\"dataframe\">\n",
       "  <thead>\n",
       "    <tr style=\"text-align: right;\">\n",
       "      <th></th>\n",
       "      <th>age</th>\n",
       "      <th>job</th>\n",
       "      <th>marital</th>\n",
       "      <th>education</th>\n",
       "      <th>default</th>\n",
       "      <th>balance</th>\n",
       "      <th>housing</th>\n",
       "      <th>loan</th>\n",
       "      <th>contact</th>\n",
       "      <th>day</th>\n",
       "      <th>month</th>\n",
       "      <th>duration</th>\n",
       "      <th>campaign</th>\n",
       "      <th>pdays</th>\n",
       "      <th>previous</th>\n",
       "      <th>poutcome</th>\n",
       "      <th>y</th>\n",
       "    </tr>\n",
       "  </thead>\n",
       "  <tbody>\n",
       "    <tr>\n",
       "      <th>0</th>\n",
       "      <td>30.0</td>\n",
       "      <td>8.0</td>\n",
       "      <td>1</td>\n",
       "      <td>2.0</td>\n",
       "      <td>0</td>\n",
       "      <td>0.068455</td>\n",
       "      <td>0</td>\n",
       "      <td>0</td>\n",
       "      <td>1.0</td>\n",
       "      <td>19</td>\n",
       "      <td>10</td>\n",
       "      <td>0.024826</td>\n",
       "      <td>1</td>\n",
       "      <td>0.000000</td>\n",
       "      <td>0</td>\n",
       "      <td>NaN</td>\n",
       "      <td>0</td>\n",
       "    </tr>\n",
       "    <tr>\n",
       "      <th>1</th>\n",
       "      <td>33.0</td>\n",
       "      <td>6.0</td>\n",
       "      <td>1</td>\n",
       "      <td>1.0</td>\n",
       "      <td>0</td>\n",
       "      <td>0.108750</td>\n",
       "      <td>1</td>\n",
       "      <td>1</td>\n",
       "      <td>1.0</td>\n",
       "      <td>11</td>\n",
       "      <td>5</td>\n",
       "      <td>0.071500</td>\n",
       "      <td>1</td>\n",
       "      <td>0.389908</td>\n",
       "      <td>4</td>\n",
       "      <td>0.0</td>\n",
       "      <td>0</td>\n",
       "    </tr>\n",
       "    <tr>\n",
       "      <th>2</th>\n",
       "      <td>35.0</td>\n",
       "      <td>0.0</td>\n",
       "      <td>0</td>\n",
       "      <td>0.0</td>\n",
       "      <td>0</td>\n",
       "      <td>0.062590</td>\n",
       "      <td>1</td>\n",
       "      <td>0</td>\n",
       "      <td>1.0</td>\n",
       "      <td>16</td>\n",
       "      <td>4</td>\n",
       "      <td>0.059914</td>\n",
       "      <td>1</td>\n",
       "      <td>0.379587</td>\n",
       "      <td>1</td>\n",
       "      <td>0.0</td>\n",
       "      <td>0</td>\n",
       "    </tr>\n",
       "    <tr>\n",
       "      <th>3</th>\n",
       "      <td>30.0</td>\n",
       "      <td>0.0</td>\n",
       "      <td>1</td>\n",
       "      <td>0.0</td>\n",
       "      <td>0</td>\n",
       "      <td>0.064281</td>\n",
       "      <td>1</td>\n",
       "      <td>1</td>\n",
       "      <td>NaN</td>\n",
       "      <td>3</td>\n",
       "      <td>6</td>\n",
       "      <td>0.064548</td>\n",
       "      <td>4</td>\n",
       "      <td>0.000000</td>\n",
       "      <td>0</td>\n",
       "      <td>NaN</td>\n",
       "      <td>0</td>\n",
       "    </tr>\n",
       "    <tr>\n",
       "      <th>4</th>\n",
       "      <td>59.0</td>\n",
       "      <td>3.0</td>\n",
       "      <td>1</td>\n",
       "      <td>1.0</td>\n",
       "      <td>0</td>\n",
       "      <td>0.044469</td>\n",
       "      <td>1</td>\n",
       "      <td>0</td>\n",
       "      <td>NaN</td>\n",
       "      <td>5</td>\n",
       "      <td>5</td>\n",
       "      <td>0.073486</td>\n",
       "      <td>1</td>\n",
       "      <td>0.000000</td>\n",
       "      <td>0</td>\n",
       "      <td>NaN</td>\n",
       "      <td>0</td>\n",
       "    </tr>\n",
       "  </tbody>\n",
       "</table>\n",
       "</div>"
      ],
      "text/plain": [
       "    age  job  marital  education  default   balance  housing  loan  contact  \\\n",
       "0  30.0  8.0        1        2.0        0  0.068455        0     0      1.0   \n",
       "1  33.0  6.0        1        1.0        0  0.108750        1     1      1.0   \n",
       "2  35.0  0.0        0        0.0        0  0.062590        1     0      1.0   \n",
       "3  30.0  0.0        1        0.0        0  0.064281        1     1      NaN   \n",
       "4  59.0  3.0        1        1.0        0  0.044469        1     0      NaN   \n",
       "\n",
       "   day  month  duration  campaign     pdays  previous  poutcome  y  \n",
       "0   19     10  0.024826         1  0.000000         0       NaN  0  \n",
       "1   11      5  0.071500         1  0.389908         4       0.0  0  \n",
       "2   16      4  0.059914         1  0.379587         1       0.0  0  \n",
       "3    3      6  0.064548         4  0.000000         0       NaN  0  \n",
       "4    5      5  0.073486         1  0.000000         0       NaN  0  "
      ]
     },
     "execution_count": 1,
     "metadata": {},
     "output_type": "execute_result"
    }
   ],
   "source": [
    "import pandas as pd\n",
    "\n",
    "df = pd.read_csv(\"./bank/preprocessed.csv\")\n",
    "\n",
    "df.head()"
   ]
  },
  {
   "cell_type": "code",
   "execution_count": 2,
   "metadata": {},
   "outputs": [
    {
     "data": {
      "text/html": [
       "<div>\n",
       "<style scoped>\n",
       "    .dataframe tbody tr th:only-of-type {\n",
       "        vertical-align: middle;\n",
       "    }\n",
       "\n",
       "    .dataframe tbody tr th {\n",
       "        vertical-align: top;\n",
       "    }\n",
       "\n",
       "    .dataframe thead th {\n",
       "        text-align: right;\n",
       "    }\n",
       "</style>\n",
       "<table border=\"1\" class=\"dataframe\">\n",
       "  <thead>\n",
       "    <tr style=\"text-align: right;\">\n",
       "      <th></th>\n",
       "      <th>age</th>\n",
       "      <th>job</th>\n",
       "      <th>marital</th>\n",
       "      <th>education</th>\n",
       "      <th>default</th>\n",
       "      <th>balance</th>\n",
       "      <th>housing</th>\n",
       "      <th>loan</th>\n",
       "      <th>contact</th>\n",
       "      <th>day</th>\n",
       "      <th>month</th>\n",
       "      <th>duration</th>\n",
       "      <th>campaign</th>\n",
       "      <th>pdays</th>\n",
       "      <th>previous</th>\n",
       "      <th>poutcome</th>\n",
       "      <th>y</th>\n",
       "    </tr>\n",
       "  </thead>\n",
       "  <tbody>\n",
       "    <tr>\n",
       "      <th>1</th>\n",
       "      <td>33.0</td>\n",
       "      <td>6.0</td>\n",
       "      <td>1</td>\n",
       "      <td>1.0</td>\n",
       "      <td>0</td>\n",
       "      <td>0.108750</td>\n",
       "      <td>1</td>\n",
       "      <td>1</td>\n",
       "      <td>1.0</td>\n",
       "      <td>11</td>\n",
       "      <td>5</td>\n",
       "      <td>0.071500</td>\n",
       "      <td>1</td>\n",
       "      <td>0.389908</td>\n",
       "      <td>4</td>\n",
       "      <td>0.0</td>\n",
       "      <td>0</td>\n",
       "    </tr>\n",
       "    <tr>\n",
       "      <th>2</th>\n",
       "      <td>35.0</td>\n",
       "      <td>0.0</td>\n",
       "      <td>0</td>\n",
       "      <td>0.0</td>\n",
       "      <td>0</td>\n",
       "      <td>0.062590</td>\n",
       "      <td>1</td>\n",
       "      <td>0</td>\n",
       "      <td>1.0</td>\n",
       "      <td>16</td>\n",
       "      <td>4</td>\n",
       "      <td>0.059914</td>\n",
       "      <td>1</td>\n",
       "      <td>0.379587</td>\n",
       "      <td>1</td>\n",
       "      <td>0.0</td>\n",
       "      <td>0</td>\n",
       "    </tr>\n",
       "    <tr>\n",
       "      <th>5</th>\n",
       "      <td>35.0</td>\n",
       "      <td>0.0</td>\n",
       "      <td>0</td>\n",
       "      <td>0.0</td>\n",
       "      <td>0</td>\n",
       "      <td>0.054496</td>\n",
       "      <td>0</td>\n",
       "      <td>0</td>\n",
       "      <td>1.0</td>\n",
       "      <td>23</td>\n",
       "      <td>2</td>\n",
       "      <td>0.045349</td>\n",
       "      <td>2</td>\n",
       "      <td>0.202982</td>\n",
       "      <td>3</td>\n",
       "      <td>0.0</td>\n",
       "      <td>0</td>\n",
       "    </tr>\n",
       "    <tr>\n",
       "      <th>6</th>\n",
       "      <td>36.0</td>\n",
       "      <td>7.0</td>\n",
       "      <td>1</td>\n",
       "      <td>0.0</td>\n",
       "      <td>0</td>\n",
       "      <td>0.048590</td>\n",
       "      <td>1</td>\n",
       "      <td>0</td>\n",
       "      <td>1.0</td>\n",
       "      <td>14</td>\n",
       "      <td>5</td>\n",
       "      <td>0.111552</td>\n",
       "      <td>1</td>\n",
       "      <td>0.379587</td>\n",
       "      <td>2</td>\n",
       "      <td>1.0</td>\n",
       "      <td>0</td>\n",
       "    </tr>\n",
       "    <tr>\n",
       "      <th>9</th>\n",
       "      <td>43.0</td>\n",
       "      <td>6.0</td>\n",
       "      <td>1</td>\n",
       "      <td>2.0</td>\n",
       "      <td>0</td>\n",
       "      <td>0.043288</td>\n",
       "      <td>1</td>\n",
       "      <td>1</td>\n",
       "      <td>1.0</td>\n",
       "      <td>17</td>\n",
       "      <td>4</td>\n",
       "      <td>0.102284</td>\n",
       "      <td>1</td>\n",
       "      <td>0.169725</td>\n",
       "      <td>2</td>\n",
       "      <td>0.0</td>\n",
       "      <td>0</td>\n",
       "    </tr>\n",
       "  </tbody>\n",
       "</table>\n",
       "</div>"
      ],
      "text/plain": [
       "    age  job  marital  education  default   balance  housing  loan  contact  \\\n",
       "1  33.0  6.0        1        1.0        0  0.108750        1     1      1.0   \n",
       "2  35.0  0.0        0        0.0        0  0.062590        1     0      1.0   \n",
       "5  35.0  0.0        0        0.0        0  0.054496        0     0      1.0   \n",
       "6  36.0  7.0        1        0.0        0  0.048590        1     0      1.0   \n",
       "9  43.0  6.0        1        2.0        0  0.043288        1     1      1.0   \n",
       "\n",
       "   day  month  duration  campaign     pdays  previous  poutcome  y  \n",
       "1   11      5  0.071500         1  0.389908         4       0.0  0  \n",
       "2   16      4  0.059914         1  0.379587         1       0.0  0  \n",
       "5   23      2  0.045349         2  0.202982         3       0.0  0  \n",
       "6   14      5  0.111552         1  0.379587         2       1.0  0  \n",
       "9   17      4  0.102284         1  0.169725         2       0.0  0  "
      ]
     },
     "execution_count": 2,
     "metadata": {},
     "output_type": "execute_result"
    }
   ],
   "source": [
    "df = df.dropna()\n",
    "df.head()"
   ]
  },
  {
   "cell_type": "code",
   "execution_count": 3,
   "metadata": {},
   "outputs": [],
   "source": [
    "from sklearn.preprocessing import MinMaxScaler"
   ]
  },
  {
   "cell_type": "code",
   "execution_count": 4,
   "metadata": {},
   "outputs": [],
   "source": [
    "scaler = MinMaxScaler()"
   ]
  },
  {
   "cell_type": "code",
   "execution_count": 5,
   "metadata": {},
   "outputs": [
    {
     "data": {
      "text/html": [
       "<div>\n",
       "<style scoped>\n",
       "    .dataframe tbody tr th:only-of-type {\n",
       "        vertical-align: middle;\n",
       "    }\n",
       "\n",
       "    .dataframe tbody tr th {\n",
       "        vertical-align: top;\n",
       "    }\n",
       "\n",
       "    .dataframe thead th {\n",
       "        text-align: right;\n",
       "    }\n",
       "</style>\n",
       "<table border=\"1\" class=\"dataframe\">\n",
       "  <thead>\n",
       "    <tr style=\"text-align: right;\">\n",
       "      <th></th>\n",
       "      <th>age</th>\n",
       "      <th>job</th>\n",
       "      <th>marital</th>\n",
       "      <th>education</th>\n",
       "      <th>default</th>\n",
       "      <th>balance</th>\n",
       "      <th>housing</th>\n",
       "      <th>loan</th>\n",
       "      <th>contact</th>\n",
       "      <th>day</th>\n",
       "      <th>month</th>\n",
       "      <th>duration</th>\n",
       "      <th>campaign</th>\n",
       "      <th>pdays</th>\n",
       "      <th>previous</th>\n",
       "      <th>poutcome</th>\n",
       "      <th>y</th>\n",
       "    </tr>\n",
       "  </thead>\n",
       "  <tbody>\n",
       "    <tr>\n",
       "      <th>1</th>\n",
       "      <td>0.173913</td>\n",
       "      <td>0.6</td>\n",
       "      <td>1</td>\n",
       "      <td>0.5</td>\n",
       "      <td>0</td>\n",
       "      <td>0.108750</td>\n",
       "      <td>1</td>\n",
       "      <td>1</td>\n",
       "      <td>1.0</td>\n",
       "      <td>0.333333</td>\n",
       "      <td>0.363636</td>\n",
       "      <td>0.071500</td>\n",
       "      <td>0.0</td>\n",
       "      <td>0.388506</td>\n",
       "      <td>0.125000</td>\n",
       "      <td>0.0</td>\n",
       "      <td>0</td>\n",
       "    </tr>\n",
       "    <tr>\n",
       "      <th>2</th>\n",
       "      <td>0.217391</td>\n",
       "      <td>0.0</td>\n",
       "      <td>0</td>\n",
       "      <td>0.0</td>\n",
       "      <td>0</td>\n",
       "      <td>0.062590</td>\n",
       "      <td>1</td>\n",
       "      <td>0</td>\n",
       "      <td>1.0</td>\n",
       "      <td>0.500000</td>\n",
       "      <td>0.272727</td>\n",
       "      <td>0.059914</td>\n",
       "      <td>0.0</td>\n",
       "      <td>0.378161</td>\n",
       "      <td>0.000000</td>\n",
       "      <td>0.0</td>\n",
       "      <td>0</td>\n",
       "    </tr>\n",
       "    <tr>\n",
       "      <th>5</th>\n",
       "      <td>0.217391</td>\n",
       "      <td>0.0</td>\n",
       "      <td>0</td>\n",
       "      <td>0.0</td>\n",
       "      <td>0</td>\n",
       "      <td>0.054496</td>\n",
       "      <td>0</td>\n",
       "      <td>0</td>\n",
       "      <td>1.0</td>\n",
       "      <td>0.733333</td>\n",
       "      <td>0.090909</td>\n",
       "      <td>0.045349</td>\n",
       "      <td>0.1</td>\n",
       "      <td>0.201149</td>\n",
       "      <td>0.083333</td>\n",
       "      <td>0.0</td>\n",
       "      <td>0</td>\n",
       "    </tr>\n",
       "    <tr>\n",
       "      <th>6</th>\n",
       "      <td>0.239130</td>\n",
       "      <td>0.7</td>\n",
       "      <td>1</td>\n",
       "      <td>0.0</td>\n",
       "      <td>0</td>\n",
       "      <td>0.048590</td>\n",
       "      <td>1</td>\n",
       "      <td>0</td>\n",
       "      <td>1.0</td>\n",
       "      <td>0.433333</td>\n",
       "      <td>0.363636</td>\n",
       "      <td>0.111552</td>\n",
       "      <td>0.0</td>\n",
       "      <td>0.378161</td>\n",
       "      <td>0.041667</td>\n",
       "      <td>0.5</td>\n",
       "      <td>0</td>\n",
       "    </tr>\n",
       "    <tr>\n",
       "      <th>9</th>\n",
       "      <td>0.391304</td>\n",
       "      <td>0.6</td>\n",
       "      <td>1</td>\n",
       "      <td>1.0</td>\n",
       "      <td>0</td>\n",
       "      <td>0.043288</td>\n",
       "      <td>1</td>\n",
       "      <td>1</td>\n",
       "      <td>1.0</td>\n",
       "      <td>0.533333</td>\n",
       "      <td>0.272727</td>\n",
       "      <td>0.102284</td>\n",
       "      <td>0.0</td>\n",
       "      <td>0.167816</td>\n",
       "      <td>0.041667</td>\n",
       "      <td>0.0</td>\n",
       "      <td>0</td>\n",
       "    </tr>\n",
       "  </tbody>\n",
       "</table>\n",
       "</div>"
      ],
      "text/plain": [
       "        age  job  marital  education  default   balance  housing  loan  \\\n",
       "1  0.173913  0.6        1        0.5        0  0.108750        1     1   \n",
       "2  0.217391  0.0        0        0.0        0  0.062590        1     0   \n",
       "5  0.217391  0.0        0        0.0        0  0.054496        0     0   \n",
       "6  0.239130  0.7        1        0.0        0  0.048590        1     0   \n",
       "9  0.391304  0.6        1        1.0        0  0.043288        1     1   \n",
       "\n",
       "   contact       day     month  duration  campaign     pdays  previous  \\\n",
       "1      1.0  0.333333  0.363636  0.071500       0.0  0.388506  0.125000   \n",
       "2      1.0  0.500000  0.272727  0.059914       0.0  0.378161  0.000000   \n",
       "5      1.0  0.733333  0.090909  0.045349       0.1  0.201149  0.083333   \n",
       "6      1.0  0.433333  0.363636  0.111552       0.0  0.378161  0.041667   \n",
       "9      1.0  0.533333  0.272727  0.102284       0.0  0.167816  0.041667   \n",
       "\n",
       "   poutcome  y  \n",
       "1       0.0  0  \n",
       "2       0.0  0  \n",
       "5       0.0  0  \n",
       "6       0.5  0  \n",
       "9       0.0  0  "
      ]
     },
     "execution_count": 5,
     "metadata": {},
     "output_type": "execute_result"
    }
   ],
   "source": [
    "cols = [\"age\", \"job\", \"education\", \"day\", \"month\", \"campaign\", \"pdays\", \"previous\", \"poutcome\"]\n",
    "df[cols] = scaler.fit_transform(df[cols])\n",
    "df.head()"
   ]
  },
  {
   "cell_type": "code",
   "execution_count": 6,
   "metadata": {},
   "outputs": [
    {
     "data": {
      "text/html": [
       "<div>\n",
       "<style scoped>\n",
       "    .dataframe tbody tr th:only-of-type {\n",
       "        vertical-align: middle;\n",
       "    }\n",
       "\n",
       "    .dataframe tbody tr th {\n",
       "        vertical-align: top;\n",
       "    }\n",
       "\n",
       "    .dataframe thead th {\n",
       "        text-align: right;\n",
       "    }\n",
       "</style>\n",
       "<table border=\"1\" class=\"dataframe\">\n",
       "  <thead>\n",
       "    <tr style=\"text-align: right;\">\n",
       "      <th></th>\n",
       "      <th>age</th>\n",
       "      <th>job</th>\n",
       "      <th>marital</th>\n",
       "      <th>education</th>\n",
       "      <th>default</th>\n",
       "      <th>balance</th>\n",
       "      <th>housing</th>\n",
       "      <th>loan</th>\n",
       "      <th>contact</th>\n",
       "      <th>day</th>\n",
       "      <th>month</th>\n",
       "      <th>duration</th>\n",
       "      <th>campaign</th>\n",
       "      <th>pdays</th>\n",
       "      <th>previous</th>\n",
       "      <th>poutcome</th>\n",
       "      <th>y</th>\n",
       "    </tr>\n",
       "  </thead>\n",
       "  <tbody>\n",
       "    <tr>\n",
       "      <th>count</th>\n",
       "      <td>737.000000</td>\n",
       "      <td>737.000000</td>\n",
       "      <td>737.000000</td>\n",
       "      <td>737.000000</td>\n",
       "      <td>737.000000</td>\n",
       "      <td>737.000000</td>\n",
       "      <td>737.000000</td>\n",
       "      <td>737.000000</td>\n",
       "      <td>737.000000</td>\n",
       "      <td>737.000000</td>\n",
       "      <td>737.000000</td>\n",
       "      <td>737.000000</td>\n",
       "      <td>737.000000</td>\n",
       "      <td>737.000000</td>\n",
       "      <td>737.000000</td>\n",
       "      <td>737.000000</td>\n",
       "      <td>737.000000</td>\n",
       "    </tr>\n",
       "    <tr>\n",
       "      <th>mean</th>\n",
       "      <td>0.341130</td>\n",
       "      <td>0.294573</td>\n",
       "      <td>0.702849</td>\n",
       "      <td>0.384668</td>\n",
       "      <td>0.006784</td>\n",
       "      <td>0.065296</td>\n",
       "      <td>0.658073</td>\n",
       "      <td>0.124830</td>\n",
       "      <td>0.926730</td>\n",
       "      <td>0.449706</td>\n",
       "      <td>0.429012</td>\n",
       "      <td>0.087980</td>\n",
       "      <td>0.104342</td>\n",
       "      <td>0.259585</td>\n",
       "      <td>0.083786</td>\n",
       "      <td>0.265265</td>\n",
       "      <td>0.214383</td>\n",
       "    </tr>\n",
       "    <tr>\n",
       "      <th>std</th>\n",
       "      <td>0.213591</td>\n",
       "      <td>0.265442</td>\n",
       "      <td>0.457314</td>\n",
       "      <td>0.321758</td>\n",
       "      <td>0.082142</td>\n",
       "      <td>0.039801</td>\n",
       "      <td>0.474677</td>\n",
       "      <td>0.330751</td>\n",
       "      <td>0.260756</td>\n",
       "      <td>0.260081</td>\n",
       "      <td>0.278046</td>\n",
       "      <td>0.081259</td>\n",
       "      <td>0.159849</td>\n",
       "      <td>0.130139</td>\n",
       "      <td>0.122058</td>\n",
       "      <td>0.367480</td>\n",
       "      <td>0.410672</td>\n",
       "    </tr>\n",
       "    <tr>\n",
       "      <th>min</th>\n",
       "      <td>0.000000</td>\n",
       "      <td>0.000000</td>\n",
       "      <td>0.000000</td>\n",
       "      <td>0.000000</td>\n",
       "      <td>0.000000</td>\n",
       "      <td>0.025678</td>\n",
       "      <td>0.000000</td>\n",
       "      <td>0.000000</td>\n",
       "      <td>0.000000</td>\n",
       "      <td>0.000000</td>\n",
       "      <td>0.000000</td>\n",
       "      <td>0.000331</td>\n",
       "      <td>0.000000</td>\n",
       "      <td>0.000000</td>\n",
       "      <td>0.000000</td>\n",
       "      <td>0.000000</td>\n",
       "      <td>0.000000</td>\n",
       "    </tr>\n",
       "    <tr>\n",
       "      <th>25%</th>\n",
       "      <td>0.173913</td>\n",
       "      <td>0.100000</td>\n",
       "      <td>0.000000</td>\n",
       "      <td>0.000000</td>\n",
       "      <td>0.000000</td>\n",
       "      <td>0.046241</td>\n",
       "      <td>0.000000</td>\n",
       "      <td>0.000000</td>\n",
       "      <td>1.000000</td>\n",
       "      <td>0.200000</td>\n",
       "      <td>0.272727</td>\n",
       "      <td>0.037736</td>\n",
       "      <td>0.000000</td>\n",
       "      <td>0.166667</td>\n",
       "      <td>0.000000</td>\n",
       "      <td>0.000000</td>\n",
       "      <td>0.000000</td>\n",
       "    </tr>\n",
       "    <tr>\n",
       "      <th>50%</th>\n",
       "      <td>0.282609</td>\n",
       "      <td>0.300000</td>\n",
       "      <td>1.000000</td>\n",
       "      <td>0.500000</td>\n",
       "      <td>0.000000</td>\n",
       "      <td>0.052738</td>\n",
       "      <td>1.000000</td>\n",
       "      <td>0.000000</td>\n",
       "      <td>1.000000</td>\n",
       "      <td>0.433333</td>\n",
       "      <td>0.363636</td>\n",
       "      <td>0.065210</td>\n",
       "      <td>0.000000</td>\n",
       "      <td>0.219540</td>\n",
       "      <td>0.041667</td>\n",
       "      <td>0.000000</td>\n",
       "      <td>0.000000</td>\n",
       "    </tr>\n",
       "    <tr>\n",
       "      <th>75%</th>\n",
       "      <td>0.478261</td>\n",
       "      <td>0.500000</td>\n",
       "      <td>1.000000</td>\n",
       "      <td>0.500000</td>\n",
       "      <td>0.000000</td>\n",
       "      <td>0.066120</td>\n",
       "      <td>1.000000</td>\n",
       "      <td>0.000000</td>\n",
       "      <td>1.000000</td>\n",
       "      <td>0.600000</td>\n",
       "      <td>0.636364</td>\n",
       "      <td>0.107249</td>\n",
       "      <td>0.100000</td>\n",
       "      <td>0.378161</td>\n",
       "      <td>0.125000</td>\n",
       "      <td>0.500000</td>\n",
       "      <td>0.000000</td>\n",
       "    </tr>\n",
       "    <tr>\n",
       "      <th>max</th>\n",
       "      <td>1.000000</td>\n",
       "      <td>1.000000</td>\n",
       "      <td>1.000000</td>\n",
       "      <td>1.000000</td>\n",
       "      <td>1.000000</td>\n",
       "      <td>0.397565</td>\n",
       "      <td>1.000000</td>\n",
       "      <td>1.000000</td>\n",
       "      <td>1.000000</td>\n",
       "      <td>1.000000</td>\n",
       "      <td>1.000000</td>\n",
       "      <td>0.521351</td>\n",
       "      <td>1.000000</td>\n",
       "      <td>1.000000</td>\n",
       "      <td>1.000000</td>\n",
       "      <td>1.000000</td>\n",
       "      <td>1.000000</td>\n",
       "    </tr>\n",
       "  </tbody>\n",
       "</table>\n",
       "</div>"
      ],
      "text/plain": [
       "              age         job     marital   education     default     balance  \\\n",
       "count  737.000000  737.000000  737.000000  737.000000  737.000000  737.000000   \n",
       "mean     0.341130    0.294573    0.702849    0.384668    0.006784    0.065296   \n",
       "std      0.213591    0.265442    0.457314    0.321758    0.082142    0.039801   \n",
       "min      0.000000    0.000000    0.000000    0.000000    0.000000    0.025678   \n",
       "25%      0.173913    0.100000    0.000000    0.000000    0.000000    0.046241   \n",
       "50%      0.282609    0.300000    1.000000    0.500000    0.000000    0.052738   \n",
       "75%      0.478261    0.500000    1.000000    0.500000    0.000000    0.066120   \n",
       "max      1.000000    1.000000    1.000000    1.000000    1.000000    0.397565   \n",
       "\n",
       "          housing        loan     contact         day       month    duration  \\\n",
       "count  737.000000  737.000000  737.000000  737.000000  737.000000  737.000000   \n",
       "mean     0.658073    0.124830    0.926730    0.449706    0.429012    0.087980   \n",
       "std      0.474677    0.330751    0.260756    0.260081    0.278046    0.081259   \n",
       "min      0.000000    0.000000    0.000000    0.000000    0.000000    0.000331   \n",
       "25%      0.000000    0.000000    1.000000    0.200000    0.272727    0.037736   \n",
       "50%      1.000000    0.000000    1.000000    0.433333    0.363636    0.065210   \n",
       "75%      1.000000    0.000000    1.000000    0.600000    0.636364    0.107249   \n",
       "max      1.000000    1.000000    1.000000    1.000000    1.000000    0.521351   \n",
       "\n",
       "         campaign       pdays    previous    poutcome           y  \n",
       "count  737.000000  737.000000  737.000000  737.000000  737.000000  \n",
       "mean     0.104342    0.259585    0.083786    0.265265    0.214383  \n",
       "std      0.159849    0.130139    0.122058    0.367480    0.410672  \n",
       "min      0.000000    0.000000    0.000000    0.000000    0.000000  \n",
       "25%      0.000000    0.166667    0.000000    0.000000    0.000000  \n",
       "50%      0.000000    0.219540    0.041667    0.000000    0.000000  \n",
       "75%      0.100000    0.378161    0.125000    0.500000    0.000000  \n",
       "max      1.000000    1.000000    1.000000    1.000000    1.000000  "
      ]
     },
     "execution_count": 6,
     "metadata": {},
     "output_type": "execute_result"
    }
   ],
   "source": [
    "df.describe()"
   ]
  },
  {
   "cell_type": "code",
   "execution_count": 7,
   "metadata": {},
   "outputs": [],
   "source": [
    "from sklearn.model_selection import train_test_split"
   ]
  },
  {
   "cell_type": "code",
   "execution_count": 8,
   "metadata": {},
   "outputs": [],
   "source": [
    "Y = df.pop(\"age\")\n",
    "X = df[[\"balance\", \"duration\"]]\n",
    "X_train, X_test, y_train, y_test = train_test_split(X, Y, test_size=0.1, random_state=101)"
   ]
  },
  {
   "cell_type": "code",
   "execution_count": 10,
   "metadata": {},
   "outputs": [
    {
     "data": {
      "text/plain": [
       "LinearRegression(copy_X=True, fit_intercept=True, n_jobs=1, normalize=False)"
      ]
     },
     "execution_count": 10,
     "metadata": {},
     "output_type": "execute_result"
    }
   ],
   "source": [
    "from sklearn.linear_model import LinearRegression\n",
    "linreg = LinearRegression()\n",
    "linreg.fit(X_train, y_train)"
   ]
  },
  {
   "cell_type": "code",
   "execution_count": 11,
   "metadata": {},
   "outputs": [
    {
     "data": {
      "text/plain": [
       "0.33556158688648924"
      ]
     },
     "execution_count": 11,
     "metadata": {},
     "output_type": "execute_result"
    }
   ],
   "source": [
    "linreg.intercept_"
   ]
  },
  {
   "cell_type": "code",
   "execution_count": 12,
   "metadata": {},
   "outputs": [
    {
     "data": {
      "text/plain": [
       "array([-0.05006745,  0.08865677])"
      ]
     },
     "execution_count": 12,
     "metadata": {},
     "output_type": "execute_result"
    }
   ],
   "source": [
    "linreg.coef_"
   ]
  },
  {
   "cell_type": "markdown",
   "metadata": {},
   "source": [
    "$$ y = \\theta_{2} * \\omega_{2} + \\theta_{1} * \\omega_{1} + \\theta_{0} $$\n",
    "\n",
    "$$ y = -0.05 * \\omega_{2} + 0.08 * \\omega_{1} + 0.33 $$"
   ]
  },
  {
   "cell_type": "code",
   "execution_count": 63,
   "metadata": {},
   "outputs": [
    {
     "data": {
      "text/plain": [
       "(663,)"
      ]
     },
     "execution_count": 63,
     "metadata": {},
     "output_type": "execute_result"
    }
   ],
   "source": [
    "import numpy as np\n",
    "y = linreg.intercept_ + linreg.coef_[0] * X_train.balance.values + linreg.coef_[1] * X_train.duration.values\n",
    "y.shape"
   ]
  },
  {
   "cell_type": "code",
   "execution_count": 64,
   "metadata": {},
   "outputs": [
    {
     "data": {
      "text/plain": [
       "0.2107793056175289"
      ]
     },
     "execution_count": 64,
     "metadata": {},
     "output_type": "execute_result"
    }
   ],
   "source": [
    "np.sqrt(np.sum((y-y_train.values)**2)/len(y))"
   ]
  },
  {
   "cell_type": "code",
   "execution_count": 70,
   "metadata": {},
   "outputs": [
    {
     "data": {
      "text/plain": [
       "0.2356079215399889"
      ]
     },
     "execution_count": 70,
     "metadata": {},
     "output_type": "execute_result"
    }
   ],
   "source": [
    "y_pred = linreg.intercept_ + linreg.coef_[0] * X_test.balance.values + linreg.coef_[1] * X_test.duration.values\n",
    "np.sqrt(np.sum((y_pred-y_test.values)**2)/len(y_pred))"
   ]
  },
  {
   "cell_type": "code",
   "execution_count": 73,
   "metadata": {},
   "outputs": [
    {
     "data": {
      "image/png": "[encoded data removed]",
      "text/plain": [
       "<matplotlib.figure.Figure at 0x7f9d5b8f2470>"
      ]
     },
     "metadata": {},
     "output_type": "display_data"
    }
   ],
   "source": [
    "import matplotlib as mpl\n",
    "from mpl_toolkits.mplot3d import Axes3D\n",
    "import numpy as np\n",
    "import matplotlib.pyplot as plt\n",
    "%matplotlib inline\n",
    "\n",
    "mpl.rcParams['legend.fontsize'] = 10\n",
    "fig = plt.figure()\n",
    "ax = fig.gca(projection='3d')\n",
    "ax.plot(X_train.balance.values[:7],\n",
    "        X_train.duration[:7],\n",
    "        y_train[:7],\n",
    "        label='Original Age',\n",
    "        linestyle=\"\",\n",
    "        marker=\"o\",\n",
    "        color=\"green\"\n",
    "       )\n",
    "ax.plot(X_train.balance.values[:7],\n",
    "        X_train.duration[:7],\n",
    "        y[:7],\n",
    "        label='Predicted Age',\n",
    "        linestyle=\"\",\n",
    "        marker=\"o\",\n",
    "        color=\"red\"\n",
    "       )\n",
    "ax.legend()\n",
    "\n",
    "plt.show()"
   ]
  },
  {
   "cell_type": "markdown",
   "metadata": {},
   "source": [
    "## Polynomial Regression"
   ]
  },
  {
   "cell_type": "markdown",
   "metadata": {},
   "source": [
    "<p>A regression equation is a polynomial regression equation if the power of independent variable is more than 1. The equation below represents a polynomial equation:</p>\n",
    "<p>In this regression technique, the best fit line is not a straight line. It is rather a curve that fits into the data points.</p>"
   ]
  },
  {
   "cell_type": "markdown",
   "metadata": {},
   "source": [
    "$$ y = \\theta_{n} * \\omega_{n}^{p} + \\theta_{n-1} * \\omega_{n-1}^{p-1} + ... + \\theta_{1} * \\omega_{1} + \\theta_{0} $$"
   ]
  },
  {
   "cell_type": "markdown",
   "metadata": {},
   "source": [
    "<h3>Important Points:</h3>\n",
    "\n",
    "<ul>\n",
    "    <li>While there might be a temptation to fit a higher degree polynomial to get lower error, this can result in over-fitting. Always plot the relationships to see the fit and focus on making sure that the curve fits the nature of the problem. Here is an example of how plotting can help:\n",
    "underfitting-overfitting</li>\n",
    "\n",
    "    <li>Especially look out for curve towards the ends and see whether those shapes and trends make sense. Higher polynomials can end up producing wierd results on extrapolation.</li>\n",
    "</ul>"
   ]
  },
  {
   "cell_type": "markdown",
   "metadata": {},
   "source": [
    "<img src=\"https://www.analyticsvidhya.com/wp-content/uploads/2015/02/underfitting-overfitting.png\" />"
   ]
  },
  {
   "cell_type": "code",
   "execution_count": 91,
   "metadata": {},
   "outputs": [],
   "source": [
    "from sklearn.preprocessing import PolynomialFeatures\n",
    "from sklearn.linear_model import LinearRegression"
   ]
  },
  {
   "cell_type": "code",
   "execution_count": 92,
   "metadata": {},
   "outputs": [
    {
     "data": {
      "text/plain": [
       "LinearRegression(copy_X=True, fit_intercept=True, n_jobs=1, normalize=False)"
      ]
     },
     "execution_count": 92,
     "metadata": {},
     "output_type": "execute_result"
    }
   ],
   "source": [
    "poly = PolynomialFeatures(degree=8)\n",
    "X_poly = poly.fit_transform(X_train)\n",
    "\n",
    "linreg_2 = LinearRegression()\n",
    "linreg_2.fit(X_poly, y_train)"
   ]
  },
  {
   "cell_type": "code",
   "execution_count": 93,
   "metadata": {},
   "outputs": [
    {
     "data": {
      "text/plain": [
       "array([ 1.55949369e+01, -1.29040504e+03, -8.44280127e+02,  3.00822956e+04,\n",
       "        4.60817063e+04,  1.14783000e+04, -3.57426878e+05, -9.51294078e+05,\n",
       "       -5.72611974e+05, -6.74945419e+04,  2.41284100e+06,  9.55264571e+06,\n",
       "        1.06392707e+07,  2.89409065e+06,  2.15377267e+05, -9.80630567e+06,\n",
       "       -5.00848185e+07, -9.40155912e+07, -4.50250340e+07, -7.24889668e+06,\n",
       "       -4.34998681e+05,  2.44670317e+07,  1.37347041e+08,  4.09595500e+08,\n",
       "        3.25762662e+08,  8.16850483e+07,  1.06511185e+07,  5.58484961e+05,\n",
       "       -3.51766112e+07, -1.86631498e+08, -8.23023617e+08, -1.05490977e+09,\n",
       "       -4.19925508e+08, -6.50831780e+07, -1.00737457e+07, -3.64244401e+05,\n",
       "        2.22967413e+07,  1.00671322e+08,  6.02641464e+08,  1.17028060e+09,\n",
       "        7.76230862e+08,  1.59457095e+08,  2.16111808e+07,  4.68168874e+06,\n",
       "        6.13985422e+04])"
      ]
     },
     "execution_count": 93,
     "metadata": {},
     "output_type": "execute_result"
    }
   ],
   "source": [
    "linreg_2.coef_"
   ]
  },
  {
   "cell_type": "code",
   "execution_count": 94,
   "metadata": {},
   "outputs": [
    {
     "data": {
      "text/plain": [
       "6.276978073017354"
      ]
     },
     "execution_count": 94,
     "metadata": {},
     "output_type": "execute_result"
    }
   ],
   "source": [
    "linreg_2.intercept_"
   ]
  },
  {
   "cell_type": "code",
   "execution_count": 95,
   "metadata": {},
   "outputs": [
    {
     "data": {
      "text/plain": [
       "0.2758142830304297"
      ]
     },
     "execution_count": 95,
     "metadata": {},
     "output_type": "execute_result"
    }
   ],
   "source": [
    "X_test_poly = poly.fit_transform(X_test)\n",
    "y_pred = linreg_2.predict(X_test_poly)\n",
    "np.sqrt(np.sum((y_pred-y_test.values)**2)/len(y_pred))"
   ]
  },
  {
   "cell_type": "markdown",
   "metadata": {},
   "source": [
    "## Logistic Regression"
   ]
  },
  {
   "cell_type": "markdown",
   "metadata": {},
   "source": [
    "<p style=\"text-align: justify;\">Logistic regression is used to find the probability of event=Success and event=Failure. We should&nbsp;use logistic regression when the&nbsp;dependent variable is binary (0/ 1, True/ False, Yes/ No) in nature. Here the value of Y ranges from 0 to 1 and it can represented by following equation.</p>"
   ]
  },
  {
   "cell_type": "markdown",
   "metadata": {},
   "source": [
    "<h3>The Logistic Function</h3>\n",
    "\n",
    "<div><img src=\"https://upload.wikimedia.org/wikipedia/commons/thumb/8/88/Logistic-curve.svg/480px-Logistic-curve.svg.png\" />\n",
    "</div>\n",
    "\n",
    "<p>$$ \\sigma (t)={\\frac {e^{t}}{e^{t}+1}}={\\frac {1}{1+e^{-t}}} $$</p>"
   ]
  },
  {
   "cell_type": "markdown",
   "metadata": {},
   "source": [
    "<p>Neural networks are somewhat related to logistic regression. Basically, we can think of logistic regression as a one layer neural network where we use the threshold function in the output layer if we have a binary classification task</p>\n",
    "\n",
    "<p><img src=\"https://sebastianraschka.com/images/faq/logisticregr-neuralnet/schematic.png\" alt=\"\"></p>"
   ]
  },
  {
   "cell_type": "markdown",
   "metadata": {},
   "source": [
    "<p><img src=\"https://kousikk.files.wordpress.com/2014/11/screen-shot-2014-11-14-at-10-40-49-am.png\" alt=\"\" width=\"640\" ></p>"
   ]
  },
  {
   "cell_type": "markdown",
   "metadata": {},
   "source": [
    "<h4>Important Points:</h4>\n",
    "\n",
    "<ul>\n",
    "<li style=\"text-align: justify;\">It is widely used for <strong>classification problems</strong></li>\n",
    "<li style=\"text-align: justify;\">Logistic&nbsp;regression doesn’t require&nbsp;linear relationship between dependent and independent variables.&nbsp; It&nbsp;can handle various types of relationships because it applies a non-linear log transformation to the predicted odds ratio</li>\n",
    "<li style=\"text-align: justify;\">To avoid&nbsp;over fitting and under fitting, we should include&nbsp;all significant variables. A good approach to ensure this practice is to use a step wise method to estimate the logistic regression</li>\n",
    "<li style=\"text-align: justify;\">It requires <strong>large sample sizes</strong> because maximum likelihood estimates are less powerful at low sample sizes than ordinary least square</li>\n",
    "<li style=\"text-align: justify;\">The independent variables should not be correlated with each other&nbsp;i.e. <strong>no multi collinearity</strong>.&nbsp; However, we have the options to include interaction effects of categorical variables in the analysis and in the model.</li>\n",
    "<li style=\"text-align: justify;\">If the&nbsp;values of dependent variable is ordinal, then it is called as <strong>Ordinal logistic regression</strong></li>\n",
    "<li style=\"text-align: justify;\">If dependent variable is multi class then it is known as <strong>Multinomial Logistic regression</strong>.</li>\n",
    "</ul>"
   ]
  },
  {
   "cell_type": "code",
   "execution_count": 123,
   "metadata": {},
   "outputs": [
    {
     "data": {
      "text/html": [
       "<div>\n",
       "<style scoped>\n",
       "    .dataframe tbody tr th:only-of-type {\n",
       "        vertical-align: middle;\n",
       "    }\n",
       "\n",
       "    .dataframe tbody tr th {\n",
       "        vertical-align: top;\n",
       "    }\n",
       "\n",
       "    .dataframe thead th {\n",
       "        text-align: right;\n",
       "    }\n",
       "</style>\n",
       "<table border=\"1\" class=\"dataframe\">\n",
       "  <thead>\n",
       "    <tr style=\"text-align: right;\">\n",
       "      <th></th>\n",
       "      <th>age</th>\n",
       "      <th>job</th>\n",
       "      <th>marital</th>\n",
       "      <th>education</th>\n",
       "      <th>default</th>\n",
       "      <th>balance</th>\n",
       "      <th>housing</th>\n",
       "      <th>loan</th>\n",
       "      <th>contact</th>\n",
       "      <th>day</th>\n",
       "      <th>month</th>\n",
       "      <th>duration</th>\n",
       "      <th>campaign</th>\n",
       "      <th>pdays</th>\n",
       "      <th>previous</th>\n",
       "      <th>poutcome</th>\n",
       "    </tr>\n",
       "  </thead>\n",
       "  <tbody>\n",
       "    <tr>\n",
       "      <th>0</th>\n",
       "      <td>30.0</td>\n",
       "      <td>8.0</td>\n",
       "      <td>1</td>\n",
       "      <td>2.0</td>\n",
       "      <td>0</td>\n",
       "      <td>0.068455</td>\n",
       "      <td>0</td>\n",
       "      <td>0</td>\n",
       "      <td>1.0</td>\n",
       "      <td>19</td>\n",
       "      <td>10</td>\n",
       "      <td>0.024826</td>\n",
       "      <td>1</td>\n",
       "      <td>0.000000</td>\n",
       "      <td>0</td>\n",
       "      <td>NaN</td>\n",
       "    </tr>\n",
       "    <tr>\n",
       "      <th>1</th>\n",
       "      <td>33.0</td>\n",
       "      <td>6.0</td>\n",
       "      <td>1</td>\n",
       "      <td>1.0</td>\n",
       "      <td>0</td>\n",
       "      <td>0.108750</td>\n",
       "      <td>1</td>\n",
       "      <td>1</td>\n",
       "      <td>1.0</td>\n",
       "      <td>11</td>\n",
       "      <td>5</td>\n",
       "      <td>0.071500</td>\n",
       "      <td>1</td>\n",
       "      <td>0.389908</td>\n",
       "      <td>4</td>\n",
       "      <td>0.0</td>\n",
       "    </tr>\n",
       "    <tr>\n",
       "      <th>2</th>\n",
       "      <td>35.0</td>\n",
       "      <td>0.0</td>\n",
       "      <td>0</td>\n",
       "      <td>0.0</td>\n",
       "      <td>0</td>\n",
       "      <td>0.062590</td>\n",
       "      <td>1</td>\n",
       "      <td>0</td>\n",
       "      <td>1.0</td>\n",
       "      <td>16</td>\n",
       "      <td>4</td>\n",
       "      <td>0.059914</td>\n",
       "      <td>1</td>\n",
       "      <td>0.379587</td>\n",
       "      <td>1</td>\n",
       "      <td>0.0</td>\n",
       "    </tr>\n",
       "    <tr>\n",
       "      <th>3</th>\n",
       "      <td>30.0</td>\n",
       "      <td>0.0</td>\n",
       "      <td>1</td>\n",
       "      <td>0.0</td>\n",
       "      <td>0</td>\n",
       "      <td>0.064281</td>\n",
       "      <td>1</td>\n",
       "      <td>1</td>\n",
       "      <td>NaN</td>\n",
       "      <td>3</td>\n",
       "      <td>6</td>\n",
       "      <td>0.064548</td>\n",
       "      <td>4</td>\n",
       "      <td>0.000000</td>\n",
       "      <td>0</td>\n",
       "      <td>NaN</td>\n",
       "    </tr>\n",
       "    <tr>\n",
       "      <th>4</th>\n",
       "      <td>59.0</td>\n",
       "      <td>3.0</td>\n",
       "      <td>1</td>\n",
       "      <td>1.0</td>\n",
       "      <td>0</td>\n",
       "      <td>0.044469</td>\n",
       "      <td>1</td>\n",
       "      <td>0</td>\n",
       "      <td>NaN</td>\n",
       "      <td>5</td>\n",
       "      <td>5</td>\n",
       "      <td>0.073486</td>\n",
       "      <td>1</td>\n",
       "      <td>0.000000</td>\n",
       "      <td>0</td>\n",
       "      <td>NaN</td>\n",
       "    </tr>\n",
       "  </tbody>\n",
       "</table>\n",
       "</div>"
      ],
      "text/plain": [
       "    age  job  marital  education  default   balance  housing  loan  contact  \\\n",
       "0  30.0  8.0        1        2.0        0  0.068455        0     0      1.0   \n",
       "1  33.0  6.0        1        1.0        0  0.108750        1     1      1.0   \n",
       "2  35.0  0.0        0        0.0        0  0.062590        1     0      1.0   \n",
       "3  30.0  0.0        1        0.0        0  0.064281        1     1      NaN   \n",
       "4  59.0  3.0        1        1.0        0  0.044469        1     0      NaN   \n",
       "\n",
       "   day  month  duration  campaign     pdays  previous  poutcome  \n",
       "0   19     10  0.024826         1  0.000000         0       NaN  \n",
       "1   11      5  0.071500         1  0.389908         4       0.0  \n",
       "2   16      4  0.059914         1  0.379587         1       0.0  \n",
       "3    3      6  0.064548         4  0.000000         0       NaN  \n",
       "4    5      5  0.073486         1  0.000000         0       NaN  "
      ]
     },
     "execution_count": 123,
     "metadata": {},
     "output_type": "execute_result"
    }
   ],
   "source": [
    "from sklearn.linear_model import LogisticRegression\n",
    "logistic_model = LogisticRegression()\n",
    "\n",
    "dataset = pd.read_csv(\"./bank/preprocessed.csv\")\n",
    "dataset = dataset.dropna(how='any')\n",
    "\n",
    "df.head()"
   ]
  },
  {
   "cell_type": "code",
   "execution_count": 124,
   "metadata": {},
   "outputs": [
    {
     "data": {
      "text/html": [
       "<div>\n",
       "<style scoped>\n",
       "    .dataframe tbody tr th:only-of-type {\n",
       "        vertical-align: middle;\n",
       "    }\n",
       "\n",
       "    .dataframe tbody tr th {\n",
       "        vertical-align: top;\n",
       "    }\n",
       "\n",
       "    .dataframe thead th {\n",
       "        text-align: right;\n",
       "    }\n",
       "</style>\n",
       "<table border=\"1\" class=\"dataframe\">\n",
       "  <thead>\n",
       "    <tr style=\"text-align: right;\">\n",
       "      <th></th>\n",
       "      <th>age</th>\n",
       "      <th>job</th>\n",
       "      <th>marital</th>\n",
       "      <th>education</th>\n",
       "      <th>default</th>\n",
       "      <th>balance</th>\n",
       "      <th>housing</th>\n",
       "      <th>loan</th>\n",
       "      <th>contact</th>\n",
       "      <th>day</th>\n",
       "      <th>month</th>\n",
       "      <th>duration</th>\n",
       "      <th>campaign</th>\n",
       "      <th>pdays</th>\n",
       "      <th>previous</th>\n",
       "      <th>poutcome</th>\n",
       "      <th>y</th>\n",
       "    </tr>\n",
       "  </thead>\n",
       "  <tbody>\n",
       "    <tr>\n",
       "      <th>1</th>\n",
       "      <td>0.173913</td>\n",
       "      <td>0.6</td>\n",
       "      <td>1</td>\n",
       "      <td>0.5</td>\n",
       "      <td>0</td>\n",
       "      <td>0.108750</td>\n",
       "      <td>1</td>\n",
       "      <td>1</td>\n",
       "      <td>1.0</td>\n",
       "      <td>0.333333</td>\n",
       "      <td>0.363636</td>\n",
       "      <td>0.071500</td>\n",
       "      <td>0.0</td>\n",
       "      <td>0.388506</td>\n",
       "      <td>0.125000</td>\n",
       "      <td>0.0</td>\n",
       "      <td>0</td>\n",
       "    </tr>\n",
       "    <tr>\n",
       "      <th>2</th>\n",
       "      <td>0.217391</td>\n",
       "      <td>0.0</td>\n",
       "      <td>0</td>\n",
       "      <td>0.0</td>\n",
       "      <td>0</td>\n",
       "      <td>0.062590</td>\n",
       "      <td>1</td>\n",
       "      <td>0</td>\n",
       "      <td>1.0</td>\n",
       "      <td>0.500000</td>\n",
       "      <td>0.272727</td>\n",
       "      <td>0.059914</td>\n",
       "      <td>0.0</td>\n",
       "      <td>0.378161</td>\n",
       "      <td>0.000000</td>\n",
       "      <td>0.0</td>\n",
       "      <td>0</td>\n",
       "    </tr>\n",
       "    <tr>\n",
       "      <th>5</th>\n",
       "      <td>0.217391</td>\n",
       "      <td>0.0</td>\n",
       "      <td>0</td>\n",
       "      <td>0.0</td>\n",
       "      <td>0</td>\n",
       "      <td>0.054496</td>\n",
       "      <td>0</td>\n",
       "      <td>0</td>\n",
       "      <td>1.0</td>\n",
       "      <td>0.733333</td>\n",
       "      <td>0.090909</td>\n",
       "      <td>0.045349</td>\n",
       "      <td>0.1</td>\n",
       "      <td>0.201149</td>\n",
       "      <td>0.083333</td>\n",
       "      <td>0.0</td>\n",
       "      <td>0</td>\n",
       "    </tr>\n",
       "    <tr>\n",
       "      <th>6</th>\n",
       "      <td>0.239130</td>\n",
       "      <td>0.7</td>\n",
       "      <td>1</td>\n",
       "      <td>0.0</td>\n",
       "      <td>0</td>\n",
       "      <td>0.048590</td>\n",
       "      <td>1</td>\n",
       "      <td>0</td>\n",
       "      <td>1.0</td>\n",
       "      <td>0.433333</td>\n",
       "      <td>0.363636</td>\n",
       "      <td>0.111552</td>\n",
       "      <td>0.0</td>\n",
       "      <td>0.378161</td>\n",
       "      <td>0.041667</td>\n",
       "      <td>0.5</td>\n",
       "      <td>0</td>\n",
       "    </tr>\n",
       "    <tr>\n",
       "      <th>9</th>\n",
       "      <td>0.391304</td>\n",
       "      <td>0.6</td>\n",
       "      <td>1</td>\n",
       "      <td>1.0</td>\n",
       "      <td>0</td>\n",
       "      <td>0.043288</td>\n",
       "      <td>1</td>\n",
       "      <td>1</td>\n",
       "      <td>1.0</td>\n",
       "      <td>0.533333</td>\n",
       "      <td>0.272727</td>\n",
       "      <td>0.102284</td>\n",
       "      <td>0.0</td>\n",
       "      <td>0.167816</td>\n",
       "      <td>0.041667</td>\n",
       "      <td>0.0</td>\n",
       "      <td>0</td>\n",
       "    </tr>\n",
       "  </tbody>\n",
       "</table>\n",
       "</div>"
      ],
      "text/plain": [
       "        age  job  marital  education  default   balance  housing  loan  \\\n",
       "1  0.173913  0.6        1        0.5        0  0.108750        1     1   \n",
       "2  0.217391  0.0        0        0.0        0  0.062590        1     0   \n",
       "5  0.217391  0.0        0        0.0        0  0.054496        0     0   \n",
       "6  0.239130  0.7        1        0.0        0  0.048590        1     0   \n",
       "9  0.391304  0.6        1        1.0        0  0.043288        1     1   \n",
       "\n",
       "   contact       day     month  duration  campaign     pdays  previous  \\\n",
       "1      1.0  0.333333  0.363636  0.071500       0.0  0.388506  0.125000   \n",
       "2      1.0  0.500000  0.272727  0.059914       0.0  0.378161  0.000000   \n",
       "5      1.0  0.733333  0.090909  0.045349       0.1  0.201149  0.083333   \n",
       "6      1.0  0.433333  0.363636  0.111552       0.0  0.378161  0.041667   \n",
       "9      1.0  0.533333  0.272727  0.102284       0.0  0.167816  0.041667   \n",
       "\n",
       "   poutcome  y  \n",
       "1       0.0  0  \n",
       "2       0.0  0  \n",
       "5       0.0  0  \n",
       "6       0.5  0  \n",
       "9       0.0  0  "
      ]
     },
     "execution_count": 124,
     "metadata": {},
     "output_type": "execute_result"
    }
   ],
   "source": [
    "scaler = MinMaxScaler()\n",
    "dataset[cols] = scaler.fit_transform(dataset[cols])\n",
    "dataset.head()"
   ]
  },
  {
   "cell_type": "code",
   "execution_count": 125,
   "metadata": {},
   "outputs": [
    {
     "data": {
      "text/plain": [
       "0.8243243243243243"
      ]
     },
     "execution_count": 125,
     "metadata": {},
     "output_type": "execute_result"
    }
   ],
   "source": [
    "Y = dataset.pop(\"y\")\n",
    "X = dataset\n",
    "\n",
    "X_train, X_test, y_train, y_test = train_test_split(X, Y, test_size=0.1, random_state=101)\n",
    "\n",
    "logistic_model.fit(X_train, y_train)\n",
    "logistic_model.score(X_test, y_test)"
   ]
  }
 ],
 "metadata": {
  "kernelspec": {
   "display_name": "Python 3",
   "language": "python",
   "name": "python3"
  },
  "language_info": {
   "codemirror_mode": {
    "name": "ipython",
    "version": 3
   },
   "file_extension": ".py",
   "mimetype": "text/x-python",
   "name": "python",
   "nbconvert_exporter": "python",
   "pygments_lexer": "ipython3",
   "version": "3.6.4"
  }
 },
 "nbformat": 4,
 "nbformat_minor": 2
}
